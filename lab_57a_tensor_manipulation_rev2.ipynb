{
  "nbformat": 4,
  "nbformat_minor": 0,
  "metadata": {
    "kernelspec": {
      "display_name": "Python 3",
      "name": "python3"
    },
    "language_info": {
      "codemirror_mode": {
        "name": "ipython",
        "version": 3
      },
      "file_extension": ".py",
      "mimetype": "text/x-python",
      "name": "python",
      "nbconvert_exporter": "python",
      "pygments_lexer": "ipython3",
      "version": "3.6.8"
    },
    "colab": {
      "provenance": [],
      "toc_visible": true,
      "include_colab_link": true
    }
  },
  "cells": [
    {
      "cell_type": "markdown",
      "metadata": {
        "id": "view-in-github",
        "colab_type": "text"
      },
      "source": [
        "<a href=\"https://colab.research.google.com/github/rtajeong/M4_new/blob/main/lab_57a_tensor_manipulation_rev2.ipynb\" target=\"_parent\"><img src=\"https://colab.research.google.com/assets/colab-badge.svg\" alt=\"Open In Colab\"/></a>"
      ]
    },
    {
      "cell_type": "markdown",
      "metadata": {
        "id": "Yk7f_1HiuUPT"
      },
      "source": [
        "# **Tensor Manipulation**\n",
        "- from Prof. Sunghun Kim's lecture lab\n",
        "- modified by jyj"
      ]
    },
    {
      "cell_type": "code",
      "metadata": {
        "id": "jV8_gOOnuUPX"
      },
      "source": [
        "# https://www.tensorflow.org/api_guides/python/array_ops\n",
        "import tensorflow as tf\n",
        "import numpy as np\n",
        "import pprint\n",
        "np.random.seed(17)  # for reproducibility\n",
        "\n",
        "pp = pprint.PrettyPrinter(indent=4)"
      ],
      "execution_count": null,
      "outputs": []
    },
    {
      "cell_type": "markdown",
      "metadata": {
        "id": "FXqDg2kFuUPy"
      },
      "source": [
        "# Arrays"
      ]
    },
    {
      "cell_type": "code",
      "metadata": {
        "id": "ZhZuLPawuUP1",
        "colab": {
          "base_uri": "https://localhost:8080/"
        },
        "outputId": "151aa619-2353-404a-98ce-338a56f366b4"
      },
      "source": [
        "t = np.array([0., 1., 2., 3., 4., 5., 6.])\n",
        "print(t)\n",
        "print(t.ndim) # rank\n",
        "print(t.shape) # shape\n",
        "print(t[0], t[1], t[-1])\n",
        "print(t[2:5], t[4:-1])\n",
        "print(t[:2], t[3:])"
      ],
      "execution_count": null,
      "outputs": [
        {
          "output_type": "stream",
          "name": "stdout",
          "text": [
            "[0. 1. 2. 3. 4. 5. 6.]\n",
            "1\n",
            "(7,)\n",
            "0.0 1.0 6.0\n",
            "[2. 3. 4.] [4. 5.]\n",
            "[0. 1.] [3. 4. 5. 6.]\n"
          ]
        }
      ]
    },
    {
      "cell_type": "markdown",
      "metadata": {
        "id": "1wuMr1_iuUQX"
      },
      "source": [
        "- 2D Array"
      ]
    },
    {
      "cell_type": "code",
      "metadata": {
        "id": "QDFwm9HRuUQb",
        "colab": {
          "base_uri": "https://localhost:8080/"
        },
        "outputId": "9c8d9b2c-0e45-4cd4-e3c1-861eb5ef0388"
      },
      "source": [
        "t = np.array([[1., 2., 3.],\n",
        "              [4., 5., 6.],\n",
        "              [7., 8., 9.],\n",
        "              [10., 11., 12.]])\n",
        "pp.pprint(t)\n",
        "print(t.ndim) # rank\n",
        "print(t.shape) # shape\n",
        "print(t.dtype)          # 64-bit default (tensors are 32-bit default)"
      ],
      "execution_count": null,
      "outputs": [
        {
          "output_type": "stream",
          "name": "stdout",
          "text": [
            "array([[ 1.,  2.,  3.],\n",
            "       [ 4.,  5.,  6.],\n",
            "       [ 7.,  8.,  9.],\n",
            "       [10., 11., 12.]])\n",
            "2\n",
            "(4, 3)\n",
            "float64\n"
          ]
        }
      ]
    },
    {
      "cell_type": "markdown",
      "metadata": {
        "id": "uuWxE1D9uUQu"
      },
      "source": [
        "# Tensor"
      ]
    },
    {
      "cell_type": "markdown",
      "source": [
        "##  Shape, Rank, Axis"
      ],
      "metadata": {
        "id": "J9yhCVy1nmA1"
      }
    },
    {
      "cell_type": "code",
      "metadata": {
        "id": "Ak7XN2LEuUQw",
        "colab": {
          "base_uri": "https://localhost:8080/"
        },
        "outputId": "f188aba3-6908-4bb1-c7fd-449c4117d6f3"
      },
      "source": [
        "t1 = tf.constant([1,2,3,4])\n",
        "t2 = tf.constant([[1,2,3,4]])\n",
        "print(t1, t1.numpy(), t1.dtype, t1.shape)\n",
        "print(t2, t2.numpy(), t2.dtype, t2.shape)"
      ],
      "execution_count": null,
      "outputs": [
        {
          "output_type": "stream",
          "name": "stdout",
          "text": [
            "tf.Tensor([1 2 3 4], shape=(4,), dtype=int32) [1 2 3 4] <dtype: 'int32'> (4,)\n",
            "tf.Tensor([[1 2 3 4]], shape=(1, 4), dtype=int32) [[1 2 3 4]] <dtype: 'int32'> (1, 4)\n"
          ]
        }
      ]
    },
    {
      "cell_type": "code",
      "source": [
        "t1"
      ],
      "metadata": {
        "colab": {
          "base_uri": "https://localhost:8080/"
        },
        "id": "_0X69vAueRYy",
        "outputId": "472d5fad-b247-4be0-aa26-0faa1856ffe6"
      },
      "execution_count": null,
      "outputs": [
        {
          "output_type": "execute_result",
          "data": {
            "text/plain": [
              "<tf.Tensor: shape=(4,), dtype=int32, numpy=array([1, 2, 3, 4], dtype=int32)>"
            ]
          },
          "metadata": {},
          "execution_count": 93
        }
      ]
    },
    {
      "cell_type": "code",
      "source": [
        "t1.numpy()"
      ],
      "metadata": {
        "colab": {
          "base_uri": "https://localhost:8080/"
        },
        "id": "cav50vUdewNS",
        "outputId": "48ebce50-b06b-4513-8b64-0064920dcbbc"
      },
      "execution_count": null,
      "outputs": [
        {
          "output_type": "execute_result",
          "data": {
            "text/plain": [
              "array([1, 2, 3, 4], dtype=int32)"
            ]
          },
          "metadata": {},
          "execution_count": 94
        }
      ]
    },
    {
      "cell_type": "code",
      "metadata": {
        "id": "zUYsuNRtuUQ-",
        "colab": {
          "base_uri": "https://localhost:8080/"
        },
        "outputId": "990d9571-6f05-4991-e0a0-ef84a068c099"
      },
      "source": [
        "t = tf.constant([[1,2],\n",
        "                 [3,4]])\n",
        "t"
      ],
      "execution_count": null,
      "outputs": [
        {
          "output_type": "execute_result",
          "data": {
            "text/plain": [
              "<tf.Tensor: shape=(2, 2), dtype=int32, numpy=\n",
              "array([[1, 2],\n",
              "       [3, 4]], dtype=int32)>"
            ]
          },
          "metadata": {},
          "execution_count": 95
        }
      ]
    },
    {
      "cell_type": "code",
      "metadata": {
        "id": "YU3ipzaAuURJ",
        "colab": {
          "base_uri": "https://localhost:8080/"
        },
        "outputId": "a22711d6-f32c-468d-e024-a82e0252eee7"
      },
      "source": [
        "t = tf.constant([[[1, 2, 3, 4],\n",
        "                   [5, 6, 7, 8],\n",
        "                   [9, 10, 11, 12]],\n",
        "\n",
        "                  [[13, 14, 15, 16],\n",
        "                   [17, 18, 19, 20],\n",
        "                   [21, 22, 23, 24]]])\n",
        "print(tf.shape(t))\n",
        "t"
      ],
      "execution_count": null,
      "outputs": [
        {
          "output_type": "stream",
          "name": "stdout",
          "text": [
            "tf.Tensor([2 3 4], shape=(3,), dtype=int32)\n"
          ]
        },
        {
          "output_type": "execute_result",
          "data": {
            "text/plain": [
              "<tf.Tensor: shape=(2, 3, 4), dtype=int32, numpy=\n",
              "array([[[ 1,  2,  3,  4],\n",
              "        [ 5,  6,  7,  8],\n",
              "        [ 9, 10, 11, 12]],\n",
              "\n",
              "       [[13, 14, 15, 16],\n",
              "        [17, 18, 19, 20],\n",
              "        [21, 22, 23, 24]]], dtype=int32)>"
            ]
          },
          "metadata": {},
          "execution_count": 96
        }
      ]
    },
    {
      "cell_type": "code",
      "metadata": {
        "id": "X0OOmBMWuURk",
        "colab": {
          "base_uri": "https://localhost:8080/"
        },
        "outputId": "ce1e588e-db10-4555-be6c-adbd7e222a0f"
      },
      "source": [
        "t = tf.constant( \\\n",
        "[\n",
        "    [\n",
        "        [\n",
        "            [1,2,3,4],\n",
        "            [5,6,7,8],\n",
        "            [9,10,11,12]\n",
        "        ],\n",
        "        [\n",
        "            [13,14,15,16],\n",
        "            [17,18,19,20],\n",
        "            [21,22,23,24]\n",
        "        ]\n",
        "    ]\n",
        "])\n",
        "t"
      ],
      "execution_count": null,
      "outputs": [
        {
          "output_type": "execute_result",
          "data": {
            "text/plain": [
              "<tf.Tensor: shape=(1, 2, 3, 4), dtype=int32, numpy=\n",
              "array([[[[ 1,  2,  3,  4],\n",
              "         [ 5,  6,  7,  8],\n",
              "         [ 9, 10, 11, 12]],\n",
              "\n",
              "        [[13, 14, 15, 16],\n",
              "         [17, 18, 19, 20],\n",
              "         [21, 22, 23, 24]]]], dtype=int32)>"
            ]
          },
          "metadata": {},
          "execution_count": 97
        }
      ]
    },
    {
      "cell_type": "markdown",
      "metadata": {
        "id": "cTRJ8uw9uUR3"
      },
      "source": [
        "## Matmul VS multiply"
      ]
    },
    {
      "cell_type": "code",
      "metadata": {
        "id": "9MJjj6LwuUR6",
        "colab": {
          "base_uri": "https://localhost:8080/"
        },
        "outputId": "b52c6d68-cbd5-4da0-a663-642fb70477b8"
      },
      "source": [
        "matrix1 = tf.constant([[3., 3.]])\n",
        "matrix2 = tf.constant([[2.],\n",
        "                       [2.]])\n",
        "print(matrix1, matrix2)\n",
        "tf.matmul(matrix1, matrix2)"
      ],
      "execution_count": null,
      "outputs": [
        {
          "output_type": "stream",
          "name": "stdout",
          "text": [
            "tf.Tensor([[3. 3.]], shape=(1, 2), dtype=float32) tf.Tensor(\n",
            "[[2.]\n",
            " [2.]], shape=(2, 1), dtype=float32)\n"
          ]
        },
        {
          "output_type": "execute_result",
          "data": {
            "text/plain": [
              "<tf.Tensor: shape=(1, 1), dtype=float32, numpy=array([[12.]], dtype=float32)>"
            ]
          },
          "metadata": {},
          "execution_count": 98
        }
      ]
    },
    {
      "cell_type": "code",
      "source": [
        "matrix1 @ matrix2"
      ],
      "metadata": {
        "colab": {
          "base_uri": "https://localhost:8080/"
        },
        "id": "qf_lZgn0f2gB",
        "outputId": "240a534e-a1b1-42db-fb02-8ecbaf39b04f"
      },
      "execution_count": null,
      "outputs": [
        {
          "output_type": "execute_result",
          "data": {
            "text/plain": [
              "<tf.Tensor: shape=(1, 1), dtype=float32, numpy=array([[12.]], dtype=float32)>"
            ]
          },
          "metadata": {},
          "execution_count": 99
        }
      ]
    },
    {
      "cell_type": "code",
      "metadata": {
        "id": "as219h2QuUSl",
        "colab": {
          "base_uri": "https://localhost:8080/"
        },
        "outputId": "dd1ba9b4-3e81-4b95-aff2-3f7c72e144c0"
      },
      "source": [
        "matrix1*matrix2    # broadcasting (be careful when using)"
      ],
      "execution_count": null,
      "outputs": [
        {
          "output_type": "execute_result",
          "data": {
            "text/plain": [
              "<tf.Tensor: shape=(2, 2), dtype=float32, numpy=\n",
              "array([[6., 6.],\n",
              "       [6., 6.]], dtype=float32)>"
            ]
          },
          "metadata": {},
          "execution_count": 100
        }
      ]
    },
    {
      "cell_type": "markdown",
      "metadata": {
        "id": "VONKpLjRuUS3"
      },
      "source": [
        "## Watch out broadcasting"
      ]
    },
    {
      "cell_type": "code",
      "metadata": {
        "id": "4KCzdBGkuUS5",
        "colab": {
          "base_uri": "https://localhost:8080/"
        },
        "outputId": "70ddd8e3-8ce7-4cf3-9bfc-daeacc2e2ecd"
      },
      "source": [
        "matrix1 = tf.constant([[3., 3.]])\n",
        "matrix2 = tf.constant([[2.],[2.]])\n",
        "matrix1+matrix2"
      ],
      "execution_count": null,
      "outputs": [
        {
          "output_type": "execute_result",
          "data": {
            "text/plain": [
              "<tf.Tensor: shape=(2, 2), dtype=float32, numpy=\n",
              "array([[5., 5.],\n",
              "       [5., 5.]], dtype=float32)>"
            ]
          },
          "metadata": {},
          "execution_count": 101
        }
      ]
    },
    {
      "cell_type": "code",
      "metadata": {
        "id": "KGTDnOVHuUTF",
        "colab": {
          "base_uri": "https://localhost:8080/"
        },
        "outputId": "f61c6451-4eaf-4c57-fc3f-2d3578b85e26"
      },
      "source": [
        "matrix1 = tf.constant([[3., 3.]])\n",
        "matrix2 = tf.constant([[2., 2.]])\n",
        "matrix1+matrix2"
      ],
      "execution_count": null,
      "outputs": [
        {
          "output_type": "execute_result",
          "data": {
            "text/plain": [
              "<tf.Tensor: shape=(1, 2), dtype=float32, numpy=array([[5., 5.]], dtype=float32)>"
            ]
          },
          "metadata": {},
          "execution_count": 102
        }
      ]
    },
    {
      "cell_type": "markdown",
      "metadata": {
        "id": "UbEwRHWTuUTQ"
      },
      "source": [
        "## Random values for variable initializations"
      ]
    },
    {
      "cell_type": "code",
      "source": [
        "tf.random.normal([1])"
      ],
      "metadata": {
        "colab": {
          "base_uri": "https://localhost:8080/"
        },
        "id": "IUy4151WQR3A",
        "outputId": "486fff91-9fe1-494f-bbff-1a8e00aa1d91"
      },
      "execution_count": null,
      "outputs": [
        {
          "output_type": "execute_result",
          "data": {
            "text/plain": [
              "<tf.Tensor: shape=(1,), dtype=float32, numpy=array([0.65648675], dtype=float32)>"
            ]
          },
          "metadata": {},
          "execution_count": 103
        }
      ]
    },
    {
      "cell_type": "code",
      "metadata": {
        "scrolled": true,
        "id": "YW4GhFN7uUTa",
        "colab": {
          "base_uri": "https://localhost:8080/"
        },
        "outputId": "866c6dcc-8b77-48da-a41d-a748907865de"
      },
      "source": [
        "tf.random.normal([3], mean=0., stddev=1.0)"
      ],
      "execution_count": null,
      "outputs": [
        {
          "output_type": "execute_result",
          "data": {
            "text/plain": [
              "<tf.Tensor: shape=(3,), dtype=float32, numpy=array([ 0.00924649, -0.66206276, -0.7410269 ], dtype=float32)>"
            ]
          },
          "metadata": {},
          "execution_count": 104
        }
      ]
    },
    {
      "cell_type": "code",
      "metadata": {
        "id": "Ec-2cLsPuUT4",
        "colab": {
          "base_uri": "https://localhost:8080/"
        },
        "outputId": "a036166d-948e-49be-9ea2-35ce4e48619d"
      },
      "source": [
        "tf.random.uniform([2])  # For floats, the default range is [0, 1).\n",
        "                        # for ints, at least maxval must be specified explicitly."
      ],
      "execution_count": null,
      "outputs": [
        {
          "output_type": "execute_result",
          "data": {
            "text/plain": [
              "<tf.Tensor: shape=(2,), dtype=float32, numpy=array([0.95831835, 0.01680839], dtype=float32)>"
            ]
          },
          "metadata": {},
          "execution_count": 105
        }
      ]
    },
    {
      "cell_type": "code",
      "metadata": {
        "id": "gQ-TK5hzuUUa",
        "colab": {
          "base_uri": "https://localhost:8080/"
        },
        "outputId": "c2be5afb-9a75-4565-ca8d-168bf8257a09"
      },
      "source": [
        "tf.random.set_seed(42)\n",
        "tf.random.uniform([2, 3]), tf.random.uniform((2, 3))   # both work, tensors or arrays preferred"
      ],
      "execution_count": null,
      "outputs": [
        {
          "output_type": "execute_result",
          "data": {
            "text/plain": [
              "(<tf.Tensor: shape=(2, 3), dtype=float32, numpy=\n",
              " array([[0.6645621 , 0.44100678, 0.3528825 ],\n",
              "        [0.46448255, 0.03366041, 0.68467236]], dtype=float32)>,\n",
              " <tf.Tensor: shape=(2, 3), dtype=float32, numpy=\n",
              " array([[0.68789124, 0.48447883, 0.9309944 ],\n",
              "        [0.252187  , 0.73115396, 0.89256823]], dtype=float32)>)"
            ]
          },
          "metadata": {},
          "execution_count": 106
        }
      ]
    },
    {
      "cell_type": "code",
      "metadata": {
        "id": "vFB-z692magM",
        "colab": {
          "base_uri": "https://localhost:8080/"
        },
        "outputId": "05dff10b-b430-434f-9db1-04e29e2e5e5b"
      },
      "source": [
        "np.random.uniform(size=(2,3)), np.random.uniform(size=[2,3])  # both work, tuples preferred"
      ],
      "execution_count": null,
      "outputs": [
        {
          "output_type": "execute_result",
          "data": {
            "text/plain": [
              "(array([[0.294665  , 0.53058676, 0.19152079],\n",
              "        [0.06790036, 0.78698546, 0.65633352]]),\n",
              " array([[0.6375209 , 0.57560289, 0.03906292],\n",
              "        [0.3578136 , 0.94568319, 0.06004468]]))"
            ]
          },
          "metadata": {},
          "execution_count": 107
        }
      ]
    },
    {
      "cell_type": "code",
      "metadata": {
        "colab": {
          "base_uri": "https://localhost:8080/"
        },
        "id": "DJXWi97lNSEt",
        "outputId": "5db90c3f-20eb-4e68-cce3-bb50cbd8b365"
      },
      "source": [
        "tf.round(tf.random.uniform([2, 3]))  # nearest integer"
      ],
      "execution_count": null,
      "outputs": [
        {
          "output_type": "execute_result",
          "data": {
            "text/plain": [
              "<tf.Tensor: shape=(2, 3), dtype=float32, numpy=\n",
              "array([[1., 1., 0.],\n",
              "       [0., 1., 0.]], dtype=float32)>"
            ]
          },
          "metadata": {},
          "execution_count": 108
        }
      ]
    },
    {
      "cell_type": "code",
      "metadata": {
        "colab": {
          "base_uri": "https://localhost:8080/"
        },
        "id": "b4T6Ag_5P1bw",
        "outputId": "3c695593-d36d-468a-df19-7dfe6d8b8d89"
      },
      "source": [
        "np.round(tf.random.uniform([2, 3]), 3)   # number of fractional digits"
      ],
      "execution_count": null,
      "outputs": [
        {
          "output_type": "execute_result",
          "data": {
            "text/plain": [
              "array([[0.74 , 0.339, 0.569],\n",
              "       [0.448, 0.293, 0.426]], dtype=float32)"
            ]
          },
          "metadata": {},
          "execution_count": 109
        }
      ]
    },
    {
      "cell_type": "markdown",
      "metadata": {
        "id": "CFWtbNXauUUv"
      },
      "source": [
        "## Reduce Mean/Sum"
      ]
    },
    {
      "cell_type": "code",
      "metadata": {
        "id": "sHyRL7AonNpM",
        "colab": {
          "base_uri": "https://localhost:8080/"
        },
        "outputId": "32f94abb-6de8-4ef6-834e-a1054a863c0c"
      },
      "source": [
        "np.array([1,2,3]).sum()     # pytorch also uses sum()"
      ],
      "execution_count": null,
      "outputs": [
        {
          "output_type": "execute_result",
          "data": {
            "text/plain": [
              "6"
            ]
          },
          "metadata": {},
          "execution_count": 110
        }
      ]
    },
    {
      "cell_type": "code",
      "metadata": {
        "id": "ufV2BHSKuUUy",
        "colab": {
          "base_uri": "https://localhost:8080/"
        },
        "outputId": "1b008fc2-955c-40a5-eda1-660f37f91b1c"
      },
      "source": [
        "tf.reduce_sum([1., 2.], axis=0)"
      ],
      "execution_count": null,
      "outputs": [
        {
          "output_type": "execute_result",
          "data": {
            "text/plain": [
              "<tf.Tensor: shape=(), dtype=float32, numpy=3.0>"
            ]
          },
          "metadata": {},
          "execution_count": 111
        }
      ]
    },
    {
      "cell_type": "markdown",
      "source": [
        "- tf.constant: immutable tensors\n",
        "- tf.Variable: mutable tensors, can be modified using\n",
        "  - \"assign()\", or\n",
        "  - gradient-baed optiization algorithms"
      ],
      "metadata": {
        "id": "qBVIXl9Psgus"
      }
    },
    {
      "cell_type": "code",
      "metadata": {
        "id": "TXYIK7zHuUVK",
        "colab": {
          "base_uri": "https://localhost:8080/"
        },
        "outputId": "12fdbb0e-103b-46e1-86b2-5d5f8a81ffa1"
      },
      "source": [
        "x = [[1., 2.],\n",
        "     [3., 4.]]\n",
        "\n",
        "print(tf.constant(x))\n",
        "print(tf.reduce_mean(x))\n",
        "print(tf.reduce_mean(x, axis=0))\n",
        "print(tf.reduce_mean(x, axis=1))"
      ],
      "execution_count": null,
      "outputs": [
        {
          "output_type": "stream",
          "name": "stdout",
          "text": [
            "tf.Tensor(\n",
            "[[1. 2.]\n",
            " [3. 4.]], shape=(2, 2), dtype=float32)\n",
            "tf.Tensor(2.5, shape=(), dtype=float32)\n",
            "tf.Tensor([2. 3.], shape=(2,), dtype=float32)\n",
            "tf.Tensor([1.5 3.5], shape=(2,), dtype=float32)\n"
          ]
        }
      ]
    },
    {
      "cell_type": "code",
      "source": [
        "xc = tf.constant(x)\n",
        "xV = tf.Variable(x)\n",
        "try:\n",
        "    xc[0] = 7\n",
        "except:\n",
        "    print(\"Error: can not be assigned.\")\n",
        "\n",
        "try:\n",
        "    xV[0] = 7\n",
        "except:\n",
        "    print(\"Error: use assign().\")\n",
        "\n",
        "xV[0,0].assign(7)\n",
        "xV"
      ],
      "metadata": {
        "colab": {
          "base_uri": "https://localhost:8080/"
        },
        "id": "_nGgFvEVuIy_",
        "outputId": "9f7e9c1d-826d-451c-fcba-5c12b27a29e9"
      },
      "execution_count": null,
      "outputs": [
        {
          "output_type": "stream",
          "name": "stdout",
          "text": [
            "Error: can not be assigned.\n",
            "Error: use assign().\n"
          ]
        },
        {
          "output_type": "execute_result",
          "data": {
            "text/plain": [
              "<tf.Variable 'Variable:0' shape=(2, 2) dtype=float32, numpy=\n",
              "array([[7., 2.],\n",
              "       [3., 4.]], dtype=float32)>"
            ]
          },
          "metadata": {},
          "execution_count": 113
        }
      ]
    },
    {
      "cell_type": "code",
      "metadata": {
        "id": "CGoKlpYWuUXF",
        "colab": {
          "base_uri": "https://localhost:8080/"
        },
        "outputId": "418b2d7c-acd8-486e-f159-b6a9f607d90f"
      },
      "source": [
        "tf.reduce_mean(x, axis=-1)  # 가장 안쪽 (last rank) axis"
      ],
      "execution_count": null,
      "outputs": [
        {
          "output_type": "execute_result",
          "data": {
            "text/plain": [
              "<tf.Tensor: shape=(2,), dtype=float32, numpy=array([1.5, 3.5], dtype=float32)>"
            ]
          },
          "metadata": {},
          "execution_count": 114
        }
      ]
    },
    {
      "cell_type": "code",
      "metadata": {
        "id": "OKIq6YEeuUXU",
        "colab": {
          "base_uri": "https://localhost:8080/"
        },
        "outputId": "ba8e2836-c7f3-4c0e-cd63-c5b99b6cc6bc"
      },
      "source": [
        "tf.reduce_sum(x) , tf.reduce_sum(x, axis=0), tf.reduce_sum(x, axis=-1), tf.reduce_mean(tf.reduce_sum(x, axis=-1))"
      ],
      "execution_count": null,
      "outputs": [
        {
          "output_type": "execute_result",
          "data": {
            "text/plain": [
              "(<tf.Tensor: shape=(), dtype=float32, numpy=10.0>,\n",
              " <tf.Tensor: shape=(2,), dtype=float32, numpy=array([4., 6.], dtype=float32)>,\n",
              " <tf.Tensor: shape=(2,), dtype=float32, numpy=array([3., 7.], dtype=float32)>,\n",
              " <tf.Tensor: shape=(), dtype=float32, numpy=5.0>)"
            ]
          },
          "metadata": {},
          "execution_count": 115
        }
      ]
    },
    {
      "cell_type": "markdown",
      "source": [
        "## Sorting"
      ],
      "metadata": {
        "id": "TLoEi3QS7-sb"
      }
    },
    {
      "cell_type": "code",
      "source": [
        "mat = [[13,12,11],\n",
        "       [12,11,13],\n",
        "       [11,13,12]]\n",
        "np.sort(mat, axis=0)"
      ],
      "metadata": {
        "colab": {
          "base_uri": "https://localhost:8080/"
        },
        "id": "3bgMthDp8BWA",
        "outputId": "e6567d37-7924-4435-ca7b-ade49ec17e08"
      },
      "execution_count": null,
      "outputs": [
        {
          "output_type": "execute_result",
          "data": {
            "text/plain": [
              "array([[11, 11, 11],\n",
              "       [12, 12, 12],\n",
              "       [13, 13, 13]])"
            ]
          },
          "metadata": {},
          "execution_count": 116
        }
      ]
    },
    {
      "cell_type": "code",
      "source": [
        "np.argsort(mat, axis=0)"
      ],
      "metadata": {
        "colab": {
          "base_uri": "https://localhost:8080/"
        },
        "id": "7hWf1f308ExR",
        "outputId": "3fadd431-6d9d-4a64-bb8b-bccf73382b46"
      },
      "execution_count": null,
      "outputs": [
        {
          "output_type": "execute_result",
          "data": {
            "text/plain": [
              "array([[2, 1, 0],\n",
              "       [1, 0, 2],\n",
              "       [0, 2, 1]])"
            ]
          },
          "metadata": {},
          "execution_count": 117
        }
      ]
    },
    {
      "cell_type": "code",
      "source": [
        "np.sort(mat, axis=1)"
      ],
      "metadata": {
        "colab": {
          "base_uri": "https://localhost:8080/"
        },
        "id": "yH7yLUPJ8Evs",
        "outputId": "3e2533f5-190c-444c-f469-bca41009da4f"
      },
      "execution_count": null,
      "outputs": [
        {
          "output_type": "execute_result",
          "data": {
            "text/plain": [
              "array([[11, 12, 13],\n",
              "       [11, 12, 13],\n",
              "       [11, 12, 13]])"
            ]
          },
          "metadata": {},
          "execution_count": 118
        }
      ]
    },
    {
      "cell_type": "code",
      "source": [
        "tf.sort(mat, axis=0)"
      ],
      "metadata": {
        "colab": {
          "base_uri": "https://localhost:8080/"
        },
        "id": "Xu-QkQNK8Eqv",
        "outputId": "da5667df-615b-4d44-8e77-89c383334522"
      },
      "execution_count": null,
      "outputs": [
        {
          "output_type": "execute_result",
          "data": {
            "text/plain": [
              "<tf.Tensor: shape=(3, 3), dtype=int32, numpy=\n",
              "array([[11, 11, 11],\n",
              "       [12, 12, 12],\n",
              "       [13, 13, 13]], dtype=int32)>"
            ]
          },
          "metadata": {},
          "execution_count": 119
        }
      ]
    },
    {
      "cell_type": "code",
      "source": [
        "tf.sort(mat, axis=1)"
      ],
      "metadata": {
        "colab": {
          "base_uri": "https://localhost:8080/"
        },
        "id": "xPMc2oAp8Emu",
        "outputId": "c18014b5-5015-41c6-f1c7-32630a306e59"
      },
      "execution_count": null,
      "outputs": [
        {
          "output_type": "execute_result",
          "data": {
            "text/plain": [
              "<tf.Tensor: shape=(3, 3), dtype=int32, numpy=\n",
              "array([[11, 12, 13],\n",
              "       [11, 12, 13],\n",
              "       [11, 12, 13]], dtype=int32)>"
            ]
          },
          "metadata": {},
          "execution_count": 120
        }
      ]
    },
    {
      "cell_type": "code",
      "source": [
        "tf.sort(mat, axis=-1)"
      ],
      "metadata": {
        "colab": {
          "base_uri": "https://localhost:8080/"
        },
        "id": "WJgW0UHu8Ed4",
        "outputId": "46b83190-9c47-4fd0-f64a-ed04bfe9116f"
      },
      "execution_count": null,
      "outputs": [
        {
          "output_type": "execute_result",
          "data": {
            "text/plain": [
              "<tf.Tensor: shape=(3, 3), dtype=int32, numpy=\n",
              "array([[11, 12, 13],\n",
              "       [11, 12, 13],\n",
              "       [11, 12, 13]], dtype=int32)>"
            ]
          },
          "metadata": {},
          "execution_count": 121
        }
      ]
    },
    {
      "cell_type": "code",
      "source": [
        "tf.argsort(mat, 0)"
      ],
      "metadata": {
        "colab": {
          "base_uri": "https://localhost:8080/"
        },
        "id": "hSCz1-wO8N8C",
        "outputId": "8f31e3c0-9ab5-4f96-db9d-46f06acd2380"
      },
      "execution_count": null,
      "outputs": [
        {
          "output_type": "execute_result",
          "data": {
            "text/plain": [
              "<tf.Tensor: shape=(3, 3), dtype=int32, numpy=\n",
              "array([[2, 1, 0],\n",
              "       [1, 0, 2],\n",
              "       [0, 2, 1]], dtype=int32)>"
            ]
          },
          "metadata": {},
          "execution_count": 122
        }
      ]
    },
    {
      "cell_type": "markdown",
      "metadata": {
        "id": "3ZTq9GGiuUY3"
      },
      "source": [
        "## Argmax with axis"
      ]
    },
    {
      "cell_type": "code",
      "metadata": {
        "id": "UEE5WMQquUY6",
        "colab": {
          "base_uri": "https://localhost:8080/"
        },
        "outputId": "7e5bc7af-3bac-4ef5-b0f7-b6bdd9ab329c"
      },
      "source": [
        "x = [[0, 1, 2],\n",
        "     [2, 1, 0]]\n",
        "tf.argmax(x, axis=0)"
      ],
      "execution_count": null,
      "outputs": [
        {
          "output_type": "execute_result",
          "data": {
            "text/plain": [
              "<tf.Tensor: shape=(3,), dtype=int64, numpy=array([1, 0, 0])>"
            ]
          },
          "metadata": {},
          "execution_count": 123
        }
      ]
    },
    {
      "cell_type": "code",
      "metadata": {
        "id": "OtxjDfTBuUZK",
        "colab": {
          "base_uri": "https://localhost:8080/"
        },
        "outputId": "302c5228-b2b9-4a33-a624-0eff09a74516"
      },
      "source": [
        "tf.argmax(x, axis=1)"
      ],
      "execution_count": null,
      "outputs": [
        {
          "output_type": "execute_result",
          "data": {
            "text/plain": [
              "<tf.Tensor: shape=(2,), dtype=int64, numpy=array([2, 0])>"
            ]
          },
          "metadata": {},
          "execution_count": 124
        }
      ]
    },
    {
      "cell_type": "code",
      "metadata": {
        "id": "Wd1VxtyduUZs",
        "colab": {
          "base_uri": "https://localhost:8080/"
        },
        "outputId": "e61d412a-f856-4989-ad55-fb55fc8b8847"
      },
      "source": [
        "tf.argmax(x, axis=-1)"
      ],
      "execution_count": null,
      "outputs": [
        {
          "output_type": "execute_result",
          "data": {
            "text/plain": [
              "<tf.Tensor: shape=(2,), dtype=int64, numpy=array([2, 0])>"
            ]
          },
          "metadata": {},
          "execution_count": 125
        }
      ]
    },
    {
      "cell_type": "markdown",
      "metadata": {
        "id": "b9AzA1-3uUZ7"
      },
      "source": [
        "## Reshape, squeeze, expand_dims"
      ]
    },
    {
      "cell_type": "code",
      "metadata": {
        "id": "CZQOF6OAuUZ9",
        "colab": {
          "base_uri": "https://localhost:8080/"
        },
        "outputId": "243512e4-a923-4ec8-eb19-60b1583b1f8a"
      },
      "source": [
        "t = np.array([[[0, 1, 2],\n",
        "               [3, 4, 5]],\n",
        "\n",
        "              [[6, 7, 8],\n",
        "               [9, 10, 11]]])\n",
        "t.shape"
      ],
      "execution_count": null,
      "outputs": [
        {
          "output_type": "execute_result",
          "data": {
            "text/plain": [
              "(2, 2, 3)"
            ]
          },
          "metadata": {},
          "execution_count": 126
        }
      ]
    },
    {
      "cell_type": "code",
      "metadata": {
        "id": "VYHELFHEuUaH",
        "colab": {
          "base_uri": "https://localhost:8080/"
        },
        "outputId": "879927c8-3cd8-40a2-c2fa-f8f6e2270f7f"
      },
      "source": [
        "tf.reshape(t, shape=[-1, 3])"
      ],
      "execution_count": null,
      "outputs": [
        {
          "output_type": "execute_result",
          "data": {
            "text/plain": [
              "<tf.Tensor: shape=(4, 3), dtype=int64, numpy=\n",
              "array([[ 0,  1,  2],\n",
              "       [ 3,  4,  5],\n",
              "       [ 6,  7,  8],\n",
              "       [ 9, 10, 11]])>"
            ]
          },
          "metadata": {},
          "execution_count": 127
        }
      ]
    },
    {
      "cell_type": "code",
      "metadata": {
        "id": "hUi-1GFEuUac",
        "colab": {
          "base_uri": "https://localhost:8080/"
        },
        "outputId": "c236e79b-5a4e-48c7-e273-cf1096182b14"
      },
      "source": [
        "tf.reshape(t, shape=[-1, 1, 3])"
      ],
      "execution_count": null,
      "outputs": [
        {
          "output_type": "execute_result",
          "data": {
            "text/plain": [
              "<tf.Tensor: shape=(4, 1, 3), dtype=int64, numpy=\n",
              "array([[[ 0,  1,  2]],\n",
              "\n",
              "       [[ 3,  4,  5]],\n",
              "\n",
              "       [[ 6,  7,  8]],\n",
              "\n",
              "       [[ 9, 10, 11]]])>"
            ]
          },
          "metadata": {},
          "execution_count": 128
        }
      ]
    },
    {
      "cell_type": "code",
      "metadata": {
        "id": "h0BZ0ZfFuUa0",
        "colab": {
          "base_uri": "https://localhost:8080/"
        },
        "outputId": "54bcab80-5d8f-4e77-c885-4519abfb7abb"
      },
      "source": [
        "t = [[0],\n",
        "     [1],\n",
        "     [2]]\n",
        "print(tf.shape(t))\n",
        "tf.squeeze(t)"
      ],
      "execution_count": null,
      "outputs": [
        {
          "output_type": "stream",
          "name": "stdout",
          "text": [
            "tf.Tensor([3 1], shape=(2,), dtype=int32)\n"
          ]
        },
        {
          "output_type": "execute_result",
          "data": {
            "text/plain": [
              "<tf.Tensor: shape=(3,), dtype=int32, numpy=array([0, 1, 2], dtype=int32)>"
            ]
          },
          "metadata": {},
          "execution_count": 129
        }
      ]
    },
    {
      "cell_type": "code",
      "metadata": {
        "id": "FRoHWAHxuUbB",
        "colab": {
          "base_uri": "https://localhost:8080/"
        },
        "outputId": "dc1bbe32-3ce2-4595-e74c-4e19cfe4073c"
      },
      "source": [
        "tf.expand_dims([0, 1, 2], 0), tf.expand_dims([0, 1, 2], 1)  # axis 추가"
      ],
      "execution_count": null,
      "outputs": [
        {
          "output_type": "execute_result",
          "data": {
            "text/plain": [
              "(<tf.Tensor: shape=(1, 3), dtype=int32, numpy=array([[0, 1, 2]], dtype=int32)>,\n",
              " <tf.Tensor: shape=(3, 1), dtype=int32, numpy=\n",
              " array([[0],\n",
              "        [1],\n",
              "        [2]], dtype=int32)>)"
            ]
          },
          "metadata": {},
          "execution_count": 130
        }
      ]
    },
    {
      "cell_type": "markdown",
      "metadata": {
        "id": "eRi7FHbsuUbb"
      },
      "source": [
        "## One hot"
      ]
    },
    {
      "cell_type": "code",
      "metadata": {
        "id": "M8_xkEN5uUbd",
        "colab": {
          "base_uri": "https://localhost:8080/"
        },
        "outputId": "d9d93865-27d4-4f72-bae0-6c58720c2c84"
      },
      "source": [
        "tf.one_hot([[0], [1], [2], [0]], depth=3) # rank 가 하나 늘어남"
      ],
      "execution_count": null,
      "outputs": [
        {
          "output_type": "execute_result",
          "data": {
            "text/plain": [
              "<tf.Tensor: shape=(4, 1, 3), dtype=float32, numpy=\n",
              "array([[[1., 0., 0.]],\n",
              "\n",
              "       [[0., 1., 0.]],\n",
              "\n",
              "       [[0., 0., 1.]],\n",
              "\n",
              "       [[1., 0., 0.]]], dtype=float32)>"
            ]
          },
          "metadata": {},
          "execution_count": 131
        }
      ]
    },
    {
      "cell_type": "code",
      "source": [
        "tf.one_hot([0, 1, 2, 0], depth=3)"
      ],
      "metadata": {
        "colab": {
          "base_uri": "https://localhost:8080/"
        },
        "id": "JJSTUmWQwOHg",
        "outputId": "489d0ada-ab19-45dc-a8d8-2c456045e1d7"
      },
      "execution_count": null,
      "outputs": [
        {
          "output_type": "execute_result",
          "data": {
            "text/plain": [
              "<tf.Tensor: shape=(4, 3), dtype=float32, numpy=\n",
              "array([[1., 0., 0.],\n",
              "       [0., 1., 0.],\n",
              "       [0., 0., 1.],\n",
              "       [1., 0., 0.]], dtype=float32)>"
            ]
          },
          "metadata": {},
          "execution_count": 132
        }
      ]
    },
    {
      "cell_type": "code",
      "metadata": {
        "id": "HCudlqhouUbp",
        "colab": {
          "base_uri": "https://localhost:8080/"
        },
        "outputId": "3ff3adf8-cfbf-4550-cd2d-c619b89a782f"
      },
      "source": [
        "t = tf.one_hot([[0], [1], [2], [0]], depth=3)\n",
        "tf.reshape(t, shape=[-1, 3])"
      ],
      "execution_count": null,
      "outputs": [
        {
          "output_type": "execute_result",
          "data": {
            "text/plain": [
              "<tf.Tensor: shape=(4, 3), dtype=float32, numpy=\n",
              "array([[1., 0., 0.],\n",
              "       [0., 1., 0.],\n",
              "       [0., 0., 1.],\n",
              "       [1., 0., 0.]], dtype=float32)>"
            ]
          },
          "metadata": {},
          "execution_count": 133
        }
      ]
    },
    {
      "cell_type": "markdown",
      "metadata": {
        "id": "jOSn1rj8uUb0"
      },
      "source": [
        "## Casting"
      ]
    },
    {
      "cell_type": "code",
      "metadata": {
        "id": "ca8SRZpIuUb2",
        "colab": {
          "base_uri": "https://localhost:8080/"
        },
        "outputId": "9a06a7cd-68bc-41a4-962f-ab8a151bdf7f"
      },
      "source": [
        "tf.cast([1.8, 2.2, 3.3, 4.9], tf.int32)   # type 변경"
      ],
      "execution_count": null,
      "outputs": [
        {
          "output_type": "execute_result",
          "data": {
            "text/plain": [
              "<tf.Tensor: shape=(4,), dtype=int32, numpy=array([1, 2, 3, 4], dtype=int32)>"
            ]
          },
          "metadata": {},
          "execution_count": 134
        }
      ]
    },
    {
      "cell_type": "code",
      "metadata": {
        "id": "BYNzKa6cuUcu",
        "colab": {
          "base_uri": "https://localhost:8080/"
        },
        "outputId": "88b12035-0c99-4253-f309-d416566523af"
      },
      "source": [
        "print([True, False, 1 == 1, 0 == 1])\n",
        "tf.cast([True, False, 1 == 1, 0 == 1], tf.int32)  # True->1, False->0"
      ],
      "execution_count": null,
      "outputs": [
        {
          "output_type": "stream",
          "name": "stdout",
          "text": [
            "[True, False, True, False]\n"
          ]
        },
        {
          "output_type": "execute_result",
          "data": {
            "text/plain": [
              "<tf.Tensor: shape=(4,), dtype=int32, numpy=array([1, 0, 1, 0], dtype=int32)>"
            ]
          },
          "metadata": {},
          "execution_count": 135
        }
      ]
    },
    {
      "cell_type": "markdown",
      "metadata": {
        "id": "uGLGK7a6uUc8"
      },
      "source": [
        "## Stack"
      ]
    },
    {
      "cell_type": "code",
      "metadata": {
        "id": "54VMlJsAuUdA",
        "colab": {
          "base_uri": "https://localhost:8080/"
        },
        "outputId": "382a605e-3ff1-4220-efae-1e913c953074"
      },
      "source": [
        "x = [1, 4]\n",
        "y = [2, 5]\n",
        "z = [3, 6]\n",
        "\n",
        "# Pack along first dim.\n",
        "tf.stack([x, y, z], axis=0)"
      ],
      "execution_count": null,
      "outputs": [
        {
          "output_type": "execute_result",
          "data": {
            "text/plain": [
              "<tf.Tensor: shape=(3, 2), dtype=int32, numpy=\n",
              "array([[1, 4],\n",
              "       [2, 5],\n",
              "       [3, 6]], dtype=int32)>"
            ]
          },
          "metadata": {},
          "execution_count": 136
        }
      ]
    },
    {
      "cell_type": "code",
      "metadata": {
        "id": "JHoamuz4uUdS",
        "colab": {
          "base_uri": "https://localhost:8080/"
        },
        "outputId": "25ff4c49-d8bc-46dd-b4cb-1589a083a979"
      },
      "source": [
        "tf.stack([x, y, z], axis=1)"
      ],
      "execution_count": null,
      "outputs": [
        {
          "output_type": "execute_result",
          "data": {
            "text/plain": [
              "<tf.Tensor: shape=(2, 3), dtype=int32, numpy=\n",
              "array([[1, 2, 3],\n",
              "       [4, 5, 6]], dtype=int32)>"
            ]
          },
          "metadata": {},
          "execution_count": 137
        }
      ]
    },
    {
      "cell_type": "markdown",
      "metadata": {
        "id": "vWjqamDOuUdb"
      },
      "source": [
        "## Ones like and Zeros like"
      ]
    },
    {
      "cell_type": "code",
      "metadata": {
        "id": "V-TY_87KuUde",
        "colab": {
          "base_uri": "https://localhost:8080/"
        },
        "outputId": "370a7210-713d-4771-e806-a68c46e5efac"
      },
      "source": [
        "x = [[0, 1, 2],\n",
        "     [2, 1, 0]]\n",
        "\n",
        "tf.ones_like(x)  # 모양이 같게"
      ],
      "execution_count": null,
      "outputs": [
        {
          "output_type": "execute_result",
          "data": {
            "text/plain": [
              "<tf.Tensor: shape=(2, 3), dtype=int32, numpy=\n",
              "array([[1, 1, 1],\n",
              "       [1, 1, 1]], dtype=int32)>"
            ]
          },
          "metadata": {},
          "execution_count": 138
        }
      ]
    },
    {
      "cell_type": "code",
      "metadata": {
        "id": "D3p2kNXOuUd2",
        "colab": {
          "base_uri": "https://localhost:8080/"
        },
        "outputId": "ba4b9f1b-1ae6-4844-bd8d-334e0eaff5ff"
      },
      "source": [
        "tf.zeros_like(x)"
      ],
      "execution_count": null,
      "outputs": [
        {
          "output_type": "execute_result",
          "data": {
            "text/plain": [
              "<tf.Tensor: shape=(2, 3), dtype=int32, numpy=\n",
              "array([[0, 0, 0],\n",
              "       [0, 0, 0]], dtype=int32)>"
            ]
          },
          "metadata": {},
          "execution_count": 139
        }
      ]
    },
    {
      "cell_type": "markdown",
      "metadata": {
        "id": "fh7my9fcuUeI"
      },
      "source": [
        "## Zip\n"
      ]
    },
    {
      "cell_type": "code",
      "metadata": {
        "id": "MLXDku7huUeK",
        "colab": {
          "base_uri": "https://localhost:8080/"
        },
        "outputId": "b18b88d0-c37c-4cc0-ba9b-c5bc3736f908"
      },
      "source": [
        "for x, y in zip([1, 2, 3], [4, 5, 6]):   # zip is iterable\n",
        "    print(x, y)"
      ],
      "execution_count": null,
      "outputs": [
        {
          "output_type": "stream",
          "name": "stdout",
          "text": [
            "1 4\n",
            "2 5\n",
            "3 6\n"
          ]
        }
      ]
    },
    {
      "cell_type": "code",
      "metadata": {
        "id": "xrzxHnoTuUea",
        "colab": {
          "base_uri": "https://localhost:8080/"
        },
        "outputId": "30b41497-918a-4981-8341-c3d2247bf488"
      },
      "source": [
        "for x, y, z in zip([1, 2, 3], [4, 5, 6], [7, 8, 9]):\n",
        "    print(x, y, z)"
      ],
      "execution_count": null,
      "outputs": [
        {
          "output_type": "stream",
          "name": "stdout",
          "text": [
            "1 4 7\n",
            "2 5 8\n",
            "3 6 9\n"
          ]
        }
      ]
    },
    {
      "cell_type": "markdown",
      "metadata": {
        "id": "mg5cc3eIuUen"
      },
      "source": [
        "## Transpose"
      ]
    },
    {
      "cell_type": "code",
      "metadata": {
        "id": "Z66gQZljuUet",
        "colab": {
          "base_uri": "https://localhost:8080/"
        },
        "outputId": "b8b2f0d7-5abb-4885-f883-b6bdc492bdfa"
      },
      "source": [
        "t = np.array([[[0, 1, 2],\n",
        "               [3, 4, 5]],\n",
        "\n",
        "              [[6, 7, 8],\n",
        "               [9, 10, 11]]])\n",
        "print(t.shape)\n",
        "print(t)"
      ],
      "execution_count": null,
      "outputs": [
        {
          "output_type": "stream",
          "name": "stdout",
          "text": [
            "(2, 2, 3)\n",
            "[[[ 0  1  2]\n",
            "  [ 3  4  5]]\n",
            "\n",
            " [[ 6  7  8]\n",
            "  [ 9 10 11]]]\n"
          ]
        }
      ]
    },
    {
      "cell_type": "code",
      "metadata": {
        "id": "1y9P7oUOuUfF",
        "colab": {
          "base_uri": "https://localhost:8080/"
        },
        "outputId": "b4f25544-5ce1-4416-e55b-79284cfcf7ad"
      },
      "source": [
        "t1 = tf.transpose(t, [1, 0, 2])\n",
        "print(t1.shape)\n",
        "print(t1)"
      ],
      "execution_count": null,
      "outputs": [
        {
          "output_type": "stream",
          "name": "stdout",
          "text": [
            "(2, 2, 3)\n",
            "tf.Tensor(\n",
            "[[[ 0  1  2]\n",
            "  [ 6  7  8]]\n",
            "\n",
            " [[ 3  4  5]\n",
            "  [ 9 10 11]]], shape=(2, 2, 3), dtype=int64)\n"
          ]
        }
      ]
    },
    {
      "cell_type": "code",
      "metadata": {
        "id": "nBuqrKR2uUfO",
        "colab": {
          "base_uri": "https://localhost:8080/"
        },
        "outputId": "6505d657-7689-455d-94fd-9e6e98365209"
      },
      "source": [
        "t = tf.transpose(t1, [1, 0, 2])\n",
        "pp.pprint(t.shape)\n",
        "pp.pprint(t)"
      ],
      "execution_count": null,
      "outputs": [
        {
          "output_type": "stream",
          "name": "stdout",
          "text": [
            "TensorShape([2, 2, 3])\n",
            "<tf.Tensor: shape=(2, 2, 3), dtype=int64, numpy=\n",
            "array([[[ 0,  1,  2],\n",
            "        [ 3,  4,  5]],\n",
            "\n",
            "       [[ 6,  7,  8],\n",
            "        [ 9, 10, 11]]])>\n"
          ]
        }
      ]
    },
    {
      "cell_type": "code",
      "metadata": {
        "id": "STjf_wnsuUfg",
        "colab": {
          "base_uri": "https://localhost:8080/"
        },
        "outputId": "abbf65e2-0d4e-4fd7-843f-84ce95b04d18"
      },
      "source": [
        "t2 = tf.transpose(t, [1, 2, 0])\n",
        "pp.pprint(t2.shape)\n",
        "pp.pprint(t2)"
      ],
      "execution_count": null,
      "outputs": [
        {
          "output_type": "stream",
          "name": "stdout",
          "text": [
            "TensorShape([2, 3, 2])\n",
            "<tf.Tensor: shape=(2, 3, 2), dtype=int64, numpy=\n",
            "array([[[ 0,  6],\n",
            "        [ 1,  7],\n",
            "        [ 2,  8]],\n",
            "\n",
            "       [[ 3,  9],\n",
            "        [ 4, 10],\n",
            "        [ 5, 11]]])>\n"
          ]
        }
      ]
    },
    {
      "cell_type": "code",
      "metadata": {
        "id": "P7nCaIEmuUfu",
        "colab": {
          "base_uri": "https://localhost:8080/"
        },
        "outputId": "e63e5c7f-841f-4f58-b4d2-70d6c0b41092"
      },
      "source": [
        "t = tf.transpose(t2, [2, 0, 1])\n",
        "pp.pprint(t.shape)\n",
        "pp.pprint(t)"
      ],
      "execution_count": null,
      "outputs": [
        {
          "output_type": "stream",
          "name": "stdout",
          "text": [
            "TensorShape([2, 2, 3])\n",
            "<tf.Tensor: shape=(2, 2, 3), dtype=int64, numpy=\n",
            "array([[[ 0,  1,  2],\n",
            "        [ 3,  4,  5]],\n",
            "\n",
            "       [[ 6,  7,  8],\n",
            "        [ 9, 10, 11]]])>\n"
          ]
        }
      ]
    },
    {
      "cell_type": "markdown",
      "metadata": {
        "id": "7HqP9RPzPK7F"
      },
      "source": [
        "## Numpy and Tensorflow"
      ]
    },
    {
      "cell_type": "code",
      "metadata": {
        "id": "FDS19BTNPmAQ"
      },
      "source": [
        "import numpy as np\n",
        "import tensorflow as tf"
      ],
      "execution_count": null,
      "outputs": []
    },
    {
      "cell_type": "code",
      "metadata": {
        "id": "ZUMiV3YJPtgw",
        "colab": {
          "base_uri": "https://localhost:8080/",
          "height": 36
        },
        "outputId": "0bbbca03-eb8e-4ab7-953a-68eec089af4a"
      },
      "source": [
        "tf.__version__"
      ],
      "execution_count": null,
      "outputs": [
        {
          "output_type": "execute_result",
          "data": {
            "text/plain": [
              "'2.13.0'"
            ],
            "application/vnd.google.colaboratory.intrinsic+json": {
              "type": "string"
            }
          },
          "metadata": {},
          "execution_count": 148
        }
      ]
    },
    {
      "cell_type": "code",
      "metadata": {
        "id": "CkvGoygzPpaY",
        "colab": {
          "base_uri": "https://localhost:8080/"
        },
        "outputId": "ce7007c1-8842-4e19-ab9a-bbdb1eb6542e"
      },
      "source": [
        "print(tf.random.normal([2,5]).numpy())\n",
        "print(np.random.normal(0, 1, (2,5)))"
      ],
      "execution_count": null,
      "outputs": [
        {
          "output_type": "stream",
          "name": "stdout",
          "text": [
            "[[ 0.00924649 -0.66206276 -0.7410269   1.1985261   0.8636208 ]\n",
            " [ 0.39257562  0.93457496 -0.16017465 -2.1050534   1.3769718 ]]\n",
            "[[ 0.14867505 -0.43778315  2.171257    1.15231025 -1.81881234]\n",
            " [-0.13804934  0.53983961 -1.77528229  1.31487654 -0.47344805]]\n"
          ]
        }
      ]
    },
    {
      "cell_type": "code",
      "source": [
        "tf.random.normal([5]), np.random.normal(size=(5)),"
      ],
      "metadata": {
        "colab": {
          "base_uri": "https://localhost:8080/"
        },
        "id": "0xDI9glkya8W",
        "outputId": "82a445e4-dc5b-44f0-be0d-e8599e6dda19"
      },
      "execution_count": null,
      "outputs": [
        {
          "output_type": "execute_result",
          "data": {
            "text/plain": [
              "(<tf.Tensor: shape=(5,), dtype=float32, numpy=\n",
              " array([-0.10952121, -1.5682803 , -1.3546606 , -0.8887434 , -1.7086024 ],\n",
              "       dtype=float32)>,\n",
              " array([-0.13858525,  0.10385631,  0.30059104,  0.9682053 ,  0.86962384]))"
            ]
          },
          "metadata": {},
          "execution_count": 176
        }
      ]
    },
    {
      "cell_type": "code",
      "metadata": {
        "id": "CvFkXJbqPz4F",
        "colab": {
          "base_uri": "https://localhost:8080/"
        },
        "outputId": "f79e4132-4eb9-4d31-eb59-a0ffc41e0339"
      },
      "source": [
        "np.random.seed(17)\n",
        "tf.random.set_seed(17)\n",
        "print(tf.random.normal([2,3]))\n",
        "print(np.random.randn(2,3))"
      ],
      "execution_count": null,
      "outputs": [
        {
          "output_type": "stream",
          "name": "stdout",
          "text": [
            "tf.Tensor(\n",
            "[[ 0.01778085  2.3094206  -0.9550922 ]\n",
            " [-1.7634274   0.4548187  -0.1849394 ]], shape=(2, 3), dtype=float32)\n",
            "[[ 0.27626589 -1.85462808  0.62390111]\n",
            " [ 1.14531129  1.03719047  1.88663893]]\n"
          ]
        }
      ]
    },
    {
      "cell_type": "code",
      "metadata": {
        "id": "LWJh6pIbP8Md",
        "colab": {
          "base_uri": "https://localhost:8080/"
        },
        "outputId": "9a6e797c-9306-4563-cdb1-1734a1895925"
      },
      "source": [
        "np.ones((2,3))"
      ],
      "execution_count": null,
      "outputs": [
        {
          "output_type": "execute_result",
          "data": {
            "text/plain": [
              "array([[1., 1., 1.],\n",
              "       [1., 1., 1.]])"
            ]
          },
          "metadata": {},
          "execution_count": 183
        }
      ]
    },
    {
      "cell_type": "code",
      "metadata": {
        "id": "5Y0aKML1QCIA",
        "colab": {
          "base_uri": "https://localhost:8080/"
        },
        "outputId": "90d819f2-e0a5-42fb-c974-129880fdb123"
      },
      "source": [
        "tf.ones([2,3]), tf.ones((2,3))"
      ],
      "execution_count": null,
      "outputs": [
        {
          "output_type": "execute_result",
          "data": {
            "text/plain": [
              "(<tf.Tensor: shape=(2, 3), dtype=float32, numpy=\n",
              " array([[1., 1., 1.],\n",
              "        [1., 1., 1.]], dtype=float32)>,\n",
              " <tf.Tensor: shape=(2, 3), dtype=float32, numpy=\n",
              " array([[1., 1., 1.],\n",
              "        [1., 1., 1.]], dtype=float32)>)"
            ]
          },
          "metadata": {},
          "execution_count": 184
        }
      ]
    },
    {
      "cell_type": "code",
      "metadata": {
        "id": "7cV7RJL8QEfc",
        "colab": {
          "base_uri": "https://localhost:8080/"
        },
        "outputId": "00c5db5f-f15c-474b-cf1e-d3a432e81ae0"
      },
      "source": [
        "tf.ones([2]).numpy()"
      ],
      "execution_count": null,
      "outputs": [
        {
          "output_type": "execute_result",
          "data": {
            "text/plain": [
              "array([1., 1.], dtype=float32)"
            ]
          },
          "metadata": {},
          "execution_count": 185
        }
      ]
    },
    {
      "cell_type": "code",
      "metadata": {
        "id": "6HD3SbH0QFcz",
        "colab": {
          "base_uri": "https://localhost:8080/"
        },
        "outputId": "bb71b791-420d-4530-f3d0-eb5b03efdd99"
      },
      "source": [
        "tf.ones((2)), tf.ones((2,)), tf.ones([1,2])"
      ],
      "execution_count": null,
      "outputs": [
        {
          "output_type": "execute_result",
          "data": {
            "text/plain": [
              "(<tf.Tensor: shape=(2,), dtype=float32, numpy=array([1., 1.], dtype=float32)>,\n",
              " <tf.Tensor: shape=(2,), dtype=float32, numpy=array([1., 1.], dtype=float32)>,\n",
              " <tf.Tensor: shape=(1, 2), dtype=float32, numpy=array([[1., 1.]], dtype=float32)>)"
            ]
          },
          "metadata": {},
          "execution_count": 186
        }
      ]
    },
    {
      "cell_type": "code",
      "metadata": {
        "id": "oSS5ULv-QGQC",
        "colab": {
          "base_uri": "https://localhost:8080/"
        },
        "outputId": "b8568072-7eb8-46c4-aa64-6b91718f65a1"
      },
      "source": [
        "tf.ones((1)).numpy(), np.ones(1)"
      ],
      "execution_count": null,
      "outputs": [
        {
          "output_type": "execute_result",
          "data": {
            "text/plain": [
              "(array([1.], dtype=float32), array([1.]))"
            ]
          },
          "metadata": {},
          "execution_count": 187
        }
      ]
    },
    {
      "cell_type": "code",
      "metadata": {
        "id": "zngG4ywdQG_U",
        "colab": {
          "base_uri": "https://localhost:8080/"
        },
        "outputId": "b3f80087-15d4-43f3-c167-9925d2074c0a"
      },
      "source": [
        "tf.constant(3, shape=(2,3))"
      ],
      "execution_count": null,
      "outputs": [
        {
          "output_type": "execute_result",
          "data": {
            "text/plain": [
              "<tf.Tensor: shape=(2, 3), dtype=int32, numpy=\n",
              "array([[3, 3, 3],\n",
              "       [3, 3, 3]], dtype=int32)>"
            ]
          },
          "metadata": {},
          "execution_count": 188
        }
      ]
    },
    {
      "cell_type": "code",
      "metadata": {
        "id": "1oy0TekmQH5v",
        "colab": {
          "base_uri": "https://localhost:8080/"
        },
        "outputId": "2d1d98db-3e02-4cd9-af8c-294593570a76"
      },
      "source": [
        "np.array([1,2,3,4]).reshape(2,2)  # method\n",
        "np.reshape([1,2,3,4], (2,2))      # numpy function"
      ],
      "execution_count": null,
      "outputs": [
        {
          "output_type": "execute_result",
          "data": {
            "text/plain": [
              "array([[1, 2],\n",
              "       [3, 4]])"
            ]
          },
          "metadata": {},
          "execution_count": 158
        }
      ]
    },
    {
      "cell_type": "code",
      "metadata": {
        "id": "nz2MaL9sQJYg",
        "colab": {
          "base_uri": "https://localhost:8080/"
        },
        "outputId": "7d60625c-0500-485c-91a1-231b0259512e"
      },
      "source": [
        "tf.constant([1,2,3,4], shape=[2,2])"
      ],
      "execution_count": null,
      "outputs": [
        {
          "output_type": "execute_result",
          "data": {
            "text/plain": [
              "<tf.Tensor: shape=(2, 2), dtype=int32, numpy=\n",
              "array([[1, 2],\n",
              "       [3, 4]], dtype=int32)>"
            ]
          },
          "metadata": {},
          "execution_count": 159
        }
      ]
    },
    {
      "cell_type": "code",
      "metadata": {
        "id": "l39N8rThQKWh",
        "colab": {
          "base_uri": "https://localhost:8080/"
        },
        "outputId": "94ba529a-967c-4bd1-d7b3-d80313cf9757"
      },
      "source": [
        "t = tf.constant([1,2,3,4])\n",
        "tf.reshape(t, shape=[2,2])"
      ],
      "execution_count": null,
      "outputs": [
        {
          "output_type": "execute_result",
          "data": {
            "text/plain": [
              "<tf.Tensor: shape=(2, 2), dtype=int32, numpy=\n",
              "array([[1, 2],\n",
              "       [3, 4]], dtype=int32)>"
            ]
          },
          "metadata": {},
          "execution_count": 160
        }
      ]
    },
    {
      "cell_type": "code",
      "metadata": {
        "id": "W_BX9Gn2QLNq",
        "colab": {
          "base_uri": "https://localhost:8080/"
        },
        "outputId": "5bd7352e-f285-46cc-a1fa-916a2a979de9"
      },
      "source": [
        "x = tf.constant([1,2,3,4], shape=[2,2])\n",
        "tf.zeros_like(x)"
      ],
      "execution_count": null,
      "outputs": [
        {
          "output_type": "execute_result",
          "data": {
            "text/plain": [
              "<tf.Tensor: shape=(2, 2), dtype=int32, numpy=\n",
              "array([[0, 0],\n",
              "       [0, 0]], dtype=int32)>"
            ]
          },
          "metadata": {},
          "execution_count": 161
        }
      ]
    },
    {
      "cell_type": "code",
      "metadata": {
        "id": "FHVYiTW7QL6x",
        "colab": {
          "base_uri": "https://localhost:8080/"
        },
        "outputId": "296b5f3e-ee32-4437-89be-75cab5ce4eef"
      },
      "source": [
        "tf.fill([3,3], 6)"
      ],
      "execution_count": null,
      "outputs": [
        {
          "output_type": "execute_result",
          "data": {
            "text/plain": [
              "<tf.Tensor: shape=(3, 3), dtype=int32, numpy=\n",
              "array([[6, 6, 6],\n",
              "       [6, 6, 6],\n",
              "       [6, 6, 6]], dtype=int32)>"
            ]
          },
          "metadata": {},
          "execution_count": 162
        }
      ]
    },
    {
      "cell_type": "markdown",
      "metadata": {
        "id": "mATcmk76QM6S"
      },
      "source": [
        "\n",
        "## Define and initializing variables\n"
      ]
    },
    {
      "cell_type": "code",
      "metadata": {
        "id": "--xvKTybQNpF",
        "colab": {
          "base_uri": "https://localhost:8080/"
        },
        "outputId": "34ee1408-de06-4320-e41d-2920d6f9bc05"
      },
      "source": [
        "a0 = tf.Variable([1,2,3,4], dtype = tf.float32)\n",
        "b = tf.constant(2, tf.float32)\n",
        "a0*b"
      ],
      "execution_count": null,
      "outputs": [
        {
          "output_type": "execute_result",
          "data": {
            "text/plain": [
              "<tf.Tensor: shape=(4,), dtype=float32, numpy=array([2., 4., 6., 8.], dtype=float32)>"
            ]
          },
          "metadata": {},
          "execution_count": 163
        }
      ]
    },
    {
      "cell_type": "code",
      "metadata": {
        "id": "h_7FLFiIQQWF",
        "colab": {
          "base_uri": "https://localhost:8080/"
        },
        "outputId": "d3099737-108e-4c20-c45b-4455c3e98053"
      },
      "source": [
        "tf.multiply(a0, b) == a0 * b"
      ],
      "execution_count": null,
      "outputs": [
        {
          "output_type": "execute_result",
          "data": {
            "text/plain": [
              "<tf.Tensor: shape=(4,), dtype=bool, numpy=array([ True,  True,  True,  True])>"
            ]
          },
          "metadata": {},
          "execution_count": 164
        }
      ]
    },
    {
      "cell_type": "code",
      "metadata": {
        "id": "RWyFfI17QRTJ",
        "colab": {
          "base_uri": "https://localhost:8080/"
        },
        "outputId": "9a1a7c36-87f1-4f41-9f1f-bc7581d26e62"
      },
      "source": [
        "A2 = tf.constant([[1,2],\n",
        "                  [3,4]])\n",
        "B2 = tf.constant([[5,6],\n",
        "                  [7,8]])\n",
        "A2 + B2, A2 * B2, tf.add(A2, B2), tf.multiply(A2, B2)  # element-wise"
      ],
      "execution_count": null,
      "outputs": [
        {
          "output_type": "execute_result",
          "data": {
            "text/plain": [
              "(<tf.Tensor: shape=(2, 2), dtype=int32, numpy=\n",
              " array([[ 6,  8],\n",
              "        [10, 12]], dtype=int32)>,\n",
              " <tf.Tensor: shape=(2, 2), dtype=int32, numpy=\n",
              " array([[ 5, 12],\n",
              "        [21, 32]], dtype=int32)>,\n",
              " <tf.Tensor: shape=(2, 2), dtype=int32, numpy=\n",
              " array([[ 6,  8],\n",
              "        [10, 12]], dtype=int32)>,\n",
              " <tf.Tensor: shape=(2, 2), dtype=int32, numpy=\n",
              " array([[ 5, 12],\n",
              "        [21, 32]], dtype=int32)>)"
            ]
          },
          "metadata": {},
          "execution_count": 165
        }
      ]
    },
    {
      "cell_type": "code",
      "metadata": {
        "id": "ezLErdywQSFS",
        "colab": {
          "base_uri": "https://localhost:8080/"
        },
        "outputId": "3b9d504f-f3fd-46d5-e6f6-810932ed3e56"
      },
      "source": [
        "tf.matmul(A2, B2), A2@B2"
      ],
      "execution_count": null,
      "outputs": [
        {
          "output_type": "execute_result",
          "data": {
            "text/plain": [
              "(<tf.Tensor: shape=(2, 2), dtype=int32, numpy=\n",
              " array([[19, 22],\n",
              "        [43, 50]], dtype=int32)>,\n",
              " <tf.Tensor: shape=(2, 2), dtype=int32, numpy=\n",
              " array([[19, 22],\n",
              "        [43, 50]], dtype=int32)>)"
            ]
          },
          "metadata": {},
          "execution_count": 190
        }
      ]
    },
    {
      "cell_type": "code",
      "metadata": {
        "id": "-sT63nRCQS5S",
        "colab": {
          "base_uri": "https://localhost:8080/"
        },
        "outputId": "6ac5bb0c-5f1e-4973-830e-7446041273ae"
      },
      "source": [
        "tf.reduce_sum(A2), tf.reduce_sum(A2, axis=0), tf.reduce_sum(A2, axis=1)"
      ],
      "execution_count": null,
      "outputs": [
        {
          "output_type": "execute_result",
          "data": {
            "text/plain": [
              "(<tf.Tensor: shape=(), dtype=int32, numpy=10>,\n",
              " <tf.Tensor: shape=(2,), dtype=int32, numpy=array([4, 6], dtype=int32)>,\n",
              " <tf.Tensor: shape=(2,), dtype=int32, numpy=array([3, 7], dtype=int32)>)"
            ]
          },
          "metadata": {},
          "execution_count": 167
        }
      ]
    },
    {
      "cell_type": "markdown",
      "metadata": {
        "id": "SXpeiNdUQTwG"
      },
      "source": [
        "## Advanced functions\n",
        "\n",
        "- GradientTape(): automatic differentiation\n",
        "- reshape(),\n",
        "- random()\n"
      ]
    },
    {
      "cell_type": "code",
      "metadata": {
        "id": "-u2fMs3XQYA_",
        "colab": {
          "base_uri": "https://localhost:8080/"
        },
        "outputId": "c0a87f19-8280-40f4-82c5-93513feb7893"
      },
      "source": [
        "x = tf.Variable(-1.0)\n",
        "with tf.GradientTape() as tape:\n",
        "    tape.watch(x)    # tracks the variable x\n",
        "    y = tf.multiply(x, x)\n",
        "\n",
        "g = tape.gradient(y, x)\n",
        "g.numpy()"
      ],
      "execution_count": null,
      "outputs": [
        {
          "output_type": "execute_result",
          "data": {
            "text/plain": [
              "-2.0"
            ]
          },
          "metadata": {},
          "execution_count": 168
        }
      ]
    },
    {
      "cell_type": "code",
      "metadata": {
        "id": "tnfvotgYQgD9",
        "colab": {
          "base_uri": "https://localhost:8080/"
        },
        "outputId": "168422ef-9f2b-4dec-d23c-c8aed2aa1505"
      },
      "source": [
        "gray1 = tf.random.uniform([2,2], maxval=255, dtype='int32')\n",
        "gray2 = tf.reshape(gray1, [2*2, 1])\n",
        "gray1, gray2"
      ],
      "execution_count": null,
      "outputs": [
        {
          "output_type": "execute_result",
          "data": {
            "text/plain": [
              "(<tf.Tensor: shape=(2, 2), dtype=int32, numpy=\n",
              " array([[ 43,  26],\n",
              "        [195, 222]], dtype=int32)>,\n",
              " <tf.Tensor: shape=(4, 1), dtype=int32, numpy=\n",
              " array([[ 43],\n",
              "        [ 26],\n",
              "        [195],\n",
              "        [222]], dtype=int32)>)"
            ]
          },
          "metadata": {},
          "execution_count": 169
        }
      ]
    },
    {
      "cell_type": "code",
      "metadata": {
        "id": "ahpM0DTcQk2k",
        "colab": {
          "base_uri": "https://localhost:8080/"
        },
        "outputId": "73b3e8a9-3488-4350-fe0b-b9120e52062d"
      },
      "source": [
        "color = tf.random.uniform([2,2,3], maxval=255, dtype='int32') # color image\n",
        "tf.reshape(color, [2*2, 3])"
      ],
      "execution_count": null,
      "outputs": [
        {
          "output_type": "execute_result",
          "data": {
            "text/plain": [
              "<tf.Tensor: shape=(4, 3), dtype=int32, numpy=\n",
              "array([[ 68, 184, 226],\n",
              "       [168,  15, 227],\n",
              "       [246, 254, 103],\n",
              "       [ 41,  50, 119]], dtype=int32)>"
            ]
          },
          "metadata": {},
          "execution_count": 170
        }
      ]
    }
  ]
}