{
  "nbformat": 4,
  "nbformat_minor": 0,
  "metadata": {
    "kernelspec": {
      "display_name": "Python 3",
      "language": "python",
      "name": "python3"
    },
    "language_info": {
      "codemirror_mode": {
        "name": "ipython",
        "version": 3
      },
      "file_extension": ".py",
      "mimetype": "text/x-python",
      "name": "python",
      "nbconvert_exporter": "python",
      "pygments_lexer": "ipython3",
      "version": "3.6.8"
    },
    "colab": {
      "provenance": [],
      "toc_visible": true,
      "include_colab_link": true
    },
    "gpuClass": "standard"
  },
  "cells": [
    {
      "cell_type": "markdown",
      "metadata": {
        "id": "view-in-github",
        "colab_type": "text"
      },
      "source": [
        "<a href=\"https://colab.research.google.com/github/rtajeong/M4_new/blob/main/lab_57_tensorflow_2_0_rev6.ipynb\" target=\"_parent\"><img src=\"https://colab.research.google.com/assets/colab-badge.svg\" alt=\"Open In Colab\"/></a>"
      ]
    },
    {
      "cell_type": "markdown",
      "metadata": {
        "id": "UfYHSe3Xv4wG"
      },
      "source": [
        "# Tensorflow 2.0\n",
        "- Eager execution mode: skip all the Graph and Session (now, becomes much like a simple Python code (numpy code).\n",
        "- Tensors 1.0\n",
        "  - Graph: relate the nodes you created\n",
        "  - Session:class for performing computation on a graph"
      ]
    },
    {
      "cell_type": "code",
      "metadata": {
        "id": "gOB7CHUKbSrd"
      },
      "source": [
        "import numpy as np\n",
        "import tensorflow as tf\n",
        "import matplotlib.pyplot as plt\n",
        "from tensorflow import keras"
      ],
      "execution_count": null,
      "outputs": []
    },
    {
      "cell_type": "code",
      "metadata": {
        "colab": {
          "base_uri": "https://localhost:8080/",
          "height": 35
        },
        "id": "piP4RVsS6mhB",
        "outputId": "f6acf94c-9ea2-48ab-9ceb-06747c9f4b35"
      },
      "source": [
        "tf.__version__"
      ],
      "execution_count": null,
      "outputs": [
        {
          "output_type": "execute_result",
          "data": {
            "text/plain": [
              "'2.13.0'"
            ],
            "application/vnd.google.colaboratory.intrinsic+json": {
              "type": "string"
            }
          },
          "metadata": {},
          "execution_count": 280
        }
      ]
    },
    {
      "cell_type": "markdown",
      "source": [
        "## tensors\n",
        "- A tf.Tensor is an object that represents a multidimensional array of elements.\n",
        "- A tf.Tensor has the following properties:\n",
        "  - a single data type (float32, int32, or string, for example)\n",
        "  - a shape\n",
        "- two primary types:\n",
        "  - constant: immutable\n",
        "  - Variable: mutable, typically for parameters of the model"
      ],
      "metadata": {
        "id": "hkFzjiMNTLg5"
      }
    },
    {
      "cell_type": "code",
      "source": [
        "# Compute some values using a Tensor\n",
        "c = tf.constant([[1.0, 2.0],\n",
        "                 [3.0, 4.0]])\n",
        "d = tf.constant([[1.0, 1.0],\n",
        "                 [0.0, 1.0]])\n",
        "e = tf.matmul(c, d)\n",
        "print(e, c@d)     # matrix multiplication\n"
      ],
      "metadata": {
        "colab": {
          "base_uri": "https://localhost:8080/"
        },
        "id": "AaiCm9ExFjiK",
        "outputId": "7fd394ee-56ce-4ee2-dc13-3804ce542222"
      },
      "execution_count": null,
      "outputs": [
        {
          "output_type": "stream",
          "name": "stdout",
          "text": [
            "tf.Tensor(\n",
            "[[1. 3.]\n",
            " [3. 7.]], shape=(2, 2), dtype=float32) tf.Tensor(\n",
            "[[1. 3.]\n",
            " [3. 7.]], shape=(2, 2), dtype=float32)\n"
          ]
        }
      ]
    },
    {
      "cell_type": "code",
      "source": [
        "type(e)    # eager tensor gives you access to a useful function, numpy"
      ],
      "metadata": {
        "colab": {
          "base_uri": "https://localhost:8080/"
        },
        "id": "CQf6GHcZGtG0",
        "outputId": "0414ea25-8762-4156-d821-7df9cbff12d9"
      },
      "execution_count": null,
      "outputs": [
        {
          "output_type": "execute_result",
          "data": {
            "text/plain": [
              "tensorflow.python.framework.ops.EagerTensor"
            ]
          },
          "metadata": {},
          "execution_count": 282
        }
      ]
    },
    {
      "cell_type": "markdown",
      "source": [
        "- EagerTensor: Tensor is a EagerTensor by default in tf 2.x (objects, and operations are evaluated immediately.)"
      ],
      "metadata": {
        "id": "yBPoTASsQFrk"
      }
    },
    {
      "cell_type": "code",
      "source": [
        "e"
      ],
      "metadata": {
        "colab": {
          "base_uri": "https://localhost:8080/"
        },
        "id": "T-S7euQjQag-",
        "outputId": "d33d2232-5cc1-4b71-de12-132c3502313a"
      },
      "execution_count": null,
      "outputs": [
        {
          "output_type": "execute_result",
          "data": {
            "text/plain": [
              "<tf.Tensor: shape=(2, 2), dtype=float32, numpy=\n",
              "array([[1., 3.],\n",
              "       [3., 7.]], dtype=float32)>"
            ]
          },
          "metadata": {},
          "execution_count": 283
        }
      ]
    },
    {
      "cell_type": "code",
      "source": [
        "print(e.numpy())"
      ],
      "metadata": {
        "colab": {
          "base_uri": "https://localhost:8080/"
        },
        "id": "0YMDpJWcGvwj",
        "outputId": "372f562b-980a-42ad-d07a-3adb84396174"
      },
      "execution_count": null,
      "outputs": [
        {
          "output_type": "stream",
          "name": "stdout",
          "text": [
            "[[1. 3.]\n",
            " [3. 7.]]\n"
          ]
        }
      ]
    },
    {
      "cell_type": "code",
      "source": [
        "# when constructing a tensor from a numpy array or pandas dataframe\n",
        "# the underlying buffer may be re-used: (subject to change)\n",
        "\n",
        "a = np.array([1, 2, 3])\n",
        "b = tf.constant(a)\n",
        "c = tf.Variable(a)"
      ],
      "metadata": {
        "id": "UR9AU3x2HNCz"
      },
      "execution_count": null,
      "outputs": []
    },
    {
      "cell_type": "code",
      "source": [
        "a[0] = 4\n",
        "a, b, c"
      ],
      "metadata": {
        "colab": {
          "base_uri": "https://localhost:8080/"
        },
        "id": "m-LCFPlvSpny",
        "outputId": "a732a7ba-39ba-4f4a-8e31-e1df36557fd1"
      },
      "execution_count": null,
      "outputs": [
        {
          "output_type": "execute_result",
          "data": {
            "text/plain": [
              "(array([4, 2, 3]),\n",
              " <tf.Tensor: shape=(3,), dtype=int64, numpy=array([1, 2, 3])>,\n",
              " <tf.Variable 'Variable:0' shape=(3,) dtype=int64, numpy=array([1, 2, 3])>)"
            ]
          },
          "metadata": {},
          "execution_count": 286
        }
      ]
    },
    {
      "cell_type": "code",
      "source": [
        "try:\n",
        "    c[1] = 7\n",
        "except:\n",
        "    print (\"Error: use assign() method.\")"
      ],
      "metadata": {
        "colab": {
          "base_uri": "https://localhost:8080/"
        },
        "id": "MHKFys6eSwCH",
        "outputId": "8e159def-046d-4f20-d168-3d604374de2d"
      },
      "execution_count": null,
      "outputs": [
        {
          "output_type": "stream",
          "name": "stdout",
          "text": [
            "Error: use assign() method.\n"
          ]
        }
      ]
    },
    {
      "cell_type": "code",
      "source": [
        "c[1].assign(7); c"
      ],
      "metadata": {
        "colab": {
          "base_uri": "https://localhost:8080/"
        },
        "id": "xlqdOf6IS-d4",
        "outputId": "16492068-ab83-4b8b-d4b2-32d8f74af4cd"
      },
      "execution_count": null,
      "outputs": [
        {
          "output_type": "execute_result",
          "data": {
            "text/plain": [
              "<tf.Variable 'Variable:0' shape=(3,) dtype=int64, numpy=array([1, 7, 3])>"
            ]
          },
          "metadata": {},
          "execution_count": 288
        }
      ]
    },
    {
      "cell_type": "code",
      "source": [
        "b, c"
      ],
      "metadata": {
        "colab": {
          "base_uri": "https://localhost:8080/"
        },
        "id": "kvK1hMSmT2GF",
        "outputId": "bdca31e4-f3b4-4021-9e01-d919094a9dd0"
      },
      "execution_count": null,
      "outputs": [
        {
          "output_type": "execute_result",
          "data": {
            "text/plain": [
              "(<tf.Tensor: shape=(3,), dtype=int64, numpy=array([1, 2, 3])>,\n",
              " <tf.Variable 'Variable:0' shape=(3,) dtype=int64, numpy=array([1, 7, 3])>)"
            ]
          },
          "metadata": {},
          "execution_count": 289
        }
      ]
    },
    {
      "cell_type": "code",
      "source": [
        "try:\n",
        "    b[1].assign(9)\n",
        "except:\n",
        "    print (\"Error: immutable.\")"
      ],
      "metadata": {
        "colab": {
          "base_uri": "https://localhost:8080/"
        },
        "id": "FK4MEwRXTsXv",
        "outputId": "35e95d62-46e5-4d4c-f72e-7794dfe52598"
      },
      "execution_count": null,
      "outputs": [
        {
          "output_type": "stream",
          "name": "stdout",
          "text": [
            "Error: immutable.\n"
          ]
        }
      ]
    },
    {
      "cell_type": "markdown",
      "source": [
        "- direct assignment (=) is allowd on tf.Variable, but it create a new object (not allowd to update the tensor by direct assignment)"
      ],
      "metadata": {
        "id": "1VWPAXdikY7p"
      }
    },
    {
      "cell_type": "code",
      "source": [
        "W = tf.Variable(1.0)\n",
        "print(id(W))\n",
        "W = W - 0.1 * W  # allowed, but it creates a new tensor, it doesn't directly modify W\n",
        "W, id(W)"
      ],
      "metadata": {
        "colab": {
          "base_uri": "https://localhost:8080/"
        },
        "id": "Zkr9PaS9kSjy",
        "outputId": "0388eb67-5427-44c9-a60c-0afd8e42efe7"
      },
      "execution_count": null,
      "outputs": [
        {
          "output_type": "stream",
          "name": "stdout",
          "text": [
            "138396311206832\n"
          ]
        },
        {
          "output_type": "execute_result",
          "data": {
            "text/plain": [
              "(<tf.Tensor: shape=(), dtype=float32, numpy=0.9>, 138396310737616)"
            ]
          },
          "metadata": {},
          "execution_count": 291
        }
      ]
    },
    {
      "cell_type": "code",
      "source": [
        "W = tf.Variable(1.0)\n",
        "W -= 0.1*W       # not allowed to directly change the content by '='"
      ],
      "metadata": {
        "colab": {
          "base_uri": "https://localhost:8080/",
          "height": 351
        },
        "id": "Wr0zGJ4JkWap",
        "outputId": "9de884c4-f6cd-4beb-94ab-e37c4741d154"
      },
      "execution_count": null,
      "outputs": [
        {
          "output_type": "error",
          "ename": "RuntimeError",
          "evalue": "ignored",
          "traceback": [
            "\u001b[0;31m---------------------------------------------------------------------------\u001b[0m",
            "\u001b[0;31mRuntimeError\u001b[0m                              Traceback (most recent call last)",
            "\u001b[0;32m<ipython-input-292-fd4913e75f7e>\u001b[0m in \u001b[0;36m<cell line: 2>\u001b[0;34m()\u001b[0m\n\u001b[1;32m      1\u001b[0m \u001b[0mW\u001b[0m \u001b[0;34m=\u001b[0m \u001b[0mtf\u001b[0m\u001b[0;34m.\u001b[0m\u001b[0mVariable\u001b[0m\u001b[0;34m(\u001b[0m\u001b[0;36m1.0\u001b[0m\u001b[0;34m)\u001b[0m\u001b[0;34m\u001b[0m\u001b[0;34m\u001b[0m\u001b[0m\n\u001b[0;32m----> 2\u001b[0;31m \u001b[0mW\u001b[0m \u001b[0;34m-=\u001b[0m \u001b[0;36m0.1\u001b[0m\u001b[0;34m*\u001b[0m\u001b[0mW\u001b[0m       \u001b[0;31m# not allowed to directly change the content by '='\u001b[0m\u001b[0;34m\u001b[0m\u001b[0;34m\u001b[0m\u001b[0m\n\u001b[0m",
            "\u001b[0;32m/usr/local/lib/python3.10/dist-packages/tensorflow/python/ops/resource_variable_ops.py\u001b[0m in \u001b[0;36m__isub__\u001b[0;34m(self, unused_other)\u001b[0m\n\u001b[1;32m   1565\u001b[0m \u001b[0;34m\u001b[0m\u001b[0m\n\u001b[1;32m   1566\u001b[0m   \u001b[0;32mdef\u001b[0m \u001b[0m__isub__\u001b[0m\u001b[0;34m(\u001b[0m\u001b[0mself\u001b[0m\u001b[0;34m,\u001b[0m \u001b[0munused_other\u001b[0m\u001b[0;34m)\u001b[0m\u001b[0;34m:\u001b[0m\u001b[0;34m\u001b[0m\u001b[0;34m\u001b[0m\u001b[0m\n\u001b[0;32m-> 1567\u001b[0;31m     raise RuntimeError(\"`variable -= value` with `tf.Variable`s is not \"\n\u001b[0m\u001b[1;32m   1568\u001b[0m                        \u001b[0;34m\"supported. Use `variable.assign_sub(value)` to modify \"\u001b[0m\u001b[0;34m\u001b[0m\u001b[0;34m\u001b[0m\u001b[0m\n\u001b[1;32m   1569\u001b[0m                        \u001b[0;34m\"the variable, or `out = variable * value` if you \"\u001b[0m\u001b[0;34m\u001b[0m\u001b[0;34m\u001b[0m\u001b[0m\n",
            "\u001b[0;31mRuntimeError\u001b[0m: `variable -= value` with `tf.Variable`s is not supported. Use `variable.assign_sub(value)` to modify the variable, or `out = variable * value` if you need to get a new output Tensor."
          ]
        }
      ]
    },
    {
      "cell_type": "code",
      "source": [
        "W = tf.Variable(1.0)\n",
        "print(id(W))\n",
        "W.assign_sub(0.1*W)   # in-place operation (recommended)\n",
        "W, id(W)"
      ],
      "metadata": {
        "colab": {
          "base_uri": "https://localhost:8080/"
        },
        "id": "-ShDU7rQk-S9",
        "outputId": "756bf46c-db24-48bc-8c0b-7fd4a14820da"
      },
      "execution_count": null,
      "outputs": [
        {
          "output_type": "stream",
          "name": "stdout",
          "text": [
            "138396264340432\n"
          ]
        },
        {
          "output_type": "execute_result",
          "data": {
            "text/plain": [
              "(<tf.Variable 'Variable:0' shape=() dtype=float32, numpy=0.9>, 138396264340432)"
            ]
          },
          "metadata": {},
          "execution_count": 294
        }
      ]
    },
    {
      "cell_type": "markdown",
      "source": [
        "- tensorflow tensors and numpy array\n",
        "  - numpy uses 64-bits (int64 and float64)\n",
        "  - tf uses 32-bits (tf.int32 and tf.float32)"
      ],
      "metadata": {
        "id": "f1Ng9dp9_3cS"
      }
    },
    {
      "cell_type": "code",
      "source": [
        "n1 = np.array([[1.,2.], [3.,4.]])\n",
        "n2 = np.array([[1,2],[3,4]])\n",
        "n1.dtype, n2.dtype     # numpy uses 64 bit in default"
      ],
      "metadata": {
        "colab": {
          "base_uri": "https://localhost:8080/"
        },
        "id": "mf1cSRUESvRQ",
        "outputId": "3a501c92-96a7-46e7-9a24-64b56ae9b29c"
      },
      "execution_count": null,
      "outputs": [
        {
          "output_type": "execute_result",
          "data": {
            "text/plain": [
              "(dtype('float64'), dtype('int64'))"
            ]
          },
          "metadata": {},
          "execution_count": 295
        }
      ]
    },
    {
      "cell_type": "code",
      "source": [
        "t1 = tf.constant([[1.,2.],[3.,4.]])\n",
        "t2 = tf.constant([[1,2],[3,4]])\n",
        "t1.dtype, t2.dtype     # tensor uses 32 bit"
      ],
      "metadata": {
        "colab": {
          "base_uri": "https://localhost:8080/"
        },
        "id": "2ernkBUJTDxn",
        "outputId": "12916d12-7449-4aad-ef79-2e270f35fa80"
      },
      "execution_count": null,
      "outputs": [
        {
          "output_type": "execute_result",
          "data": {
            "text/plain": [
              "(tf.float32, tf.int32)"
            ]
          },
          "metadata": {},
          "execution_count": 296
        }
      ]
    },
    {
      "cell_type": "code",
      "source": [
        "n1-1, n2-1"
      ],
      "metadata": {
        "colab": {
          "base_uri": "https://localhost:8080/"
        },
        "id": "DezS1_k0VaeF",
        "outputId": "6d66495d-f4d6-4553-8d85-50acdc8157cd"
      },
      "execution_count": null,
      "outputs": [
        {
          "output_type": "execute_result",
          "data": {
            "text/plain": [
              "(array([[0., 1.],\n",
              "        [2., 3.]]),\n",
              " array([[0, 1],\n",
              "        [2, 3]]))"
            ]
          },
          "metadata": {},
          "execution_count": 297
        }
      ]
    },
    {
      "cell_type": "code",
      "source": [
        "t1-1, t2-1"
      ],
      "metadata": {
        "colab": {
          "base_uri": "https://localhost:8080/"
        },
        "id": "18MY6tImkBfh",
        "outputId": "60b4bdaf-b6b3-45bf-91d9-e5ea472fbffd"
      },
      "execution_count": null,
      "outputs": [
        {
          "output_type": "execute_result",
          "data": {
            "text/plain": [
              "(<tf.Tensor: shape=(2, 2), dtype=float32, numpy=\n",
              " array([[0., 1.],\n",
              "        [2., 3.]], dtype=float32)>,\n",
              " <tf.Tensor: shape=(2, 2), dtype=int32, numpy=\n",
              " array([[0, 1],\n",
              "        [2, 3]], dtype=int32)>)"
            ]
          },
          "metadata": {},
          "execution_count": 298
        }
      ]
    },
    {
      "cell_type": "code",
      "source": [
        "n1 + t1    # automatically convert int_tensor to a float before addition"
      ],
      "metadata": {
        "colab": {
          "base_uri": "https://localhost:8080/"
        },
        "id": "GZZ3Kv9yV969",
        "outputId": "1ed58d9d-7e72-41a3-9937-d8272a2681d7"
      },
      "execution_count": null,
      "outputs": [
        {
          "output_type": "execute_result",
          "data": {
            "text/plain": [
              "<tf.Tensor: shape=(2, 2), dtype=float32, numpy=\n",
              "array([[2., 4.],\n",
              "       [6., 8.]], dtype=float32)>"
            ]
          },
          "metadata": {},
          "execution_count": 299
        }
      ]
    },
    {
      "cell_type": "code",
      "source": [
        "t1[0,1]"
      ],
      "metadata": {
        "colab": {
          "base_uri": "https://localhost:8080/"
        },
        "id": "ROBy28XI-EbS",
        "outputId": "3554acc5-c186-439b-c26f-7d9ec275074f"
      },
      "execution_count": null,
      "outputs": [
        {
          "output_type": "execute_result",
          "data": {
            "text/plain": [
              "<tf.Tensor: shape=(), dtype=float32, numpy=2.0>"
            ]
          },
          "metadata": {},
          "execution_count": 300
        }
      ]
    },
    {
      "cell_type": "markdown",
      "source": [
        "- tf.constant() is immutable\n",
        "- tf.Variable() is mutable. Use assign() or assign_add() instead of direct assignment(=)"
      ],
      "metadata": {
        "id": "MRkHT7fQW5Ll"
      }
    },
    {
      "cell_type": "code",
      "source": [
        "# tf.Variable is mutable.\n",
        "t2 = tf.Variable(n1)\n",
        "t2"
      ],
      "metadata": {
        "colab": {
          "base_uri": "https://localhost:8080/"
        },
        "id": "FQVyI8cH-fVS",
        "outputId": "fbb6d5d7-8507-4698-a652-daac9d312139"
      },
      "execution_count": null,
      "outputs": [
        {
          "output_type": "execute_result",
          "data": {
            "text/plain": [
              "<tf.Variable 'Variable:0' shape=(2, 2) dtype=float64, numpy=\n",
              "array([[1., 2.],\n",
              "       [3., 4.]])>"
            ]
          },
          "metadata": {},
          "execution_count": 301
        }
      ]
    },
    {
      "cell_type": "code",
      "source": [
        "try:\n",
        "    t2[0,0] = 7\n",
        "except:\n",
        "    print(\"Error: 'ResourceVariable' object does not support item assignment\")"
      ],
      "metadata": {
        "colab": {
          "base_uri": "https://localhost:8080/"
        },
        "id": "8MwPh9Vl-kdJ",
        "outputId": "7c5e00d1-d082-453d-b7bd-e6cba6b5303f"
      },
      "execution_count": null,
      "outputs": [
        {
          "output_type": "stream",
          "name": "stdout",
          "text": [
            "Error: 'ResourceVariable' object does not support item assignment\n"
          ]
        }
      ]
    },
    {
      "cell_type": "code",
      "source": [
        "# can be modified in place with assign(), assign_sub(), assign_add()\n",
        "t2[0,0].assign(7)\n",
        "t2"
      ],
      "metadata": {
        "colab": {
          "base_uri": "https://localhost:8080/"
        },
        "id": "CQ7GRIoG-7P5",
        "outputId": "dfc0c230-958d-4719-e595-c523d37d1262"
      },
      "execution_count": null,
      "outputs": [
        {
          "output_type": "execute_result",
          "data": {
            "text/plain": [
              "<tf.Variable 'Variable:0' shape=(2, 2) dtype=float64, numpy=\n",
              "array([[7., 2.],\n",
              "       [3., 4.]])>"
            ]
          },
          "metadata": {},
          "execution_count": 303
        }
      ]
    },
    {
      "cell_type": "code",
      "source": [
        "t2.assign(2 * t2)\n",
        "t2"
      ],
      "metadata": {
        "colab": {
          "base_uri": "https://localhost:8080/"
        },
        "id": "Mugaiyv3_WjZ",
        "outputId": "d9f9b165-9453-4069-f06f-bdb71ca83ddc"
      },
      "execution_count": null,
      "outputs": [
        {
          "output_type": "execute_result",
          "data": {
            "text/plain": [
              "<tf.Variable 'Variable:0' shape=(2, 2) dtype=float64, numpy=\n",
              "array([[14.,  4.],\n",
              "       [ 6.,  8.]])>"
            ]
          },
          "metadata": {},
          "execution_count": 304
        }
      ]
    },
    {
      "cell_type": "markdown",
      "source": [
        "- operation between different data types"
      ],
      "metadata": {
        "id": "8hw37Jl4Zyej"
      }
    },
    {
      "cell_type": "code",
      "source": [
        "print(tf.constant(2.7) + 7)              # tensor (op) numbers -> automatic conversion\n",
        "print(tf.constant(2.7) + 7.0)\n",
        "print(tf.constant(2.7) + np.array(7.0))  # tensor (op) numpy -> automatic conversion\n",
        "print(tf.constant(2.7) + np.array(7))"
      ],
      "metadata": {
        "colab": {
          "base_uri": "https://localhost:8080/"
        },
        "id": "YiZZ_ulGZ__d",
        "outputId": "db107df6-9697-4c8d-ba0e-0aa508bfde52"
      },
      "execution_count": null,
      "outputs": [
        {
          "output_type": "stream",
          "name": "stdout",
          "text": [
            "tf.Tensor(9.7, shape=(), dtype=float32)\n",
            "tf.Tensor(9.7, shape=(), dtype=float32)\n",
            "tf.Tensor(9.7, shape=(), dtype=float32)\n",
            "tf.Tensor(9.7, shape=(), dtype=float32)\n"
          ]
        }
      ]
    },
    {
      "cell_type": "code",
      "source": [
        "tf.constant(2.7) + tf.constant(5)    # tensors -> no automatic conversion !"
      ],
      "metadata": {
        "colab": {
          "base_uri": "https://localhost:8080/",
          "height": 358
        },
        "id": "fdDFhFZ_aOcT",
        "outputId": "3cb7ec07-60d0-4850-a7d0-46f29ee951fb"
      },
      "execution_count": null,
      "outputs": [
        {
          "output_type": "error",
          "ename": "InvalidArgumentError",
          "evalue": "ignored",
          "traceback": [
            "\u001b[0;31m---------------------------------------------------------------------------\u001b[0m",
            "\u001b[0;31mInvalidArgumentError\u001b[0m                      Traceback (most recent call last)",
            "\u001b[0;32m<ipython-input-307-a00ec2a883ec>\u001b[0m in \u001b[0;36m<cell line: 1>\u001b[0;34m()\u001b[0m\n\u001b[0;32m----> 1\u001b[0;31m \u001b[0mtf\u001b[0m\u001b[0;34m.\u001b[0m\u001b[0mconstant\u001b[0m\u001b[0;34m(\u001b[0m\u001b[0;36m2.7\u001b[0m\u001b[0;34m)\u001b[0m \u001b[0;34m+\u001b[0m \u001b[0mtf\u001b[0m\u001b[0;34m.\u001b[0m\u001b[0mconstant\u001b[0m\u001b[0;34m(\u001b[0m\u001b[0;36m5\u001b[0m\u001b[0;34m)\u001b[0m    \u001b[0;31m# tensors -> no automatic conversion !\u001b[0m\u001b[0;34m\u001b[0m\u001b[0;34m\u001b[0m\u001b[0m\n\u001b[0m",
            "\u001b[0;32m/usr/local/lib/python3.10/dist-packages/tensorflow/python/util/traceback_utils.py\u001b[0m in \u001b[0;36merror_handler\u001b[0;34m(*args, **kwargs)\u001b[0m\n\u001b[1;32m    151\u001b[0m     \u001b[0;32mexcept\u001b[0m \u001b[0mException\u001b[0m \u001b[0;32mas\u001b[0m \u001b[0me\u001b[0m\u001b[0;34m:\u001b[0m\u001b[0;34m\u001b[0m\u001b[0;34m\u001b[0m\u001b[0m\n\u001b[1;32m    152\u001b[0m       \u001b[0mfiltered_tb\u001b[0m \u001b[0;34m=\u001b[0m \u001b[0m_process_traceback_frames\u001b[0m\u001b[0;34m(\u001b[0m\u001b[0me\u001b[0m\u001b[0;34m.\u001b[0m\u001b[0m__traceback__\u001b[0m\u001b[0;34m)\u001b[0m\u001b[0;34m\u001b[0m\u001b[0;34m\u001b[0m\u001b[0m\n\u001b[0;32m--> 153\u001b[0;31m       \u001b[0;32mraise\u001b[0m \u001b[0me\u001b[0m\u001b[0;34m.\u001b[0m\u001b[0mwith_traceback\u001b[0m\u001b[0;34m(\u001b[0m\u001b[0mfiltered_tb\u001b[0m\u001b[0;34m)\u001b[0m \u001b[0;32mfrom\u001b[0m \u001b[0;32mNone\u001b[0m\u001b[0;34m\u001b[0m\u001b[0;34m\u001b[0m\u001b[0m\n\u001b[0m\u001b[1;32m    154\u001b[0m     \u001b[0;32mfinally\u001b[0m\u001b[0;34m:\u001b[0m\u001b[0;34m\u001b[0m\u001b[0;34m\u001b[0m\u001b[0m\n\u001b[1;32m    155\u001b[0m       \u001b[0;32mdel\u001b[0m \u001b[0mfiltered_tb\u001b[0m\u001b[0;34m\u001b[0m\u001b[0;34m\u001b[0m\u001b[0m\n",
            "\u001b[0;32m/usr/local/lib/python3.10/dist-packages/tensorflow/python/framework/ops.py\u001b[0m in \u001b[0;36mraise_from_not_ok_status\u001b[0;34m(e, name)\u001b[0m\n\u001b[1;32m   6654\u001b[0m \u001b[0;32mdef\u001b[0m \u001b[0mraise_from_not_ok_status\u001b[0m\u001b[0;34m(\u001b[0m\u001b[0me\u001b[0m\u001b[0;34m,\u001b[0m \u001b[0mname\u001b[0m\u001b[0;34m)\u001b[0m\u001b[0;34m:\u001b[0m\u001b[0;34m\u001b[0m\u001b[0;34m\u001b[0m\u001b[0m\n\u001b[1;32m   6655\u001b[0m   \u001b[0me\u001b[0m\u001b[0;34m.\u001b[0m\u001b[0mmessage\u001b[0m \u001b[0;34m+=\u001b[0m \u001b[0;34m(\u001b[0m\u001b[0;34m\" name: \"\u001b[0m \u001b[0;34m+\u001b[0m \u001b[0mstr\u001b[0m\u001b[0;34m(\u001b[0m\u001b[0mname\u001b[0m \u001b[0;32mif\u001b[0m \u001b[0mname\u001b[0m \u001b[0;32mis\u001b[0m \u001b[0;32mnot\u001b[0m \u001b[0;32mNone\u001b[0m \u001b[0;32melse\u001b[0m \u001b[0;34m\"\"\u001b[0m\u001b[0;34m)\u001b[0m\u001b[0;34m)\u001b[0m\u001b[0;34m\u001b[0m\u001b[0;34m\u001b[0m\u001b[0m\n\u001b[0;32m-> 6656\u001b[0;31m   \u001b[0;32mraise\u001b[0m \u001b[0mcore\u001b[0m\u001b[0;34m.\u001b[0m\u001b[0m_status_to_exception\u001b[0m\u001b[0;34m(\u001b[0m\u001b[0me\u001b[0m\u001b[0;34m)\u001b[0m \u001b[0;32mfrom\u001b[0m \u001b[0;32mNone\u001b[0m  \u001b[0;31m# pylint: disable=protected-access\u001b[0m\u001b[0;34m\u001b[0m\u001b[0;34m\u001b[0m\u001b[0m\n\u001b[0m\u001b[1;32m   6657\u001b[0m \u001b[0;34m\u001b[0m\u001b[0m\n\u001b[1;32m   6658\u001b[0m \u001b[0;34m\u001b[0m\u001b[0m\n",
            "\u001b[0;31mInvalidArgumentError\u001b[0m: cannot compute AddV2 as input #1(zero-based) was expected to be a float tensor but is a int32 tensor [Op:AddV2] name: "
          ]
        }
      ]
    },
    {
      "cell_type": "markdown",
      "source": [
        "- When working with both TensorFlow tensors and NumPy arrays, TensorFlow will attempt to handle data type conversions automatically.\n",
        "- But, operations between two TensorFlow tensors, TensorFlow is more strict about ensuring that the data types match.\n",
        "- to convert data type, use tf.cast()."
      ],
      "metadata": {
        "id": "oZ2iCOrjbtqm"
      }
    },
    {
      "cell_type": "code",
      "source": [
        "n = np.array(7.)\n",
        "print(tf.constant(n).dtype, tf.constant(2.7).dtype)\n",
        "tf.constant(n) + tf.constant(2.7)      # causing data type mismatch error !"
      ],
      "metadata": {
        "colab": {
          "base_uri": "https://localhost:8080/",
          "height": 410
        },
        "id": "rAwAh5UoYa00",
        "outputId": "51c1cfca-bbff-41ad-a09a-d37a8f093529"
      },
      "execution_count": null,
      "outputs": [
        {
          "output_type": "stream",
          "name": "stdout",
          "text": [
            "<dtype: 'float64'> <dtype: 'float32'>\n"
          ]
        },
        {
          "output_type": "error",
          "ename": "InvalidArgumentError",
          "evalue": "ignored",
          "traceback": [
            "\u001b[0;31m---------------------------------------------------------------------------\u001b[0m",
            "\u001b[0;31mInvalidArgumentError\u001b[0m                      Traceback (most recent call last)",
            "\u001b[0;32m<ipython-input-309-b40484c644bc>\u001b[0m in \u001b[0;36m<cell line: 3>\u001b[0;34m()\u001b[0m\n\u001b[1;32m      1\u001b[0m \u001b[0mn\u001b[0m \u001b[0;34m=\u001b[0m \u001b[0mnp\u001b[0m\u001b[0;34m.\u001b[0m\u001b[0marray\u001b[0m\u001b[0;34m(\u001b[0m\u001b[0;36m7.\u001b[0m\u001b[0;34m)\u001b[0m\u001b[0;34m\u001b[0m\u001b[0;34m\u001b[0m\u001b[0m\n\u001b[1;32m      2\u001b[0m \u001b[0mprint\u001b[0m\u001b[0;34m(\u001b[0m\u001b[0mtf\u001b[0m\u001b[0;34m.\u001b[0m\u001b[0mconstant\u001b[0m\u001b[0;34m(\u001b[0m\u001b[0mn\u001b[0m\u001b[0;34m)\u001b[0m\u001b[0;34m.\u001b[0m\u001b[0mdtype\u001b[0m\u001b[0;34m,\u001b[0m \u001b[0mtf\u001b[0m\u001b[0;34m.\u001b[0m\u001b[0mconstant\u001b[0m\u001b[0;34m(\u001b[0m\u001b[0;36m2.7\u001b[0m\u001b[0;34m)\u001b[0m\u001b[0;34m.\u001b[0m\u001b[0mdtype\u001b[0m\u001b[0;34m)\u001b[0m\u001b[0;34m\u001b[0m\u001b[0;34m\u001b[0m\u001b[0m\n\u001b[0;32m----> 3\u001b[0;31m \u001b[0mtf\u001b[0m\u001b[0;34m.\u001b[0m\u001b[0mconstant\u001b[0m\u001b[0;34m(\u001b[0m\u001b[0mn\u001b[0m\u001b[0;34m)\u001b[0m \u001b[0;34m+\u001b[0m \u001b[0mtf\u001b[0m\u001b[0;34m.\u001b[0m\u001b[0mconstant\u001b[0m\u001b[0;34m(\u001b[0m\u001b[0;36m2.7\u001b[0m\u001b[0;34m)\u001b[0m      \u001b[0;31m# causing data type mismatch error !\u001b[0m\u001b[0;34m\u001b[0m\u001b[0;34m\u001b[0m\u001b[0m\n\u001b[0m",
            "\u001b[0;32m/usr/local/lib/python3.10/dist-packages/tensorflow/python/util/traceback_utils.py\u001b[0m in \u001b[0;36merror_handler\u001b[0;34m(*args, **kwargs)\u001b[0m\n\u001b[1;32m    151\u001b[0m     \u001b[0;32mexcept\u001b[0m \u001b[0mException\u001b[0m \u001b[0;32mas\u001b[0m \u001b[0me\u001b[0m\u001b[0;34m:\u001b[0m\u001b[0;34m\u001b[0m\u001b[0;34m\u001b[0m\u001b[0m\n\u001b[1;32m    152\u001b[0m       \u001b[0mfiltered_tb\u001b[0m \u001b[0;34m=\u001b[0m \u001b[0m_process_traceback_frames\u001b[0m\u001b[0;34m(\u001b[0m\u001b[0me\u001b[0m\u001b[0;34m.\u001b[0m\u001b[0m__traceback__\u001b[0m\u001b[0;34m)\u001b[0m\u001b[0;34m\u001b[0m\u001b[0;34m\u001b[0m\u001b[0m\n\u001b[0;32m--> 153\u001b[0;31m       \u001b[0;32mraise\u001b[0m \u001b[0me\u001b[0m\u001b[0;34m.\u001b[0m\u001b[0mwith_traceback\u001b[0m\u001b[0;34m(\u001b[0m\u001b[0mfiltered_tb\u001b[0m\u001b[0;34m)\u001b[0m \u001b[0;32mfrom\u001b[0m \u001b[0;32mNone\u001b[0m\u001b[0;34m\u001b[0m\u001b[0;34m\u001b[0m\u001b[0m\n\u001b[0m\u001b[1;32m    154\u001b[0m     \u001b[0;32mfinally\u001b[0m\u001b[0;34m:\u001b[0m\u001b[0;34m\u001b[0m\u001b[0;34m\u001b[0m\u001b[0m\n\u001b[1;32m    155\u001b[0m       \u001b[0;32mdel\u001b[0m \u001b[0mfiltered_tb\u001b[0m\u001b[0;34m\u001b[0m\u001b[0;34m\u001b[0m\u001b[0m\n",
            "\u001b[0;32m/usr/local/lib/python3.10/dist-packages/tensorflow/python/framework/ops.py\u001b[0m in \u001b[0;36mraise_from_not_ok_status\u001b[0;34m(e, name)\u001b[0m\n\u001b[1;32m   6654\u001b[0m \u001b[0;32mdef\u001b[0m \u001b[0mraise_from_not_ok_status\u001b[0m\u001b[0;34m(\u001b[0m\u001b[0me\u001b[0m\u001b[0;34m,\u001b[0m \u001b[0mname\u001b[0m\u001b[0;34m)\u001b[0m\u001b[0;34m:\u001b[0m\u001b[0;34m\u001b[0m\u001b[0;34m\u001b[0m\u001b[0m\n\u001b[1;32m   6655\u001b[0m   \u001b[0me\u001b[0m\u001b[0;34m.\u001b[0m\u001b[0mmessage\u001b[0m \u001b[0;34m+=\u001b[0m \u001b[0;34m(\u001b[0m\u001b[0;34m\" name: \"\u001b[0m \u001b[0;34m+\u001b[0m \u001b[0mstr\u001b[0m\u001b[0;34m(\u001b[0m\u001b[0mname\u001b[0m \u001b[0;32mif\u001b[0m \u001b[0mname\u001b[0m \u001b[0;32mis\u001b[0m \u001b[0;32mnot\u001b[0m \u001b[0;32mNone\u001b[0m \u001b[0;32melse\u001b[0m \u001b[0;34m\"\"\u001b[0m\u001b[0;34m)\u001b[0m\u001b[0;34m)\u001b[0m\u001b[0;34m\u001b[0m\u001b[0;34m\u001b[0m\u001b[0m\n\u001b[0;32m-> 6656\u001b[0;31m   \u001b[0;32mraise\u001b[0m \u001b[0mcore\u001b[0m\u001b[0;34m.\u001b[0m\u001b[0m_status_to_exception\u001b[0m\u001b[0;34m(\u001b[0m\u001b[0me\u001b[0m\u001b[0;34m)\u001b[0m \u001b[0;32mfrom\u001b[0m \u001b[0;32mNone\u001b[0m  \u001b[0;31m# pylint: disable=protected-access\u001b[0m\u001b[0;34m\u001b[0m\u001b[0;34m\u001b[0m\u001b[0m\n\u001b[0m\u001b[1;32m   6657\u001b[0m \u001b[0;34m\u001b[0m\u001b[0m\n\u001b[1;32m   6658\u001b[0m \u001b[0;34m\u001b[0m\u001b[0m\n",
            "\u001b[0;31mInvalidArgumentError\u001b[0m: cannot compute AddV2 as input #1(zero-based) was expected to be a double tensor but is a float tensor [Op:AddV2] name: "
          ]
        }
      ]
    },
    {
      "cell_type": "code",
      "source": [
        "tf.cast(tf.constant(n), tf.float32) + tf.constant(2.7)"
      ],
      "metadata": {
        "colab": {
          "base_uri": "https://localhost:8080/"
        },
        "id": "qoIFwMNmcK6U",
        "outputId": "0a3b7a3e-4dae-4842-f6a2-913987f3d7e3"
      },
      "execution_count": null,
      "outputs": [
        {
          "output_type": "execute_result",
          "data": {
            "text/plain": [
              "<tf.Tensor: shape=(), dtype=float32, numpy=102.7>"
            ]
          },
          "metadata": {},
          "execution_count": 371
        }
      ]
    },
    {
      "cell_type": "code",
      "source": [
        "# for your reference (to see how many bits Python uses for 'float' - 64-bit double)\n",
        "import sys\n",
        "print(sys.float_info)"
      ],
      "metadata": {
        "colab": {
          "base_uri": "https://localhost:8080/"
        },
        "id": "D0IWetTPZies",
        "outputId": "35e16341-3094-4c3c-ca3b-49bc365c801b"
      },
      "execution_count": null,
      "outputs": [
        {
          "output_type": "stream",
          "name": "stdout",
          "text": [
            "sys.float_info(max=1.7976931348623157e+308, max_exp=1024, max_10_exp=308, min=2.2250738585072014e-308, min_exp=-1021, min_10_exp=-307, dig=15, mant_dig=53, epsilon=2.220446049250313e-16, radix=2, rounds=1)\n"
          ]
        }
      ]
    },
    {
      "cell_type": "code",
      "source": [
        "n1 = np.array([[1.,2.], [3.,4.]])\n",
        "t3, t4  = tf.constant(n1), tf.constant([[2.3, 1.2], [2.1, 1.1]])\n",
        "t3, t4"
      ],
      "metadata": {
        "colab": {
          "base_uri": "https://localhost:8080/"
        },
        "id": "Mt0Mh4xXCpZZ",
        "outputId": "e728c0e1-0644-4165-9f2a-72f006c59558"
      },
      "execution_count": null,
      "outputs": [
        {
          "output_type": "execute_result",
          "data": {
            "text/plain": [
              "(<tf.Tensor: shape=(2, 2), dtype=float64, numpy=\n",
              " array([[1., 2.],\n",
              "        [3., 4.]])>,\n",
              " <tf.Tensor: shape=(2, 2), dtype=float32, numpy=\n",
              " array([[2.3, 1.2],\n",
              "        [2.1, 1.1]], dtype=float32)>)"
            ]
          },
          "metadata": {},
          "execution_count": 382
        }
      ]
    },
    {
      "cell_type": "code",
      "source": [
        "try:\n",
        "    t3 + t4\n",
        "except:\n",
        "    print(\"Error: double can not be added with float. use tf.cast()\")"
      ],
      "metadata": {
        "colab": {
          "base_uri": "https://localhost:8080/"
        },
        "id": "CLPYauMoDWYp",
        "outputId": "4b0b1d88-8c6c-455d-d5e2-f4ed160f44bf"
      },
      "execution_count": null,
      "outputs": [
        {
          "output_type": "stream",
          "name": "stdout",
          "text": [
            "Error: double can not be added with float. use tf.cast()\n"
          ]
        }
      ]
    },
    {
      "cell_type": "code",
      "source": [
        "#  print(t3 + t4)   # error\n",
        "tf.cast(t3, tf.float32) + t4"
      ],
      "metadata": {
        "colab": {
          "base_uri": "https://localhost:8080/"
        },
        "id": "O1yQHOa9fADE",
        "outputId": "057908f5-f424-4910-82d5-5a9c6c52d37b"
      },
      "execution_count": null,
      "outputs": [
        {
          "output_type": "execute_result",
          "data": {
            "text/plain": [
              "<tf.Tensor: shape=(2, 2), dtype=float32, numpy=\n",
              "array([[3.3, 3.2],\n",
              "       [5.1, 5.1]], dtype=float32)>"
            ]
          },
          "metadata": {},
          "execution_count": 385
        }
      ]
    },
    {
      "cell_type": "markdown",
      "source": [
        "## Linear Regression with Numpy"
      ],
      "metadata": {
        "id": "Cn0Jumtlf6iD"
      }
    },
    {
      "cell_type": "code",
      "source": [
        "np.random.seed(17)\n",
        "n = 100\n",
        "x = np.random.randn(n)               # batch size\n",
        "y = x*10 + 10                        # w=10, b=10\n",
        "y = y + np.random.randn(n) * 7       # add noise\n",
        "\n",
        "plt.scatter(x, y)\n",
        "plt.xlabel('x')\n",
        "plt.xlabel('y')\n",
        "plt.title(\"Training Data\")\n",
        "plt.show()"
      ],
      "metadata": {
        "colab": {
          "base_uri": "https://localhost:8080/",
          "height": 472
        },
        "id": "CFJWjQZYgSUh",
        "outputId": "09cbf8f8-ab7f-4ee8-e172-d21af8dc3c39"
      },
      "execution_count": null,
      "outputs": [
        {
          "output_type": "display_data",
          "data": {
            "text/plain": [
              "<Figure size 640x480 with 1 Axes>"
            ],
            "image/png": "[encoded data removed]"
          },
          "metadata": {}
        }
      ]
    },
    {
      "cell_type": "code",
      "source": [
        "w=np.random.randn()\n",
        "b=np.random.randn()\n",
        "\n",
        "lr = 0.02\n",
        "n_epoch = 200\n",
        "lossHistory = []\n",
        "\n",
        "for epoch in range(n_epoch):\n",
        "    y_pred = w*x + b\n",
        "    error = ((y_pred - y)**2).mean()\n",
        "\n",
        "    w = w - lr* ((y_pred - y)*x).mean()\n",
        "    b = b - lr* (y_pred - y).mean()\n",
        "    lossHistory.append(error)\n",
        "\n",
        "print('epoch=', epoch, 'error=', error, 'w=', w, 'b=', b)\n",
        "\n",
        "plt.plot(lossHistory)"
      ],
      "metadata": {
        "colab": {
          "base_uri": "https://localhost:8080/",
          "height": 465
        },
        "id": "tjlnGDi7f5mr",
        "outputId": "9a736866-f839-4ab9-b6dc-c603876f7e74"
      },
      "execution_count": null,
      "outputs": [
        {
          "output_type": "stream",
          "name": "stdout",
          "text": [
            "epoch= 199 error= 44.039056119990974 w= 10.253254672242234 b= 9.903642788225548\n"
          ]
        },
        {
          "output_type": "execute_result",
          "data": {
            "text/plain": [
              "[<matplotlib.lines.Line2D at 0x7ddecaebf670>]"
            ]
          },
          "metadata": {},
          "execution_count": 387
        },
        {
          "output_type": "display_data",
          "data": {
            "text/plain": [
              "<Figure size 640x480 with 1 Axes>"
            ],
            "image/png": "[encoded data removed]"
          },
          "metadata": {}
        }
      ]
    },
    {
      "cell_type": "markdown",
      "metadata": {
        "id": "USfgvzzkYnMd"
      },
      "source": [
        "## Linear Regression using Tensorflow 2.0"
      ]
    },
    {
      "cell_type": "markdown",
      "source": [
        "### Version 1"
      ],
      "metadata": {
        "id": "AQOUFDmEnLfj"
      }
    },
    {
      "cell_type": "code",
      "metadata": {
        "id": "DqtC4Q7DYrXU",
        "colab": {
          "base_uri": "https://localhost:8080/",
          "height": 812
        },
        "outputId": "985e1a26-7b41-4a00-e263-be09ea762551"
      },
      "source": [
        "W = tf.Variable(-2.9)\n",
        "b = tf.Variable(0.7)\n",
        "print(W.shape)\n",
        "\n",
        "learning_rate = 0.02\n",
        "lossHistory = []\n",
        "\n",
        "for i in range(200):\n",
        "    y_pred = W * x + b\n",
        "    cost = tf.reduce_mean(tf.square(y_pred - y))\n",
        "\n",
        "    W_grad = tf.reduce_mean((y_pred - y) * x)\n",
        "    b_grad = tf.reduce_mean(y_pred - y)\n",
        "    # W = W - learning_rate * W_grad\n",
        "    # b = b - learning_rate * b_grad\n",
        "\n",
        "    W.assign_sub(learning_rate * W_grad)   # recommended\n",
        "    b.assign_sub(learning_rate * b_grad)\n",
        "\n",
        "    lossHistory.append(cost)\n",
        "    if i % 10 == 0:\n",
        "        print(\"{:5}|{:10.4f}|{:10.4}|{:10.6f}\".format(i, W.numpy(), b.numpy(), cost))\n",
        "\n",
        "plt.plot(lossHistory)"
      ],
      "execution_count": null,
      "outputs": [
        {
          "output_type": "stream",
          "name": "stdout",
          "text": [
            "()\n",
            "    0|   -2.5451|    0.9159|378.381378\n",
            "   10|    0.5214|     2.814|242.332443\n",
            "   20|    2.8591|     4.309|161.778473\n",
            "   30|    4.6404|     5.489|114.038094\n",
            "   40|    5.9968|      6.42| 85.714661\n",
            "   50|    7.0293|     7.157| 68.890579\n",
            "   60|    7.8145|     7.741| 58.883469\n",
            "   70|    8.4114|     8.203| 52.921947\n",
            "   80|    8.8647|     8.571| 49.364365\n",
            "   90|    9.2087|     8.863| 47.237202\n",
            "  100|    9.4695|     9.095| 45.962578\n",
            "  110|    9.6671|      9.28| 45.196949\n",
            "  120|    9.8165|     9.428| 44.735825\n",
            "  130|    9.9294|     9.546| 44.457291\n",
            "  140|   10.0147|      9.64| 44.288502\n",
            "  150|   10.0789|     9.716| 44.185860\n",
            "  160|   10.1272|     9.776| 44.123203\n",
            "  170|   10.1634|     9.825| 44.084805\n",
            "  180|   10.1906|     9.864| 44.061172\n",
            "  190|   10.2109|     9.896| 44.046555\n"
          ]
        },
        {
          "output_type": "execute_result",
          "data": {
            "text/plain": [
              "[<matplotlib.lines.Line2D at 0x7dded41a28f0>]"
            ]
          },
          "metadata": {},
          "execution_count": 388
        },
        {
          "output_type": "display_data",
          "data": {
            "text/plain": [
              "<Figure size 640x480 with 1 Axes>"
            ],
            "image/png": "[encoded data removed]"
          },
          "metadata": {}
        }
      ]
    },
    {
      "cell_type": "markdown",
      "metadata": {
        "id": "rYfLpeKSeshU"
      },
      "source": [
        "### Version 2 (using tf.GradientTape())"
      ]
    },
    {
      "cell_type": "code",
      "metadata": {
        "id": "lLQnC9qQckYc",
        "colab": {
          "base_uri": "https://localhost:8080/",
          "height": 795
        },
        "outputId": "7b853160-94a0-4824-ef15-a53388e1350c"
      },
      "source": [
        "W = tf.Variable(-2.9)\n",
        "b = tf.Variable(0.7)\n",
        "\n",
        "learning_rate = 0.02\n",
        "lossHistory = []\n",
        "\n",
        "for i in range(200):\n",
        "    with tf.GradientTape() as tape:\n",
        "        y_pred = W * x + b\n",
        "        cost = tf.reduce_mean(tf.square(y_pred - y))\n",
        "\n",
        "    W_grad, b_grad = tape.gradient(cost, [W,b])  # dCost/dw, dCost/db\n",
        "\n",
        "    W.assign_sub(learning_rate * W_grad)   # W is still a Variable.\n",
        "    b.assign_sub(learning_rate * b_grad)\n",
        "    #\n",
        "    # W = W - learning_rate * W_grad\n",
        "    # b = b - learning_rate * b_grad\n",
        "    # will cause error (W will be changed from Variable -> Tensor)\n",
        "    # then, tape.gradient will return None.\n",
        "\n",
        "    lossHistory.append(cost)\n",
        "    if i % 10 == 0:\n",
        "        print(\"{:5}|{:10.4f}|{:10.4}|{:10.6f}\".format(i, W.numpy(), b.numpy(), cost))\n",
        "\n",
        "plt.plot(lossHistory)"
      ],
      "execution_count": null,
      "outputs": [
        {
          "output_type": "stream",
          "name": "stdout",
          "text": [
            "    0|   -2.1902|     1.132|378.381378\n",
            "   10|    3.1205|     4.474|160.143356\n",
            "   20|    6.1804|     6.543| 84.576569\n",
            "   30|    7.9393|     7.829| 58.286949\n",
            "   40|    8.9474|     8.633| 49.084991\n",
            "   50|    9.5233|     9.139| 45.839092\n",
            "   60|    9.8509|     9.459| 44.682995\n",
            "   70|   10.0364|     9.662| 44.266293\n",
            "   80|   10.1407|     9.791| 44.113945\n",
            "   90|   10.1989|     9.874| 44.057316\n",
            "  100|   10.2310|     9.928| 44.035866\n",
            "  110|   10.2486|     9.963| 44.027573\n",
            "  120|   10.2580|     9.986| 44.024296\n",
            "  130|   10.2630|      10.0| 44.022980\n",
            "  140|   10.2655|     10.01| 44.022438\n",
            "  150|   10.2667|     10.02| 44.022202\n",
            "  160|   10.2672|     10.02| 44.022114\n",
            "  170|   10.2674|     10.02| 44.022064\n",
            "  180|   10.2674|     10.03| 44.022049\n",
            "  190|   10.2674|     10.03| 44.022041\n"
          ]
        },
        {
          "output_type": "execute_result",
          "data": {
            "text/plain": [
              "[<matplotlib.lines.Line2D at 0x7dded40b69b0>]"
            ]
          },
          "metadata": {},
          "execution_count": 389
        },
        {
          "output_type": "display_data",
          "data": {
            "text/plain": [
              "<Figure size 640x480 with 1 Axes>"
            ],
            "image/png": "[encoded data removed]"
          },
          "metadata": {}
        }
      ]
    },
    {
      "cell_type": "code",
      "source": [
        "W_grad, W, cost"
      ],
      "metadata": {
        "colab": {
          "base_uri": "https://localhost:8080/"
        },
        "id": "ECJwXHsb_5Pp",
        "outputId": "21602ef4-90da-452e-ec97-bee0f9206ecf"
      },
      "execution_count": null,
      "outputs": [
        {
          "output_type": "execute_result",
          "data": {
            "text/plain": [
              "(<tf.Tensor: shape=(), dtype=float32, numpy=0.0003003776>,\n",
              " <tf.Variable 'Variable:0' shape=() dtype=float32, numpy=10.267328>,\n",
              " <tf.Tensor: shape=(), dtype=float32, numpy=44.022038>)"
            ]
          },
          "metadata": {},
          "execution_count": 390
        }
      ]
    },
    {
      "cell_type": "markdown",
      "metadata": {
        "id": "pDux_6CzolFW"
      },
      "source": [
        "### Version 3 (tf.GradientTape() and opt.apply_gradients())\n",
        "- opt.apply_gradients(): it allows you to explicitly compute gradients and apply them to variables, giving you more control over the process.\n",
        "  - loss = ...\n",
        "  - opt = tf.optimizers.Adam()\n",
        "  - gradients = tape.gradient(loss, variables) \\# Compute gradients with respect to variables\n",
        "  - opt.apply_gradients(zip(gradients, variables))  \\# Apply gradients to variables\n",
        "- opt.minimize(): it combines two steps: computing gradients and applying them to update the variables.\n",
        "  - loss = ...\n",
        "  - opt = tf.optimizers.Adam()\n",
        "\n",
        "  - opt.minimize(loss, var_list=variables)  \\# Compute gradients and update variables"
      ]
    },
    {
      "cell_type": "code",
      "metadata": {
        "colab": {
          "base_uri": "https://localhost:8080/",
          "height": 795
        },
        "id": "cF2ZbGpEojzv",
        "outputId": "46b6b3eb-36ca-4c54-a682-d027f845d7c5"
      },
      "source": [
        "# customize the training loop\n",
        "\n",
        "W = tf.Variable(-2.9)\n",
        "b = tf.Variable(0.7)\n",
        "\n",
        "learning_rate = 0.02\n",
        "lossHistory = []\n",
        "\n",
        "for i in range(200):\n",
        "    with tf.GradientTape() as tape:\n",
        "        y_pred = W * x + b\n",
        "        cost = tf.reduce_mean(tf.square(y_pred - y))\n",
        "\n",
        "    grads = tape.gradient(cost, [W, b])\n",
        "\n",
        "    optimizer = tf.optimizers.SGD( learning_rate )\n",
        "    optimizer.apply_gradients(zip(grads, [W,b]))\n",
        "\n",
        "    lossHistory.append(cost)\n",
        "    if i % 10 == 0:\n",
        "        print(\"{:5}|{:10.4f}|{:10.4}|{:10.6f}\".format(i, W.numpy(), b.numpy(), cost))\n",
        "\n",
        "plt.plot(lossHistory)"
      ],
      "execution_count": null,
      "outputs": [
        {
          "output_type": "stream",
          "name": "stdout",
          "text": [
            "    0|   -2.1902|     1.132|378.381378\n",
            "   10|    3.1205|     4.474|160.143356\n",
            "   20|    6.1804|     6.543| 84.576569\n",
            "   30|    7.9393|     7.829| 58.286949\n",
            "   40|    8.9474|     8.633| 49.084991\n",
            "   50|    9.5233|     9.139| 45.839092\n",
            "   60|    9.8509|     9.459| 44.682995\n",
            "   70|   10.0364|     9.662| 44.266293\n",
            "   80|   10.1407|     9.791| 44.113945\n",
            "   90|   10.1989|     9.874| 44.057316\n",
            "  100|   10.2310|     9.928| 44.035866\n",
            "  110|   10.2486|     9.963| 44.027573\n",
            "  120|   10.2580|     9.986| 44.024296\n",
            "  130|   10.2630|      10.0| 44.022980\n",
            "  140|   10.2655|     10.01| 44.022438\n",
            "  150|   10.2667|     10.02| 44.022202\n",
            "  160|   10.2672|     10.02| 44.022114\n",
            "  170|   10.2674|     10.02| 44.022064\n",
            "  180|   10.2674|     10.03| 44.022049\n",
            "  190|   10.2674|     10.03| 44.022041\n"
          ]
        },
        {
          "output_type": "execute_result",
          "data": {
            "text/plain": [
              "[<matplotlib.lines.Line2D at 0x7dded3f03a90>]"
            ]
          },
          "metadata": {},
          "execution_count": 391
        },
        {
          "output_type": "display_data",
          "data": {
            "text/plain": [
              "<Figure size 640x480 with 1 Axes>"
            ],
            "image/png": "[encoded data removed]"
          },
          "metadata": {}
        }
      ]
    },
    {
      "cell_type": "markdown",
      "source": [
        "### Version 4 (opt.minimize())"
      ],
      "metadata": {
        "id": "788_-_rEsfAw"
      }
    },
    {
      "cell_type": "code",
      "source": [
        "W = tf.Variable(-2.9)\n",
        "b = tf.Variable(0.7)\n",
        "\n",
        "learning_rate = 0.02\n",
        "\n",
        "def compute_loss():\n",
        "    y_pred = W * x + b\n",
        "    return tf.reduce_mean(tf.square(y_pred - y))\n",
        "\n",
        "opt = tf.optimizers.SGD(learning_rate)\n",
        "lossHistory = []\n",
        "\n",
        "for i in range(200):\n",
        "    opt.minimize(compute_loss, var_list=[W, b])   # GradientTape() + apply_gradients()\n",
        "    lossHistory.append(compute_loss().numpy())\n",
        "\n",
        "print(W.numpy(), b.numpy())\n",
        "plt.plot(lossHistory)"
      ],
      "metadata": {
        "colab": {
          "base_uri": "https://localhost:8080/",
          "height": 465
        },
        "id": "c8Wsg1AzsdkR",
        "outputId": "da69ba6c-cd23-492a-9361-8040374c1203"
      },
      "execution_count": null,
      "outputs": [
        {
          "output_type": "stream",
          "name": "stdout",
          "text": [
            "10.267328 10.027178\n"
          ]
        },
        {
          "output_type": "execute_result",
          "data": {
            "text/plain": [
              "[<matplotlib.lines.Line2D at 0x7dded3d59d50>]"
            ]
          },
          "metadata": {},
          "execution_count": 392
        },
        {
          "output_type": "display_data",
          "data": {
            "text/plain": [
              "<Figure size 640x480 with 1 Axes>"
            ],
            "image/png": "[encoded data removed]"
          },
          "metadata": {}
        }
      ]
    },
    {
      "cell_type": "markdown",
      "metadata": {
        "id": "OtdZoWc_NJw_"
      },
      "source": [
        "## Linear Regression with multi-variables"
      ]
    },
    {
      "cell_type": "markdown",
      "source": [
        "### Version 1"
      ],
      "metadata": {
        "id": "3aTBErUu3jhP"
      }
    },
    {
      "cell_type": "code",
      "metadata": {
        "colab": {
          "base_uri": "https://localhost:8080/",
          "height": 517
        },
        "id": "WZySn9XQNBLy",
        "outputId": "64c4197b-e16e-490f-ce8f-a82a4a694329"
      },
      "source": [
        "# two features (x1, x2)\n",
        "np.random.seed(17)\n",
        "n = 100\n",
        "x1 = np.random.randn(n)\n",
        "x2 = np.random.randn(n)\n",
        "y = x1*10 + x2*10 + 10\n",
        "y = y + np.random.randn(n) * 2\n",
        "\n",
        "w1, w2, b = tf.Variable(0.3), tf.Variable(0.4), tf.Variable(0.7)\n",
        "learning_rate = 0.01\n",
        "lossHistory = []\n",
        "\n",
        "for i in range(200):\n",
        "    with tf.GradientTape() as tape:\n",
        "        y_pred = x1 * w1 + x2 * w2 + b\n",
        "        cost = tf.reduce_mean(tf.square(y_pred - y))\n",
        "\n",
        "    optimizer = tf.optimizers.SGD( learning_rate )\n",
        "    grads = tape.gradient(cost, [w1, w2, b])\n",
        "\n",
        "    optimizer.apply_gradients(zip(grads, [w1, w2, b]))\n",
        "\n",
        "    lossHistory.append(cost)\n",
        "    if i % 50 == 0:\n",
        "        print(\"{:5}|{:10.4f}|{:10.4f}|{:10.4}|{:10.6f}\".format(i, w1.numpy(), w2.numpy(), b.numpy(), cost))\n",
        "\n",
        "plt.plot(lossHistory)"
      ],
      "execution_count": null,
      "outputs": [
        {
          "output_type": "stream",
          "name": "stdout",
          "text": [
            "    0|    0.5750|    0.5933|    0.9045|327.358063\n",
            "   50|    7.8232|    6.6958|     6.882| 35.078014\n",
            "  100|    9.5265|    9.0240|     8.794|  7.615945\n",
            "  150|    9.8934|    9.9308|     9.427|  4.554090\n"
          ]
        },
        {
          "output_type": "execute_result",
          "data": {
            "text/plain": [
              "[<matplotlib.lines.Line2D at 0x7dded3ce8af0>]"
            ]
          },
          "metadata": {},
          "execution_count": 393
        },
        {
          "output_type": "display_data",
          "data": {
            "text/plain": [
              "<Figure size 640x480 with 1 Axes>"
            ],
            "image/png": "[encoded data removed]"
          },
          "metadata": {}
        }
      ]
    },
    {
      "cell_type": "markdown",
      "metadata": {
        "id": "tobm5Tt0TKwC"
      },
      "source": [
        "### Version 2 (using Matrix form)"
      ]
    },
    {
      "cell_type": "code",
      "metadata": {
        "colab": {
          "base_uri": "https://localhost:8080/",
          "height": 534
        },
        "id": "Ad3VVgoaTMYV",
        "outputId": "08c754d0-5752-4820-db40-ce68c5dd61f1"
      },
      "source": [
        "# matrix form\n",
        "np.random.seed(17)\n",
        "n = 100\n",
        "X = np.random.randn(n,2).astype('float32')\n",
        "y = X[:,0]*10 + X[:,1]*10 + 10\n",
        "y = y + np.random.randn(n) * 2\n",
        "y = y.reshape(-1,1)\n",
        "\n",
        "W = tf.Variable(tf.random.normal([2,1]), name='weight')\n",
        "b = tf.Variable(tf.random.normal([1]), name='bias')\n",
        "\n",
        "print(X.shape, y.shape, W.shape, b.shape)\n",
        "\n",
        "learning_rate = 0.01\n",
        "lossHistory = []\n",
        "\n",
        "for i in range(200):\n",
        "    with tf.GradientTape() as tape:\n",
        "        y_pred = tf.matmul(X, W) + b\n",
        "        cost = tf.reduce_mean(tf.square(y_pred - y))\n",
        "\n",
        "    optimizer = tf.optimizers.SGD( learning_rate )\n",
        "    grads = tape.gradient(cost, [W, b])\n",
        "\n",
        "    optimizer.apply_gradients(zip(grads, [W,b]))\n",
        "\n",
        "    lossHistory.append(cost)\n",
        "    if i % 50 == 0:\n",
        "        print(i, W.numpy().T.round(2), b.numpy().round(2), cost.numpy())\n",
        "\n",
        "plt.plot(lossHistory)"
      ],
      "execution_count": null,
      "outputs": [
        {
          "output_type": "stream",
          "name": "stdout",
          "text": [
            "(100, 2) (100, 1) (2, 1) (1,)\n",
            "0 [[-0.12  0.97]] [0.05] 327.41907\n",
            "50 [[6.93 6.74]] [6.65] 38.876434\n",
            "100 [[9.19 8.77]] [8.74] 7.986212\n",
            "150 [[9.91 9.48]] [9.4] 4.653385\n"
          ]
        },
        {
          "output_type": "execute_result",
          "data": {
            "text/plain": [
              "[<matplotlib.lines.Line2D at 0x7dded3a6e800>]"
            ]
          },
          "metadata": {},
          "execution_count": 394
        },
        {
          "output_type": "display_data",
          "data": {
            "text/plain": [
              "<Figure size 640x480 with 1 Axes>"
            ],
            "image/png": "[encoded data removed]"
          },
          "metadata": {}
        }
      ]
    },
    {
      "cell_type": "code",
      "source": [
        "W, b"
      ],
      "metadata": {
        "colab": {
          "base_uri": "https://localhost:8080/"
        },
        "id": "_-9TdgSc4MlT",
        "outputId": "44611959-9aa5-4895-db00-bd06d6fee42e"
      },
      "execution_count": null,
      "outputs": [
        {
          "output_type": "execute_result",
          "data": {
            "text/plain": [
              "(<tf.Variable 'weight:0' shape=(2, 1) dtype=float32, numpy=\n",
              " array([[10.137806],\n",
              "        [ 9.724808]], dtype=float32)>,\n",
              " <tf.Variable 'bias:0' shape=(1,) dtype=float32, numpy=array([9.608462], dtype=float32)>)"
            ]
          },
          "metadata": {},
          "execution_count": 395
        }
      ]
    },
    {
      "cell_type": "markdown",
      "metadata": {
        "id": "Sg2gAezRhcmk"
      },
      "source": [
        "## Linear regression using keras"
      ]
    },
    {
      "cell_type": "code",
      "metadata": {
        "id": "rTRfnPPAfugd",
        "colab": {
          "base_uri": "https://localhost:8080/",
          "height": 656
        },
        "outputId": "e46b2159-a0e6-4d65-b60c-6ea234c2b3c0"
      },
      "source": [
        "from tensorflow.keras.models import Sequential\n",
        "from tensorflow.keras.layers import Dense, Flatten\n",
        "from tensorflow.keras.optimizers import SGD\n",
        "\n",
        "np.random.seed(17)\n",
        "n = 100\n",
        "x = np.random.randn(n)                # batch size\n",
        "y = x*10 + 10                         # w=10, b=10 ???\n",
        "y = y + np.random.randn(n) * 5        # add noise\n",
        "\n",
        "#---------\n",
        "model = Sequential()\n",
        "model.add(Dense(1, input_shape=(1,), activation='linear'))\n",
        "model.summary()\n",
        "\n",
        "model.compile(optimizer=SGD(learning_rate=1e-2), loss='mse')\n",
        "\n",
        "history = model.fit(x, y, epochs=200, verbose=0, batch_size=16)\n",
        "\n",
        "print([i.numpy() for i in model.weights])\n",
        "# history.history.keys()\n",
        "plt.plot(history.history['loss'], label='train_loss')\n",
        "plt.legend(loc='best')"
      ],
      "execution_count": null,
      "outputs": [
        {
          "output_type": "stream",
          "name": "stdout",
          "text": [
            "Model: \"sequential_11\"\n",
            "_________________________________________________________________\n",
            " Layer (type)                Output Shape              Param #   \n",
            "=================================================================\n",
            " dense_11 (Dense)            (None, 1)                 2         \n",
            "                                                                 \n",
            "=================================================================\n",
            "Total params: 2 (8.00 Byte)\n",
            "Trainable params: 2 (8.00 Byte)\n",
            "Non-trainable params: 0 (0.00 Byte)\n",
            "_________________________________________________________________\n",
            "[array([[10.146212]], dtype=float32), array([10.0345745], dtype=float32)]\n"
          ]
        },
        {
          "output_type": "execute_result",
          "data": {
            "text/plain": [
              "<matplotlib.legend.Legend at 0x7ddecae34400>"
            ]
          },
          "metadata": {},
          "execution_count": 396
        },
        {
          "output_type": "display_data",
          "data": {
            "text/plain": [
              "<Figure size 640x480 with 1 Axes>"
            ],
            "image/png": "[encoded data removed]"
          },
          "metadata": {}
        }
      ]
    },
    {
      "cell_type": "code",
      "source": [
        "model.weights"
      ],
      "metadata": {
        "colab": {
          "base_uri": "https://localhost:8080/"
        },
        "id": "17IJs-SrSgyt",
        "outputId": "84cec524-5037-4efa-f84b-500279af217f"
      },
      "execution_count": null,
      "outputs": [
        {
          "output_type": "execute_result",
          "data": {
            "text/plain": [
              "[<tf.Variable 'dense_11/kernel:0' shape=(1, 1) dtype=float32, numpy=array([[10.146212]], dtype=float32)>,\n",
              " <tf.Variable 'dense_11/bias:0' shape=(1,) dtype=float32, numpy=array([10.0345745], dtype=float32)>]"
            ]
          },
          "metadata": {},
          "execution_count": 397
        }
      ]
    },
    {
      "cell_type": "code",
      "metadata": {
        "colab": {
          "base_uri": "https://localhost:8080/"
        },
        "id": "rUYS8lw9qvnQ",
        "outputId": "70f85067-8c04-4951-ce11-bbf944402494"
      },
      "source": [
        "model.evaluate(x,y)   # loss"
      ],
      "execution_count": null,
      "outputs": [
        {
          "output_type": "stream",
          "name": "stdout",
          "text": [
            "4/4 [==============================] - 0s 3ms/step - loss: 22.4628\n"
          ]
        },
        {
          "output_type": "execute_result",
          "data": {
            "text/plain": [
              "22.46279525756836"
            ]
          },
          "metadata": {},
          "execution_count": 398
        }
      ]
    },
    {
      "cell_type": "markdown",
      "metadata": {
        "id": "qKE64DlB2RIZ"
      },
      "source": [
        "## Linear Classification by Logistic regression"
      ]
    },
    {
      "cell_type": "markdown",
      "source": [
        "### using Tensorflow"
      ],
      "metadata": {
        "id": "QZNAp7nZ8jWe"
      }
    },
    {
      "cell_type": "code",
      "metadata": {
        "id": "IiF46TDtSgSa",
        "colab": {
          "base_uri": "https://localhost:8080/",
          "height": 639
        },
        "outputId": "badb5ffc-ad77-4dfa-e0ca-7b8eed23e49e"
      },
      "source": [
        "from sklearn.datasets import make_blobs\n",
        "import pandas as pd\n",
        "import matplotlib.pyplot as plt\n",
        "np.random.seed(17)\n",
        "(X, y) = make_blobs(n_samples=300, n_features=2, centers=2,\n",
        "                    cluster_std=2.0, random_state=20)\n",
        "X = X.astype('float32')\n",
        "y = y.reshape(-1,1)\n",
        "\n",
        "W = tf.Variable(tf.random.normal([2,1]), name='weight')\n",
        "b = tf.Variable(tf.random.normal([1]), name='bias')\n",
        "print(X.shape, y.shape, W.shape, b.shape)\n",
        "\n",
        "learning_rate = 0.01\n",
        "lossHistory = []\n",
        "\n",
        "for i in range(200):\n",
        "    with tf.GradientTape() as tape:\n",
        "        z = tf.matmul(X, W) + b\n",
        "        y_pred = tf.math.divide(1., 1. + tf.exp(-z))\n",
        "        y_pred = tf.clip_by_value(y_pred, 1e-9, 1.)\n",
        "        loss = -tf.reduce_mean(y * tf.math.log(y_pred) + (1 - y) * tf.math.log(1 - y_pred))\n",
        "\n",
        "    grads = tape.gradient(loss, [W, b])\n",
        "    optimizer = tf.optimizers.SGD( learning_rate )\n",
        "    optimizer.apply_gradients(zip(grads, [W, b]))\n",
        "\n",
        "    lossHistory.append(loss)\n",
        "    if i % 20 == 0:\n",
        "        print(i, W.numpy().T, b.numpy(), loss.numpy())\n",
        "\n",
        "plt.plot(lossHistory)"
      ],
      "execution_count": null,
      "outputs": [
        {
          "output_type": "stream",
          "name": "stdout",
          "text": [
            "(300, 2) (300, 1) (2, 1) (1,)\n",
            "0 [[ 0.06290107 -0.7343619 ]] [-1.9370829] 3.3851633\n",
            "20 [[ 0.5961024  -0.26147157]] [-1.8672915] 0.28743464\n",
            "40 [[ 0.6885876  -0.20111789]] [-1.8587044] 0.19644208\n",
            "60 [[ 0.7270357  -0.20789568]] [-1.8593267] 0.18826576\n",
            "80 [[ 0.75583243 -0.22297755]] [-1.8612571] 0.18290661\n",
            "100 [[ 0.78104204 -0.23823945]] [-1.8633934] 0.17850846\n",
            "120 [[ 0.80397487 -0.2525103 ]] [-1.8655548] 0.17481211\n",
            "140 [[ 0.8251047 -0.2657234]] [-1.8677093] 0.17166387\n",
            "160 [[ 0.8447067  -0.27798137]] [-1.8698529] 0.16895263\n",
            "180 [[ 0.86298203 -0.28939748]] [-1.871986] 0.16659543\n"
          ]
        },
        {
          "output_type": "execute_result",
          "data": {
            "text/plain": [
              "[<matplotlib.lines.Line2D at 0x7dded4e97a60>]"
            ]
          },
          "metadata": {},
          "execution_count": 443
        },
        {
          "output_type": "display_data",
          "data": {
            "text/plain": [
              "<Figure size 640x480 with 1 Axes>"
            ],
            "image/png": "[encoded data removed]"
          },
          "metadata": {}
        }
      ]
    },
    {
      "cell_type": "code",
      "metadata": {
        "colab": {
          "base_uri": "https://localhost:8080/",
          "height": 447
        },
        "id": "zx7s1Xxx1L0l",
        "outputId": "c2b7c895-cc1c-4248-810d-8a9676509d86"
      },
      "source": [
        "plt.scatter(X[:,0], X[:,1],c=y)\n",
        "aa, bb, cc = W[0,0], W[1,0], b\n",
        "xx = np.linspace(-3, 13, 100)\n",
        "plt.plot (xx, -aa/bb * xx - cc/bb)\n",
        "plt.plot()"
      ],
      "execution_count": null,
      "outputs": [
        {
          "output_type": "execute_result",
          "data": {
            "text/plain": [
              "[]"
            ]
          },
          "metadata": {},
          "execution_count": 400
        },
        {
          "output_type": "display_data",
          "data": {
            "text/plain": [
              "<Figure size 640x480 with 1 Axes>"
            ],
            "image/png": "[encoded data removed]"
          },
          "metadata": {}
        }
      ]
    },
    {
      "cell_type": "markdown",
      "metadata": {
        "id": "5gVGGBbBrk5O"
      },
      "source": [
        "### Version 2 (Tensorflow, by batches)"
      ]
    },
    {
      "cell_type": "code",
      "metadata": {
        "colab": {
          "base_uri": "https://localhost:8080/",
          "height": 693
        },
        "id": "rp_flCEtrt2r",
        "outputId": "a522aa19-5311-4574-f937-3532e5664866"
      },
      "source": [
        "(X, y) = make_blobs(n_samples=320, n_features=2, centers=2,\n",
        "                    cluster_std=2.0, random_state=20)\n",
        "X, y = X.astype('float32'), y.reshape(-1,1).astype('float32')\n",
        "dataset = tf.data.Dataset.from_tensor_slices((X, y)).shuffle(100).batch(32)\n",
        "\n",
        "W = tf.Variable(tf.random.normal([2,1]), name='weight')\n",
        "b = tf.Variable(tf.random.normal([1]), name='bias')\n",
        "print (W, b)\n",
        "\n",
        "num_epochs = 50\n",
        "learning_rate = 0.01\n",
        "\n",
        "def logistic_regression(X):\n",
        "    z = tf.matmul(X, W) + b\n",
        "    return 1. / (1. + tf.exp(-z))\n",
        "\n",
        "def loss_fn(y_pred, Y):\n",
        "    y_pred = tf.clip_by_value(y_pred, 1e-9, 1.)\n",
        "    return -tf.reduce_mean(Y * tf.math.log(y_pred) + (1 - Y) * tf.math.log(1 - y_pred))\n",
        "\n",
        "lossHistory = []\n",
        "for step in range(num_epochs):\n",
        "    for batch_x, batch_y in iter(dataset):\n",
        "        with tf.GradientTape() as tape:\n",
        "            y_pred = logistic_regression(batch_x)\n",
        "            loss = loss_fn(y_pred, batch_y)\n",
        "\n",
        "        grads = tape.gradient(loss, [W, b])\n",
        "        optimizer = tf.optimizers.SGD( learning_rate )\n",
        "        optimizer.apply_gradients(zip(grads, [W,b]))\n",
        "        lossHistory.append(loss)\n",
        "    if step%5 == 0:\n",
        "        print(\"step: \", step, W.numpy().T, b.numpy(), loss.numpy())\n",
        "\n",
        "plt.plot(lossHistory)"
      ],
      "execution_count": null,
      "outputs": [
        {
          "output_type": "stream",
          "name": "stdout",
          "text": [
            "<tf.Variable 'weight:0' shape=(2, 1) dtype=float32, numpy=\n",
            "array([[-0.34442854],\n",
            "       [-0.12779221]], dtype=float32)> <tf.Variable 'bias:0' shape=(1,) dtype=float32, numpy=array([0.27001145], dtype=float32)>\n",
            "step:  0 [[-0.06405792 -0.01780132]] [0.29101616] 0.78726244\n",
            "step:  5 [[ 0.3243648  -0.23145276]] [0.2737999] 0.34880796\n",
            "step:  10 [[ 0.48701784 -0.32911834]] [0.25992164] 0.17085284\n",
            "step:  15 [[ 0.58921677 -0.39205748]] [0.24771278] 0.21123703\n",
            "step:  20 [[ 0.66349816 -0.43906114]] [0.23634163] 0.19675286\n",
            "step:  25 [[ 0.7218244  -0.47604227]] [0.22557548] 0.1467314\n",
            "step:  30 [[ 0.7696433 -0.5063842]] [0.21525715] 0.15544471\n",
            "step:  35 [[ 0.8102918 -0.5317641]] [0.20530914] 0.20401728\n",
            "step:  40 [[ 0.84491974 -0.554213  ]] [0.19553179] 0.12482171\n",
            "step:  45 [[ 0.8759188 -0.5728132]] [0.1861034] 0.17246644\n"
          ]
        },
        {
          "output_type": "execute_result",
          "data": {
            "text/plain": [
              "[<matplotlib.lines.Line2D at 0x7ddec7885810>]"
            ]
          },
          "metadata": {},
          "execution_count": 401
        },
        {
          "output_type": "display_data",
          "data": {
            "text/plain": [
              "<Figure size 640x480 with 1 Axes>"
            ],
            "image/png": "[encoded data removed]"
          },
          "metadata": {}
        }
      ]
    },
    {
      "cell_type": "code",
      "metadata": {
        "colab": {
          "base_uri": "https://localhost:8080/",
          "height": 447
        },
        "id": "2VZTcVjwKRqV",
        "outputId": "e7fdea1c-fa1a-4c0b-c2b5-0de38a8f7391"
      },
      "source": [
        "plt.scatter(X[:,0], X[:,1],c=y)\n",
        "aa, bb, cc = W[0,0], W[1,0], b\n",
        "xx = np.linspace(-3, 13, 100)\n",
        "plt.plot (xx, -aa/bb * xx - cc/bb)\n",
        "plt.plot()"
      ],
      "execution_count": null,
      "outputs": [
        {
          "output_type": "execute_result",
          "data": {
            "text/plain": [
              "[]"
            ]
          },
          "metadata": {},
          "execution_count": 402
        },
        {
          "output_type": "display_data",
          "data": {
            "text/plain": [
              "<Figure size 640x480 with 1 Axes>"
            ],
            "image/png": "[encoded data removed]"
          },
          "metadata": {}
        }
      ]
    },
    {
      "cell_type": "markdown",
      "metadata": {
        "id": "E75D55KgyVzS"
      },
      "source": [
        "## Logistic regression (with Keras)"
      ]
    },
    {
      "cell_type": "code",
      "metadata": {
        "id": "2ljOebGEyunS",
        "colab": {
          "base_uri": "https://localhost:8080/"
        },
        "outputId": "3c27ad2e-fb53-4fe5-e941-77a5315e389b"
      },
      "source": [
        "from sklearn.datasets import make_blobs\n",
        "\n",
        "np.random.seed(17)\n",
        "N = 320\n",
        "(X, y) = make_blobs(n_samples=N, n_features=2, centers=2,\n",
        "                    cluster_std=2.0, random_state=20)\n",
        "\n",
        "model = Sequential()\n",
        "model.add(Dense(1, input_shape=(2,), activation='sigmoid'))\n",
        "model.summary()\n",
        "\n",
        "model.compile(optimizer=SGD(learning_rate=0.01),\n",
        "              loss='binary_crossentropy',\n",
        "              metrics=['accuracy'])\n",
        "history = model.fit(X, y, epochs=50, batch_size=32, verbose=0)\n",
        "\n",
        "print([i.numpy() for i in model.weights])"
      ],
      "execution_count": null,
      "outputs": [
        {
          "output_type": "stream",
          "name": "stdout",
          "text": [
            "Model: \"sequential_12\"\n",
            "_________________________________________________________________\n",
            " Layer (type)                Output Shape              Param #   \n",
            "=================================================================\n",
            " dense_12 (Dense)            (None, 1)                 3         \n",
            "                                                                 \n",
            "=================================================================\n",
            "Total params: 3 (12.00 Byte)\n",
            "Trainable params: 3 (12.00 Byte)\n",
            "Non-trainable params: 0 (0.00 Byte)\n",
            "_________________________________________________________________\n",
            "[array([[ 1.0574569 ],\n",
            "       [-0.66009635]], dtype=float32), array([-0.04672486], dtype=float32)]\n"
          ]
        }
      ]
    },
    {
      "cell_type": "code",
      "metadata": {
        "colab": {
          "base_uri": "https://localhost:8080/"
        },
        "id": "VOoJGJA2Cjms",
        "outputId": "99e3aa73-78ea-40ac-ec6b-72f69d970d4c"
      },
      "source": [
        "model.weights"
      ],
      "execution_count": null,
      "outputs": [
        {
          "output_type": "execute_result",
          "data": {
            "text/plain": [
              "[<tf.Variable 'dense_12/kernel:0' shape=(2, 1) dtype=float32, numpy=\n",
              " array([[ 1.0574569 ],\n",
              "        [-0.66009635]], dtype=float32)>,\n",
              " <tf.Variable 'dense_12/bias:0' shape=(1,) dtype=float32, numpy=array([-0.04672486], dtype=float32)>]"
            ]
          },
          "metadata": {},
          "execution_count": 404
        }
      ]
    },
    {
      "cell_type": "code",
      "metadata": {
        "colab": {
          "base_uri": "https://localhost:8080/"
        },
        "id": "UZ0WPr7DNiKN",
        "outputId": "6d5f5c58-85a0-4d75-94d5-8aa94ee4245e"
      },
      "source": [
        "model.weights[0].shape, model.weights[1].shape"
      ],
      "execution_count": null,
      "outputs": [
        {
          "output_type": "execute_result",
          "data": {
            "text/plain": [
              "(TensorShape([2, 1]), TensorShape([1]))"
            ]
          },
          "metadata": {},
          "execution_count": 405
        }
      ]
    },
    {
      "cell_type": "code",
      "metadata": {
        "id": "cgpVo24Liwl1",
        "colab": {
          "base_uri": "https://localhost:8080/",
          "height": 447
        },
        "outputId": "1d94fdd8-53d2-462f-dd6a-73452205aa17"
      },
      "source": [
        "plt.scatter(X[:,0], X[:,1], c=y)\n",
        "w1, w2 = model.weights[0][0,0], model.weights[0][1,0]\n",
        "b = model.weights[1]\n",
        "xx = np.linspace(-3, 13, 100)\n",
        "yy = -w1/w2 * xx - b/w2\n",
        "plt.plot(xx, yy)"
      ],
      "execution_count": null,
      "outputs": [
        {
          "output_type": "execute_result",
          "data": {
            "text/plain": [
              "[<matplotlib.lines.Line2D at 0x7ddec78bd780>]"
            ]
          },
          "metadata": {},
          "execution_count": 406
        },
        {
          "output_type": "display_data",
          "data": {
            "text/plain": [
              "<Figure size 640x480 with 1 Axes>"
            ],
            "image/png": "[encoded data removed]"
          },
          "metadata": {}
        }
      ]
    },
    {
      "cell_type": "code",
      "metadata": {
        "id": "p2pkGwmMC-te",
        "colab": {
          "base_uri": "https://localhost:8080/",
          "height": 430
        },
        "outputId": "5c803023-0a4b-4f85-b071-cb2f659d2071"
      },
      "source": [
        "plt.subplot(1,2,1)\n",
        "plt.plot(history.history['loss'], label='loss')\n",
        "plt.subplot(1,2,2)\n",
        "plt.plot(history.history['accuracy'], label='accuracy', c='r')\n",
        "plt.show()"
      ],
      "execution_count": null,
      "outputs": [
        {
          "output_type": "display_data",
          "data": {
            "text/plain": [
              "<Figure size 640x480 with 2 Axes>"
            ],
            "image/png": "[encoded data removed]"
          },
          "metadata": {}
        }
      ]
    },
    {
      "cell_type": "markdown",
      "metadata": {
        "id": "jE-H0qUNC_OD"
      },
      "source": [
        "# Tensorflow 2.0 and Tensorflow.Keras\n"
      ]
    },
    {
      "cell_type": "markdown",
      "metadata": {
        "id": "idwILRb2DC7n"
      },
      "source": [
        "### 1. Eager execution (no Graph, no Session)\n",
        " - direct execution\n",
        " - no placeholder(), no gloval_variables_initializer()"
      ]
    },
    {
      "cell_type": "code",
      "metadata": {
        "id": "hEOKbQ8wDrRh",
        "colab": {
          "base_uri": "https://localhost:8080/"
        },
        "outputId": "de876576-aae0-453e-98a4-a463fd0cbdbd"
      },
      "source": [
        "a = tf.constant(10)\n",
        "b = tf.constant(20)\n",
        "c = a + b\n",
        "print(c, c.numpy())"
      ],
      "execution_count": null,
      "outputs": [
        {
          "output_type": "stream",
          "name": "stdout",
          "text": [
            "tf.Tensor(30, shape=(), dtype=int32) 30\n"
          ]
        }
      ]
    },
    {
      "cell_type": "code",
      "metadata": {
        "id": "OE1sXF2LEHHI",
        "colab": {
          "base_uri": "https://localhost:8080/"
        },
        "outputId": "15687e06-41d6-46cb-d9f2-3acf41559a0c"
      },
      "source": [
        "w = tf.Variable(tf.random.normal([1]))\n",
        "print(w)\n",
        "\n",
        "for step in range(3):\n",
        "    w = w + 100.0\n",
        "    print(w.numpy())"
      ],
      "execution_count": null,
      "outputs": [
        {
          "output_type": "stream",
          "name": "stdout",
          "text": [
            "<tf.Variable 'Variable:0' shape=(1,) dtype=float32, numpy=array([2.6009839], dtype=float32)>\n",
            "[102.60098]\n",
            "[202.60098]\n",
            "[302.60098]\n"
          ]
        }
      ]
    },
    {
      "cell_type": "code",
      "metadata": {
        "id": "HIsVTxYKE_DG",
        "colab": {
          "base_uri": "https://localhost:8080/"
        },
        "outputId": "9f5c2869-2163-4e74-9aee-18d2c7b088c9"
      },
      "source": [
        "a = tf.constant(1.0)   # function 에 직접 값을 넘겨줄 수 있음.\n",
        "b = tf.constant(3.0)\n",
        "\n",
        "def tensor_sum(x, y):\n",
        "    return x + y\n",
        "\n",
        "result = tensor_sum(a, b)\n",
        "\n",
        "print(type(result), result, result.numpy())"
      ],
      "execution_count": null,
      "outputs": [
        {
          "output_type": "stream",
          "name": "stdout",
          "text": [
            "<class 'tensorflow.python.framework.ops.EagerTensor'> tf.Tensor(4.0, shape=(), dtype=float32) 4.0\n"
          ]
        }
      ]
    },
    {
      "cell_type": "markdown",
      "metadata": {
        "id": "DDeUdJfyG6fe"
      },
      "source": [
        "### high level API (keras)\n",
        "- model, layers\n",
        "- data generation (train, test)\n",
        "- CNN, RNN, LSTM, GRU, ...\n",
        "- model generation -> compile -> fit -> evaluate/predict -> save (or reload)"
      ]
    },
    {
      "cell_type": "code",
      "metadata": {
        "id": "RIuR7-6GIn5g",
        "colab": {
          "base_uri": "https://localhost:8080/"
        },
        "outputId": "95b479cc-4636-41d5-9d34-98c2c7aef2ea"
      },
      "source": [
        "from tensorflow.keras.models import Sequential\n",
        "from tensorflow.keras.layers import Dense, Flatten\n",
        "model = Sequential()\n",
        "\n",
        "model.add(Flatten(input_shape=(1,)))\n",
        "model.add(Dense(2, activation='sigmoid'))\n",
        "# or\n",
        "# model.add(Dense(2, activation='sigmoid'), input_shape=(1,)) # more common\n",
        "model.summary()"
      ],
      "execution_count": null,
      "outputs": [
        {
          "output_type": "stream",
          "name": "stdout",
          "text": [
            "Model: \"sequential_13\"\n",
            "_________________________________________________________________\n",
            " Layer (type)                Output Shape              Param #   \n",
            "=================================================================\n",
            " flatten_2 (Flatten)         (None, 1)                 0         \n",
            "                                                                 \n",
            " dense_13 (Dense)            (None, 2)                 4         \n",
            "                                                                 \n",
            "=================================================================\n",
            "Total params: 4 (16.00 Byte)\n",
            "Trainable params: 4 (16.00 Byte)\n",
            "Non-trainable params: 0 (0.00 Byte)\n",
            "_________________________________________________________________\n"
          ]
        }
      ]
    },
    {
      "cell_type": "code",
      "metadata": {
        "colab": {
          "base_uri": "https://localhost:8080/"
        },
        "id": "KfonKZbTeOY4",
        "outputId": "45650c9f-be17-407c-ff62-bb66f4bc98ae"
      },
      "source": [
        "model = Sequential()\n",
        "model.add(Dense(2, activation='sigmoid', input_shape=(1,))) # more common\n",
        "model.summary()"
      ],
      "execution_count": null,
      "outputs": [
        {
          "output_type": "stream",
          "name": "stdout",
          "text": [
            "Model: \"sequential_14\"\n",
            "_________________________________________________________________\n",
            " Layer (type)                Output Shape              Param #   \n",
            "=================================================================\n",
            " dense_14 (Dense)            (None, 2)                 4         \n",
            "                                                                 \n",
            "=================================================================\n",
            "Total params: 4 (16.00 Byte)\n",
            "Trainable params: 4 (16.00 Byte)\n",
            "Non-trainable params: 0 (0.00 Byte)\n",
            "_________________________________________________________________\n"
          ]
        }
      ]
    },
    {
      "cell_type": "code",
      "metadata": {
        "id": "jhDUHbtVKm6Z"
      },
      "source": [
        "from tensorflow.keras.optimizers import SGD, Adam\n",
        "# regression\n",
        "model.compile(optimizer=SGD(learning_rate=0.1),\n",
        "              loss='mse',\n",
        "              metrics=['accuracy'])    # loss 는 기본\n",
        "\n",
        "# binary classification\n",
        "model.compile(optimizer=Adam(learning_rate=1e-3),\n",
        "              loss='binary_crossentropy',\n",
        "              metrics=['accuracy'])\n",
        "\n",
        "# multinomial classification\n",
        "model.compile(optimizer=Adam(learning_rate=1e-3),\n",
        "              loss='categorical_crossentropy',\n",
        "              metrics=['accuracy'])"
      ],
      "execution_count": null,
      "outputs": []
    },
    {
      "cell_type": "code",
      "metadata": {
        "id": "U5jEjXkUMSCS",
        "colab": {
          "base_uri": "https://localhost:8080/",
          "height": 70
        },
        "outputId": "d4c4e922-6351-44ce-b33e-57e82751ecf1"
      },
      "source": [
        "'''\n",
        "model.fit(x_train, y_train, epochs=10,\n",
        "          batch_size=100,\n",
        "          verbose=0,\n",
        "          validation_split=0.2)\n",
        "\n",
        "model.evaluate(x_test, y_test, epochs=10, batch_size=10)\n",
        "model.predict(x_input_data, batch_size=100)\n",
        "'''"
      ],
      "execution_count": null,
      "outputs": [
        {
          "output_type": "execute_result",
          "data": {
            "text/plain": [
              "'\\nmodel.fit(x_train, y_train, epochs=10, \\n          batch_size=100,\\n          verbose=0,\\n          validation_split=0.2)\\n\\nmodel.evaluate(x_test, y_test, epochs=10, batch_size=10)\\nmodel.predict(x_input_data, batch_size=100)\\n'"
            ],
            "application/vnd.google.colaboratory.intrinsic+json": {
              "type": "string"
            }
          },
          "metadata": {},
          "execution_count": 414
        }
      ]
    },
    {
      "cell_type": "code",
      "metadata": {
        "id": "3bSTZ9H2NVBE",
        "colab": {
          "base_uri": "https://localhost:8080/",
          "height": 35
        },
        "outputId": "967cdba3-b62c-416a-935f-d746e906079a"
      },
      "source": [
        "'''\n",
        "model.save(\"model_name.h5\")\n",
        "# and later\n",
        "model = load_model(\"model_name.h5\")\n",
        "'''"
      ],
      "execution_count": null,
      "outputs": [
        {
          "output_type": "execute_result",
          "data": {
            "text/plain": [
              "'\\nmodel.save(\"model_name.h5\")\\n# and later\\nmodel = load_model(\"model_name.h5\")\\n'"
            ],
            "application/vnd.google.colaboratory.intrinsic+json": {
              "type": "string"
            }
          },
          "metadata": {},
          "execution_count": 415
        }
      ]
    },
    {
      "cell_type": "markdown",
      "metadata": {
        "id": "j8jzI_dYTvJx"
      },
      "source": [
        "#### input_shape and input_dim\n",
        "- Input shape: simply tells the input layer what the shape of one sample looks like. Adding it to your input layer, will ensure that a match is made.\n",
        "\n",
        "- Input dim: sometimes, though, you just have one dimension – which is the case with one-dimensional / flattened arrays, for example. In this case, you can also simply use input_dim: specifying the number of elements within that first dimension only."
      ]
    },
    {
      "cell_type": "markdown",
      "metadata": {
        "id": "8XYhoS3kTsey"
      },
      "source": [
        "![image.png](data:image/png;base64,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)"
      ]
    },
    {
      "cell_type": "markdown",
      "source": [
        "# Tensor manipulation"
      ],
      "metadata": {
        "id": "bW4rj35iBHWJ"
      }
    },
    {
      "cell_type": "code",
      "source": [
        "# Tensor basic variables\n",
        "c0 = tf.constant(2.7)\n",
        "c1 = tf.constant([1,2,3])\n",
        "c0, type(c0), c1, type(c1)"
      ],
      "metadata": {
        "colab": {
          "base_uri": "https://localhost:8080/"
        },
        "id": "IzEjj4R5BMD6",
        "outputId": "c3672870-9172-41e7-abe5-b6821b1ca867"
      },
      "execution_count": null,
      "outputs": [
        {
          "output_type": "execute_result",
          "data": {
            "text/plain": [
              "(<tf.Tensor: shape=(), dtype=float32, numpy=2.7>,\n",
              " tensorflow.python.framework.ops.EagerTensor,\n",
              " <tf.Tensor: shape=(3,), dtype=int32, numpy=array([1, 2, 3], dtype=int32)>,\n",
              " tensorflow.python.framework.ops.EagerTensor)"
            ]
          },
          "metadata": {},
          "execution_count": 416
        }
      ]
    },
    {
      "cell_type": "code",
      "source": [
        "# all rank 0 (with initial values)\n",
        "# 문자열은 문자 시퀀스가 아니고 단일 객체로 다루어짐.\n",
        "\n",
        "hi = tf.Variable(\"Hello\", tf.string)\n",
        "ignition = tf.Variable(451, tf.int16)\n",
        "floating = tf.Variable(3.14159265359, tf.float64)\n",
        "its_complicated = tf.Variable(12.3 - 4.85j, tf.complex64)"
      ],
      "metadata": {
        "id": "8zj88PHGBTMJ"
      },
      "execution_count": null,
      "outputs": []
    },
    {
      "cell_type": "code",
      "source": [
        "hi, type(hi), tf.rank(hi)"
      ],
      "metadata": {
        "colab": {
          "base_uri": "https://localhost:8080/"
        },
        "id": "9gjK8cBhBWF7",
        "outputId": "1d07b717-02fd-4548-e03f-c78ea6899198"
      },
      "execution_count": null,
      "outputs": [
        {
          "output_type": "execute_result",
          "data": {
            "text/plain": [
              "(<tf.Variable 'Variable:0' shape=() dtype=string, numpy=b'Hello'>,\n",
              " tensorflow.python.ops.resource_variable_ops.ResourceVariable,\n",
              " <tf.Tensor: shape=(), dtype=int32, numpy=0>)"
            ]
          },
          "metadata": {},
          "execution_count": 418
        }
      ]
    },
    {
      "cell_type": "code",
      "source": [
        "# rank 1\n",
        "mystr = tf.Variable([\"Hello\"], tf.string)\n",
        "f_numbers  = tf.Variable([3.14159, 2.71828], tf.float32)\n",
        "primes = tf.Variable([2, 3, 5, 7, 11], tf.int32)\n",
        "comp = tf.Variable([12.3 - 4.85j, 7.5 - 6.23j], tf.complex128)"
      ],
      "metadata": {
        "id": "JKdNI1sPBYdB"
      },
      "execution_count": null,
      "outputs": []
    },
    {
      "cell_type": "code",
      "source": [
        "comp.dtype, type(comp), mystr"
      ],
      "metadata": {
        "colab": {
          "base_uri": "https://localhost:8080/"
        },
        "id": "t3_khp0GBetj",
        "outputId": "ba7ed118-e687-4ea7-a4c0-5c3ed9ebe37b"
      },
      "execution_count": null,
      "outputs": [
        {
          "output_type": "execute_result",
          "data": {
            "text/plain": [
              "(tf.complex128,\n",
              " tensorflow.python.ops.resource_variable_ops.ResourceVariable,\n",
              " <tf.Variable 'Variable:0' shape=(1,) dtype=string, numpy=array([b'Hello'], dtype=object)>)"
            ]
          },
          "metadata": {},
          "execution_count": 420
        }
      ]
    },
    {
      "cell_type": "code",
      "source": [
        "# rank 2\n",
        "data1 = tf.Variable([1, 2], tf.int32)\n",
        "data2 = tf.Variable([[1., 2.]], tf.float32)\n",
        "data3 = tf.Variable([[False, True],[True, False]], tf.bool)\n",
        "data4 = tf.Variable([[4, 2], [9, 3], [16, 4], [25, 5]], tf.int32)"
      ],
      "metadata": {
        "id": "PXB157mWBg60"
      },
      "execution_count": null,
      "outputs": []
    },
    {
      "cell_type": "code",
      "source": [
        "data1, data2, data3, data4, type(data4)"
      ],
      "metadata": {
        "colab": {
          "base_uri": "https://localhost:8080/"
        },
        "id": "n2ZvOeveBg3s",
        "outputId": "4f443629-d8d4-4738-9a94-d8a4865f1710"
      },
      "execution_count": null,
      "outputs": [
        {
          "output_type": "execute_result",
          "data": {
            "text/plain": [
              "(<tf.Variable 'Variable:0' shape=(2,) dtype=int32, numpy=array([1, 2], dtype=int32)>,\n",
              " <tf.Variable 'Variable:0' shape=(1, 2) dtype=float32, numpy=array([[1., 2.]], dtype=float32)>,\n",
              " <tf.Variable 'Variable:0' shape=(2, 2) dtype=bool, numpy=\n",
              " array([[False,  True],\n",
              "        [ True, False]])>,\n",
              " <tf.Variable 'Variable:0' shape=(4, 2) dtype=int32, numpy=\n",
              " array([[ 4,  2],\n",
              "        [ 9,  3],\n",
              "        [16,  4],\n",
              "        [25,  5]], dtype=int32)>,\n",
              " tensorflow.python.ops.resource_variable_ops.ResourceVariable)"
            ]
          },
          "metadata": {},
          "execution_count": 422
        }
      ]
    },
    {
      "cell_type": "code",
      "source": [
        "data1.shape, data2.shape, data3.shape, data4.shape, type(data4.shape)"
      ],
      "metadata": {
        "colab": {
          "base_uri": "https://localhost:8080/"
        },
        "id": "4Q_DyS2uBg0i",
        "outputId": "a6c1e3e2-00f7-4b46-d42c-554fa933bcf3"
      },
      "execution_count": null,
      "outputs": [
        {
          "output_type": "execute_result",
          "data": {
            "text/plain": [
              "(TensorShape([2]),\n",
              " TensorShape([1, 2]),\n",
              " TensorShape([2, 2]),\n",
              " TensorShape([4, 2]),\n",
              " tensorflow.python.framework.tensor_shape.TensorShape)"
            ]
          },
          "metadata": {},
          "execution_count": 423
        }
      ]
    },
    {
      "cell_type": "code",
      "source": [
        "my_image = tf.zeros([10, 299, 299, 3])  # 4 차원 텐서: 배치 x 높이 x 너비 x 색상"
      ],
      "metadata": {
        "id": "IUU0L-z8B8qk"
      },
      "execution_count": null,
      "outputs": []
    },
    {
      "cell_type": "code",
      "source": [
        "# rank 3 and reshaping\n",
        "rank_3_tensor = tf.ones([3, 4, 5])\n",
        "matrix = tf.reshape(rank_3_tensor, [6, 10])\n",
        "matrixB = tf.reshape(matrix, [3, -1])\n",
        "matrixAlt = tf.reshape(matrixB, [4, 3, -1])  # -1은 자동 결정하라는 뜻\n",
        "# yet_another = tf.reshape(matrixAlt, [13, 2, -1])  # 에러!"
      ],
      "metadata": {
        "id": "049K2-NwB8oY"
      },
      "execution_count": null,
      "outputs": []
    },
    {
      "cell_type": "code",
      "source": [
        "matrix, matrixB, matrixAlt"
      ],
      "metadata": {
        "colab": {
          "base_uri": "https://localhost:8080/"
        },
        "id": "RWpMe6qXB8k8",
        "outputId": "e324b7f4-10f6-401b-80d8-4e0794fe0181"
      },
      "execution_count": null,
      "outputs": [
        {
          "output_type": "execute_result",
          "data": {
            "text/plain": [
              "(<tf.Tensor: shape=(6, 10), dtype=float32, numpy=\n",
              " array([[1., 1., 1., 1., 1., 1., 1., 1., 1., 1.],\n",
              "        [1., 1., 1., 1., 1., 1., 1., 1., 1., 1.],\n",
              "        [1., 1., 1., 1., 1., 1., 1., 1., 1., 1.],\n",
              "        [1., 1., 1., 1., 1., 1., 1., 1., 1., 1.],\n",
              "        [1., 1., 1., 1., 1., 1., 1., 1., 1., 1.],\n",
              "        [1., 1., 1., 1., 1., 1., 1., 1., 1., 1.]], dtype=float32)>,\n",
              " <tf.Tensor: shape=(3, 20), dtype=float32, numpy=\n",
              " array([[1., 1., 1., 1., 1., 1., 1., 1., 1., 1., 1., 1., 1., 1., 1., 1.,\n",
              "         1., 1., 1., 1.],\n",
              "        [1., 1., 1., 1., 1., 1., 1., 1., 1., 1., 1., 1., 1., 1., 1., 1.,\n",
              "         1., 1., 1., 1.],\n",
              "        [1., 1., 1., 1., 1., 1., 1., 1., 1., 1., 1., 1., 1., 1., 1., 1.,\n",
              "         1., 1., 1., 1.]], dtype=float32)>,\n",
              " <tf.Tensor: shape=(4, 3, 5), dtype=float32, numpy=\n",
              " array([[[1., 1., 1., 1., 1.],\n",
              "         [1., 1., 1., 1., 1.],\n",
              "         [1., 1., 1., 1., 1.]],\n",
              " \n",
              "        [[1., 1., 1., 1., 1.],\n",
              "         [1., 1., 1., 1., 1.],\n",
              "         [1., 1., 1., 1., 1.]],\n",
              " \n",
              "        [[1., 1., 1., 1., 1.],\n",
              "         [1., 1., 1., 1., 1.],\n",
              "         [1., 1., 1., 1., 1.]],\n",
              " \n",
              "        [[1., 1., 1., 1., 1.],\n",
              "         [1., 1., 1., 1., 1.],\n",
              "         [1., 1., 1., 1., 1.]]], dtype=float32)>)"
            ]
          },
          "metadata": {},
          "execution_count": 426
        }
      ]
    },
    {
      "cell_type": "code",
      "source": [
        "f_tensor = tf.cast(tf.constant([1, 2, 3]), dtype=tf.float32)\n",
        "f_tensor.dtype"
      ],
      "metadata": {
        "colab": {
          "base_uri": "https://localhost:8080/"
        },
        "id": "T8ou7avjB8iU",
        "outputId": "2b462e20-b8bc-4dfd-feed-2dd7416607b9"
      },
      "execution_count": null,
      "outputs": [
        {
          "output_type": "execute_result",
          "data": {
            "text/plain": [
              "tf.float32"
            ]
          },
          "metadata": {},
          "execution_count": 427
        }
      ]
    },
    {
      "cell_type": "markdown",
      "metadata": {
        "id": "HVAZFIflhSbE"
      },
      "source": [
        "# Exercise\n",
        "- GradientTape():\n",
        "  - trainable variables (created by tf.Variable or tf.compat.v1.get_variable, where trainable=True is default in both cases) are automatically watched. Tensors can be manually watched by invoking the watch method on this context manager.\n",
        "  - By default GradientTape will automatically watch any trainable variables that are accessed inside the context\n",
        "- 텐서플로는 자동 미분(주어진 입력 변수에 대한 연산의 그래디언트(gradient)를 계산하는 것)을 위한 tf.GradientTape API를 제공한다. tf.GradientTape는 컨텍스트(context) 안에서 실행된 모든 연산을 테이프(tape)에 \"기록\" 한다. 그 다음 텐서플로는 후진 방식 자동 미분(reverse mode differentiation)을 사용해 테이프에 \"기록된\" 연산의 그래디언트를 계산한다."
      ]
    },
    {
      "cell_type": "code",
      "metadata": {
        "id": "e6tjJeyYhU1T",
        "colab": {
          "base_uri": "https://localhost:8080/"
        },
        "outputId": "75964476-4ed1-4bc2-953e-f04991d60401"
      },
      "source": [
        "x = tf.constant(3.0)\n",
        "with tf.GradientTape(persistent=True) as tape:\n",
        "    tape.watch(x)\n",
        "    y = x * x\n",
        "    z = y * y\n",
        "\n",
        "dz_dx = tape.gradient(z, x)  # 108.0 (4*x^3 at x = 3)\n",
        "dy_dx = tape.gradient(y, x)  # 6.0\n",
        "# del tape  # Drop the reference to the tape\n",
        "\n",
        "dz_dx, dy_dx\n"
      ],
      "execution_count": null,
      "outputs": [
        {
          "output_type": "execute_result",
          "data": {
            "text/plain": [
              "(<tf.Tensor: shape=(), dtype=float32, numpy=108.0>,\n",
              " <tf.Tensor: shape=(), dtype=float32, numpy=6.0>)"
            ]
          },
          "metadata": {},
          "execution_count": 428
        }
      ]
    },
    {
      "cell_type": "code",
      "source": [
        "# Be careful when you use tape.gradient()\n",
        "\n",
        "W = tf.Variable(4.5)\n",
        "\n",
        "for i in range(5):\n",
        "    with tf.GradientTape() as tape:\n",
        "       tape.watch(W)                   # watch W\n",
        "       y = W * W\n",
        "       W_grad = tape.gradient(y, W)\n",
        "    W = W - learning_rate * W_grad     # W will be chaned from Variable to Tensor.\n",
        "                                       # so, you need to tell to watch it.\n",
        "                                       # if not, tape.gradient() will return None.\n",
        "print (W)"
      ],
      "metadata": {
        "colab": {
          "base_uri": "https://localhost:8080/"
        },
        "id": "jq4NUQ9wFuTK",
        "outputId": "95056afe-ee39-44c1-9df9-a8617c47c7db"
      },
      "execution_count": null,
      "outputs": [
        {
          "output_type": "stream",
          "name": "stdout",
          "text": [
            "tf.Tensor(4.0676436, shape=(), dtype=float32)\n"
          ]
        }
      ]
    },
    {
      "cell_type": "code",
      "metadata": {
        "id": "JDS6w6mKh5di",
        "colab": {
          "base_uri": "https://localhost:8080/"
        },
        "outputId": "db2213f4-6354-4dd0-a0f2-b5291cbf5351"
      },
      "source": [
        "# zip\n",
        "numbers = [1,2,3,4]\n",
        "names = ['hong','gil','dong','nim']\n",
        "dic = {}\n",
        "\n",
        "for number , name in zip(numbers, names):\n",
        "    dic[number] = name\n",
        "print(dic)\n",
        "\n",
        "# or\n",
        "list(zip(numbers, names))"
      ],
      "execution_count": null,
      "outputs": [
        {
          "output_type": "stream",
          "name": "stdout",
          "text": [
            "{1: 'hong', 2: 'gil', 3: 'dong', 4: 'nim'}\n"
          ]
        },
        {
          "output_type": "execute_result",
          "data": {
            "text/plain": [
              "[(1, 'hong'), (2, 'gil'), (3, 'dong'), (4, 'nim')]"
            ]
          },
          "metadata": {},
          "execution_count": 430
        }
      ]
    },
    {
      "cell_type": "code",
      "metadata": {
        "id": "HYV3abkAJtLG"
      },
      "source": [
        "z = zip(numbers, names)"
      ],
      "execution_count": null,
      "outputs": []
    },
    {
      "cell_type": "code",
      "source": [
        "z"
      ],
      "metadata": {
        "colab": {
          "base_uri": "https://localhost:8080/"
        },
        "id": "VUxv5UfjEQhD",
        "outputId": "d10a3bfa-d2df-4555-bbfe-128573a69d18"
      },
      "execution_count": null,
      "outputs": [
        {
          "output_type": "execute_result",
          "data": {
            "text/plain": [
              "<zip at 0x7ddecaf4d540>"
            ]
          },
          "metadata": {},
          "execution_count": 432
        }
      ]
    },
    {
      "cell_type": "code",
      "metadata": {
        "colab": {
          "base_uri": "https://localhost:8080/"
        },
        "id": "kMg7I0NKmJFK",
        "outputId": "0da65153-3621-43a3-c29c-f37e79c1857c"
      },
      "source": [
        "next(z)   # try one at a time"
      ],
      "execution_count": null,
      "outputs": [
        {
          "output_type": "execute_result",
          "data": {
            "text/plain": [
              "(1, 'hong')"
            ]
          },
          "metadata": {},
          "execution_count": 433
        }
      ]
    },
    {
      "cell_type": "code",
      "metadata": {
        "colab": {
          "base_uri": "https://localhost:8080/"
        },
        "id": "w8FDUCxhl8mZ",
        "outputId": "921495cd-e398-4d48-ba9b-232d45346c0a"
      },
      "source": [
        "[(i,j) for i,j in zip(numbers, names)]"
      ],
      "execution_count": null,
      "outputs": [
        {
          "output_type": "execute_result",
          "data": {
            "text/plain": [
              "[(1, 'hong'), (2, 'gil'), (3, 'dong'), (4, 'nim')]"
            ]
          },
          "metadata": {},
          "execution_count": 434
        }
      ]
    },
    {
      "cell_type": "code",
      "metadata": {
        "colab": {
          "base_uri": "https://localhost:8080/"
        },
        "id": "QDv5alyGltQR",
        "outputId": "8a8c4da5-995f-4505-d06b-3bfc37fee623"
      },
      "source": [
        "x = 21\n",
        "y = 3\n",
        "try:\n",
        "    zip(x, y)\n",
        "except:\n",
        "    print(\"error: zip argument #1 must support iteration\")"
      ],
      "execution_count": null,
      "outputs": [
        {
          "output_type": "stream",
          "name": "stdout",
          "text": [
            "error: zip argument #1 must support iteration\n"
          ]
        }
      ]
    },
    {
      "cell_type": "code",
      "metadata": {
        "colab": {
          "base_uri": "https://localhost:8080/"
        },
        "id": "74jAc9Dvl19k",
        "outputId": "9423b3f8-848e-44bc-85cb-01431197bed1"
      },
      "source": [
        "x = [21]\n",
        "y = [3]\n",
        "zip(x, y)"
      ],
      "execution_count": null,
      "outputs": [
        {
          "output_type": "execute_result",
          "data": {
            "text/plain": [
              "<zip at 0x7ddecaf3fc80>"
            ]
          },
          "metadata": {},
          "execution_count": 436
        }
      ]
    },
    {
      "cell_type": "code",
      "metadata": {
        "id": "6os9_u2clxAV",
        "colab": {
          "base_uri": "https://localhost:8080/"
        },
        "outputId": "324d964b-a883-43e0-d7f5-65052520b0af"
      },
      "source": [
        "t1 = tf.constant([77,88,99])\n",
        "t2 = tf.Variable([77,88,99])\n",
        "n1 = [1,2,3]\n",
        "t1, t2"
      ],
      "execution_count": null,
      "outputs": [
        {
          "output_type": "execute_result",
          "data": {
            "text/plain": [
              "(<tf.Tensor: shape=(3,), dtype=int32, numpy=array([77, 88, 99], dtype=int32)>,\n",
              " <tf.Variable 'Variable:0' shape=(3,) dtype=int32, numpy=array([77, 88, 99], dtype=int32)>)"
            ]
          },
          "metadata": {},
          "execution_count": 437
        }
      ]
    },
    {
      "cell_type": "code",
      "metadata": {
        "colab": {
          "base_uri": "https://localhost:8080/"
        },
        "id": "0X3uzp5s-8lU",
        "outputId": "b1554cfa-15f9-476e-8ebe-9ff04d798fa6"
      },
      "source": [
        "[(i.numpy(),j) for i, j in zip(t1,n1)]"
      ],
      "execution_count": null,
      "outputs": [
        {
          "output_type": "execute_result",
          "data": {
            "text/plain": [
              "[(77, 1), (88, 2), (99, 3)]"
            ]
          },
          "metadata": {},
          "execution_count": 438
        }
      ]
    },
    {
      "cell_type": "code",
      "metadata": {
        "colab": {
          "base_uri": "https://localhost:8080/"
        },
        "id": "2SJ9O3Mc_Lyl",
        "outputId": "f2dc648c-53bc-4db5-bd54-2bba0d045d64"
      },
      "source": [
        "[(i.numpy(),j) for i, j in zip(t2,n1)]"
      ],
      "execution_count": null,
      "outputs": [
        {
          "output_type": "execute_result",
          "data": {
            "text/plain": [
              "[(77, 1), (88, 2), (99, 3)]"
            ]
          },
          "metadata": {},
          "execution_count": 439
        }
      ]
    },
    {
      "cell_type": "markdown",
      "metadata": {
        "id": "5kRjUqLTWMfY"
      },
      "source": [
        "- exercise"
      ]
    },
    {
      "cell_type": "code",
      "metadata": {
        "id": "hWJUFURqCbh8",
        "colab": {
          "base_uri": "https://localhost:8080/"
        },
        "outputId": "3de7b3d6-91cc-4c96-f34b-a7b1efaa6ab1"
      },
      "source": [
        "a, b = 3, 4\n",
        "tf.add(a, b)"
      ],
      "execution_count": null,
      "outputs": [
        {
          "output_type": "execute_result",
          "data": {
            "text/plain": [
              "<tf.Tensor: shape=(), dtype=int32, numpy=7>"
            ]
          },
          "metadata": {},
          "execution_count": 440
        }
      ]
    },
    {
      "cell_type": "code",
      "metadata": {
        "colab": {
          "base_uri": "https://localhost:8080/"
        },
        "id": "oG6muRkeV5Rp",
        "outputId": "344ed28b-eafd-4684-8c03-94f3d76b013d"
      },
      "source": [
        "a, b = tf.constant(3), tf.constant(4)\n",
        "a + b, tf.add(a, b)"
      ],
      "execution_count": null,
      "outputs": [
        {
          "output_type": "execute_result",
          "data": {
            "text/plain": [
              "(<tf.Tensor: shape=(), dtype=int32, numpy=7>,\n",
              " <tf.Tensor: shape=(), dtype=int32, numpy=7>)"
            ]
          },
          "metadata": {},
          "execution_count": 441
        }
      ]
    },
    {
      "cell_type": "code",
      "metadata": {
        "id": "BHJq1aLaWFWY"
      },
      "source": [],
      "execution_count": null,
      "outputs": []
    }
  ]
}