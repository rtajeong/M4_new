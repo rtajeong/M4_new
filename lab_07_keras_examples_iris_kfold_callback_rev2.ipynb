{
  "nbformat": 4,
  "nbformat_minor": 0,
  "metadata": {
    "kernelspec": {
      "display_name": "Python 3",
      "name": "python3"
    },
    "language_info": {
      "codemirror_mode": {
        "name": "ipython",
        "version": 3
      },
      "file_extension": ".py",
      "mimetype": "text/x-python",
      "name": "python",
      "nbconvert_exporter": "python",
      "pygments_lexer": "ipython3",
      "version": "3.6.8"
    },
    "colab": {
      "provenance": [],
      "collapsed_sections": [
        "4xpM5TEGZSy_"
      ],
      "toc_visible": true,
      "gpuType": "T4",
      "include_colab_link": true
    },
    "accelerator": "GPU"
  },
  "cells": [
    {
      "cell_type": "markdown",
      "metadata": {
        "id": "view-in-github",
        "colab_type": "text"
      },
      "source": [
        "<a href=\"https://colab.research.google.com/github/rtajeong/M4_new/blob/main/lab_07_keras_examples_iris_kfold_callback_rev2.ipynb\" target=\"_parent\"><img src=\"https://colab.research.google.com/assets/colab-badge.svg\" alt=\"Open In Colab\"/></a>"
      ]
    },
    {
      "cell_type": "markdown",
      "metadata": {
        "id": "uCdyHxGO7ux8"
      },
      "source": [
        "# More on Keras\n",
        "- from \"모두의 딥러닝\""
      ]
    },
    {
      "cell_type": "markdown",
      "metadata": {
        "id": "70crPSVy7uyB"
      },
      "source": [
        "# 12. Multinomial classification\n",
        "- iris data\n",
        "- one-hot encoding\n",
        "- softmax\n",
        "- K-fold cross validation"
      ]
    },
    {
      "cell_type": "code",
      "metadata": {
        "id": "5axxcoz_7uyF"
      },
      "source": [
        "import tensorflow as tf\n",
        "from tensorflow import keras\n",
        "from tensorflow.keras.models import Sequential, load_model\n",
        "from tensorflow.keras.layers import Dense\n",
        "from tensorflow.keras import utils\n",
        "from sklearn.preprocessing import LabelEncoder\n",
        "from sklearn.model_selection import train_test_split\n",
        "\n",
        "import pandas as pd\n",
        "import seaborn as sns\n",
        "import matplotlib.pyplot as plt\n",
        "%matplotlib inline\n",
        "import numpy as np"
      ],
      "execution_count": 2,
      "outputs": []
    },
    {
      "cell_type": "code",
      "metadata": {
        "id": "_1LZ1bMH7uyT",
        "colab": {
          "base_uri": "https://localhost:8080/",
          "height": 206
        },
        "outputId": "9bb70f5f-18c1-4034-a8a3-f4a795435e30"
      },
      "source": [
        "np.random.seed(17)\n",
        "iris_data = sns.load_dataset(\"iris\")\n",
        "iris_data.head()"
      ],
      "execution_count": 3,
      "outputs": [
        {
          "output_type": "execute_result",
          "data": {
            "text/plain": [
              "   sepal_length  sepal_width  petal_length  petal_width species\n",
              "0           5.1          3.5           1.4          0.2  setosa\n",
              "1           4.9          3.0           1.4          0.2  setosa\n",
              "2           4.7          3.2           1.3          0.2  setosa\n",
              "3           4.6          3.1           1.5          0.2  setosa\n",
              "4           5.0          3.6           1.4          0.2  setosa"
            ],
            "text/html": [
              "\n",
              "  <div id=\"df-47aa256b-7e7f-4bf0-8d9d-5ccd27951fc1\" class=\"colab-df-container\">\n",
              "    <div>\n",
              "<style scoped>\n",
              "    .dataframe tbody tr th:only-of-type {\n",
              "        vertical-align: middle;\n",
              "    }\n",
              "\n",
              "    .dataframe tbody tr th {\n",
              "        vertical-align: top;\n",
              "    }\n",
              "\n",
              "    .dataframe thead th {\n",
              "        text-align: right;\n",
              "    }\n",
              "</style>\n",
              "<table border=\"1\" class=\"dataframe\">\n",
              "  <thead>\n",
              "    <tr style=\"text-align: right;\">\n",
              "      <th></th>\n",
              "      <th>sepal_length</th>\n",
              "      <th>sepal_width</th>\n",
              "      <th>petal_length</th>\n",
              "      <th>petal_width</th>\n",
              "      <th>species</th>\n",
              "    </tr>\n",
              "  </thead>\n",
              "  <tbody>\n",
              "    <tr>\n",
              "      <th>0</th>\n",
              "      <td>5.1</td>\n",
              "      <td>3.5</td>\n",
              "      <td>1.4</td>\n",
              "      <td>0.2</td>\n",
              "      <td>setosa</td>\n",
              "    </tr>\n",
              "    <tr>\n",
              "      <th>1</th>\n",
              "      <td>4.9</td>\n",
              "      <td>3.0</td>\n",
              "      <td>1.4</td>\n",
              "      <td>0.2</td>\n",
              "      <td>setosa</td>\n",
              "    </tr>\n",
              "    <tr>\n",
              "      <th>2</th>\n",
              "      <td>4.7</td>\n",
              "      <td>3.2</td>\n",
              "      <td>1.3</td>\n",
              "      <td>0.2</td>\n",
              "      <td>setosa</td>\n",
              "    </tr>\n",
              "    <tr>\n",
              "      <th>3</th>\n",
              "      <td>4.6</td>\n",
              "      <td>3.1</td>\n",
              "      <td>1.5</td>\n",
              "      <td>0.2</td>\n",
              "      <td>setosa</td>\n",
              "    </tr>\n",
              "    <tr>\n",
              "      <th>4</th>\n",
              "      <td>5.0</td>\n",
              "      <td>3.6</td>\n",
              "      <td>1.4</td>\n",
              "      <td>0.2</td>\n",
              "      <td>setosa</td>\n",
              "    </tr>\n",
              "  </tbody>\n",
              "</table>\n",
              "</div>\n",
              "    <div class=\"colab-df-buttons\">\n",
              "\n",
              "  <div class=\"colab-df-container\">\n",
              "    <button class=\"colab-df-convert\" onclick=\"convertToInteractive('df-47aa256b-7e7f-4bf0-8d9d-5ccd27951fc1')\"\n",
              "            title=\"Convert this dataframe to an interactive table.\"\n",
              "            style=\"display:none;\">\n",
              "\n",
              "  <svg xmlns=\"http://www.w3.org/2000/svg\" height=\"24px\" viewBox=\"0 -960 960 960\">\n",
              "    <path d=\"M120-120v-720h720v720H120Zm60-500h600v-160H180v160Zm220 220h160v-160H400v160Zm0 220h160v-160H400v160ZM180-400h160v-160H180v160Zm440 0h160v-160H620v160ZM180-180h160v-160H180v160Zm440 0h160v-160H620v160Z\"/>\n",
              "  </svg>\n",
              "    </button>\n",
              "\n",
              "  <style>\n",
              "    .colab-df-container {\n",
              "      display:flex;\n",
              "      gap: 12px;\n",
              "    }\n",
              "\n",
              "    .colab-df-convert {\n",
              "      background-color: #E8F0FE;\n",
              "      border: none;\n",
              "      border-radius: 50%;\n",
              "      cursor: pointer;\n",
              "      display: none;\n",
              "      fill: #1967D2;\n",
              "      height: 32px;\n",
              "      padding: 0 0 0 0;\n",
              "      width: 32px;\n",
              "    }\n",
              "\n",
              "    .colab-df-convert:hover {\n",
              "      background-color: #E2EBFA;\n",
              "      box-shadow: 0px 1px 2px rgba(60, 64, 67, 0.3), 0px 1px 3px 1px rgba(60, 64, 67, 0.15);\n",
              "      fill: #174EA6;\n",
              "    }\n",
              "\n",
              "    .colab-df-buttons div {\n",
              "      margin-bottom: 4px;\n",
              "    }\n",
              "\n",
              "    [theme=dark] .colab-df-convert {\n",
              "      background-color: #3B4455;\n",
              "      fill: #D2E3FC;\n",
              "    }\n",
              "\n",
              "    [theme=dark] .colab-df-convert:hover {\n",
              "      background-color: #434B5C;\n",
              "      box-shadow: 0px 1px 3px 1px rgba(0, 0, 0, 0.15);\n",
              "      filter: drop-shadow(0px 1px 2px rgba(0, 0, 0, 0.3));\n",
              "      fill: #FFFFFF;\n",
              "    }\n",
              "  </style>\n",
              "\n",
              "    <script>\n",
              "      const buttonEl =\n",
              "        document.querySelector('#df-47aa256b-7e7f-4bf0-8d9d-5ccd27951fc1 button.colab-df-convert');\n",
              "      buttonEl.style.display =\n",
              "        google.colab.kernel.accessAllowed ? 'block' : 'none';\n",
              "\n",
              "      async function convertToInteractive(key) {\n",
              "        const element = document.querySelector('#df-47aa256b-7e7f-4bf0-8d9d-5ccd27951fc1');\n",
              "        const dataTable =\n",
              "          await google.colab.kernel.invokeFunction('convertToInteractive',\n",
              "                                                    [key], {});\n",
              "        if (!dataTable) return;\n",
              "\n",
              "        const docLinkHtml = 'Like what you see? Visit the ' +\n",
              "          '<a target=\"_blank\" href=https://colab.research.google.com/notebooks/data_table.ipynb>data table notebook</a>'\n",
              "          + ' to learn more about interactive tables.';\n",
              "        element.innerHTML = '';\n",
              "        dataTable['output_type'] = 'display_data';\n",
              "        await google.colab.output.renderOutput(dataTable, element);\n",
              "        const docLink = document.createElement('div');\n",
              "        docLink.innerHTML = docLinkHtml;\n",
              "        element.appendChild(docLink);\n",
              "      }\n",
              "    </script>\n",
              "  </div>\n",
              "\n",
              "\n",
              "<div id=\"df-b20e36d2-efbc-461c-b6bf-e98e62675423\">\n",
              "  <button class=\"colab-df-quickchart\" onclick=\"quickchart('df-b20e36d2-efbc-461c-b6bf-e98e62675423')\"\n",
              "            title=\"Suggest charts.\"\n",
              "            style=\"display:none;\">\n",
              "\n",
              "<svg xmlns=\"http://www.w3.org/2000/svg\" height=\"24px\"viewBox=\"0 0 24 24\"\n",
              "     width=\"24px\">\n",
              "    <g>\n",
              "        <path d=\"M19 3H5c-1.1 0-2 .9-2 2v14c0 1.1.9 2 2 2h14c1.1 0 2-.9 2-2V5c0-1.1-.9-2-2-2zM9 17H7v-7h2v7zm4 0h-2V7h2v10zm4 0h-2v-4h2v4z\"/>\n",
              "    </g>\n",
              "</svg>\n",
              "  </button>\n",
              "\n",
              "<style>\n",
              "  .colab-df-quickchart {\n",
              "      --bg-color: #E8F0FE;\n",
              "      --fill-color: #1967D2;\n",
              "      --hover-bg-color: #E2EBFA;\n",
              "      --hover-fill-color: #174EA6;\n",
              "      --disabled-fill-color: #AAA;\n",
              "      --disabled-bg-color: #DDD;\n",
              "  }\n",
              "\n",
              "  [theme=dark] .colab-df-quickchart {\n",
              "      --bg-color: #3B4455;\n",
              "      --fill-color: #D2E3FC;\n",
              "      --hover-bg-color: #434B5C;\n",
              "      --hover-fill-color: #FFFFFF;\n",
              "      --disabled-bg-color: #3B4455;\n",
              "      --disabled-fill-color: #666;\n",
              "  }\n",
              "\n",
              "  .colab-df-quickchart {\n",
              "    background-color: var(--bg-color);\n",
              "    border: none;\n",
              "    border-radius: 50%;\n",
              "    cursor: pointer;\n",
              "    display: none;\n",
              "    fill: var(--fill-color);\n",
              "    height: 32px;\n",
              "    padding: 0;\n",
              "    width: 32px;\n",
              "  }\n",
              "\n",
              "  .colab-df-quickchart:hover {\n",
              "    background-color: var(--hover-bg-color);\n",
              "    box-shadow: 0 1px 2px rgba(60, 64, 67, 0.3), 0 1px 3px 1px rgba(60, 64, 67, 0.15);\n",
              "    fill: var(--button-hover-fill-color);\n",
              "  }\n",
              "\n",
              "  .colab-df-quickchart-complete:disabled,\n",
              "  .colab-df-quickchart-complete:disabled:hover {\n",
              "    background-color: var(--disabled-bg-color);\n",
              "    fill: var(--disabled-fill-color);\n",
              "    box-shadow: none;\n",
              "  }\n",
              "\n",
              "  .colab-df-spinner {\n",
              "    border: 2px solid var(--fill-color);\n",
              "    border-color: transparent;\n",
              "    border-bottom-color: var(--fill-color);\n",
              "    animation:\n",
              "      spin 1s steps(1) infinite;\n",
              "  }\n",
              "\n",
              "  @keyframes spin {\n",
              "    0% {\n",
              "      border-color: transparent;\n",
              "      border-bottom-color: var(--fill-color);\n",
              "      border-left-color: var(--fill-color);\n",
              "    }\n",
              "    20% {\n",
              "      border-color: transparent;\n",
              "      border-left-color: var(--fill-color);\n",
              "      border-top-color: var(--fill-color);\n",
              "    }\n",
              "    30% {\n",
              "      border-color: transparent;\n",
              "      border-left-color: var(--fill-color);\n",
              "      border-top-color: var(--fill-color);\n",
              "      border-right-color: var(--fill-color);\n",
              "    }\n",
              "    40% {\n",
              "      border-color: transparent;\n",
              "      border-right-color: var(--fill-color);\n",
              "      border-top-color: var(--fill-color);\n",
              "    }\n",
              "    60% {\n",
              "      border-color: transparent;\n",
              "      border-right-color: var(--fill-color);\n",
              "    }\n",
              "    80% {\n",
              "      border-color: transparent;\n",
              "      border-right-color: var(--fill-color);\n",
              "      border-bottom-color: var(--fill-color);\n",
              "    }\n",
              "    90% {\n",
              "      border-color: transparent;\n",
              "      border-bottom-color: var(--fill-color);\n",
              "    }\n",
              "  }\n",
              "</style>\n",
              "\n",
              "  <script>\n",
              "    async function quickchart(key) {\n",
              "      const quickchartButtonEl =\n",
              "        document.querySelector('#' + key + ' button');\n",
              "      quickchartButtonEl.disabled = true;  // To prevent multiple clicks.\n",
              "      quickchartButtonEl.classList.add('colab-df-spinner');\n",
              "      try {\n",
              "        const charts = await google.colab.kernel.invokeFunction(\n",
              "            'suggestCharts', [key], {});\n",
              "      } catch (error) {\n",
              "        console.error('Error during call to suggestCharts:', error);\n",
              "      }\n",
              "      quickchartButtonEl.classList.remove('colab-df-spinner');\n",
              "      quickchartButtonEl.classList.add('colab-df-quickchart-complete');\n",
              "    }\n",
              "    (() => {\n",
              "      let quickchartButtonEl =\n",
              "        document.querySelector('#df-b20e36d2-efbc-461c-b6bf-e98e62675423 button');\n",
              "      quickchartButtonEl.style.display =\n",
              "        google.colab.kernel.accessAllowed ? 'block' : 'none';\n",
              "    })();\n",
              "  </script>\n",
              "</div>\n",
              "    </div>\n",
              "  </div>\n"
            ]
          },
          "metadata": {},
          "execution_count": 3
        }
      ]
    },
    {
      "cell_type": "code",
      "source": [
        "iris_data.shape"
      ],
      "metadata": {
        "colab": {
          "base_uri": "https://localhost:8080/"
        },
        "id": "Xqyoq2MrOxO_",
        "outputId": "319d0177-8ac6-4594-ff02-45b72d7333da"
      },
      "execution_count": 4,
      "outputs": [
        {
          "output_type": "execute_result",
          "data": {
            "text/plain": [
              "(150, 5)"
            ]
          },
          "metadata": {},
          "execution_count": 4
        }
      ]
    },
    {
      "cell_type": "code",
      "metadata": {
        "id": "joA66Ufe7uya"
      },
      "source": [
        "dataset = iris_data.values\n",
        "X = dataset[:,0:4].astype('float')\n",
        "Y_obj = dataset[:,4]\n",
        "\n",
        "Y = LabelEncoder().fit_transform(Y_obj)\n",
        "Y_encoded = utils.to_categorical(Y)   #  one-hot encoding\n",
        "\n",
        "X_train, X_test, Y_train, Y_test = train_test_split(X, Y_encoded, test_size=0.2)"
      ],
      "execution_count": 5,
      "outputs": []
    },
    {
      "cell_type": "code",
      "metadata": {
        "colab": {
          "base_uri": "https://localhost:8080/"
        },
        "id": "mKjSkSrjPS_s",
        "outputId": "9b0a8b47-14e5-47f9-cde8-87242b5be850"
      },
      "source": [
        "X_train.shape, Y_train.shape, X_test.shape, Y_test.shape"
      ],
      "execution_count": 6,
      "outputs": [
        {
          "output_type": "execute_result",
          "data": {
            "text/plain": [
              "((120, 4), (120, 3), (30, 4), (30, 3))"
            ]
          },
          "metadata": {},
          "execution_count": 6
        }
      ]
    },
    {
      "cell_type": "code",
      "metadata": {
        "id": "X4bN4kgX7uyg",
        "colab": {
          "base_uri": "https://localhost:8080/"
        },
        "outputId": "cca98a0f-28d5-42c7-beec-2b09ea50f34b"
      },
      "source": [
        "# model and compile & train & predict(evaluate)\n",
        "model = Sequential()\n",
        "# model.add(Dense(16,  input_dim=4, activation='relu'))\n",
        "model.add(Dense(16,  input_shape=(4,), activation='relu'))\n",
        "model.add(Dense(3, activation='softmax'))\n",
        "model.summary()"
      ],
      "execution_count": 7,
      "outputs": [
        {
          "output_type": "stream",
          "name": "stdout",
          "text": [
            "Model: \"sequential\"\n",
            "_________________________________________________________________\n",
            " Layer (type)                Output Shape              Param #   \n",
            "=================================================================\n",
            " dense (Dense)               (None, 16)                80        \n",
            "                                                                 \n",
            " dense_1 (Dense)             (None, 3)                 51        \n",
            "                                                                 \n",
            "=================================================================\n",
            "Total params: 131 (524.00 Byte)\n",
            "Trainable params: 131 (524.00 Byte)\n",
            "Non-trainable params: 0 (0.00 Byte)\n",
            "_________________________________________________________________\n"
          ]
        }
      ]
    },
    {
      "cell_type": "code",
      "metadata": {
        "id": "qVA55goD7uyr",
        "colab": {
          "base_uri": "https://localhost:8080/"
        },
        "outputId": "879a37f7-d220-400e-efc4-a387b7af074b"
      },
      "source": [
        "model.compile(loss='categorical_crossentropy',\n",
        "              optimizer='adam',\n",
        "              metrics=['accuracy'])\n",
        "\n",
        "history = model.fit(X_train, Y_train, epochs=100,\n",
        "                    batch_size=32, verbose=0)\n",
        "model.save('iris_model.h5')     # or model.save('iris_model_dir')"
      ],
      "execution_count": 8,
      "outputs": [
        {
          "output_type": "stream",
          "name": "stderr",
          "text": [
            "/usr/local/lib/python3.10/dist-packages/keras/src/engine/training.py:3000: UserWarning: You are saving your model as an HDF5 file via `model.save()`. This file format is considered legacy. We recommend using instead the native Keras format, e.g. `model.save('my_model.keras')`.\n",
            "  saving_api.save_model(\n"
          ]
        }
      ]
    },
    {
      "cell_type": "code",
      "source": [
        "history.history.keys()"
      ],
      "metadata": {
        "colab": {
          "base_uri": "https://localhost:8080/"
        },
        "id": "N2q4AUIxCg_8",
        "outputId": "bad4ef76-cc87-46e0-89d6-254d7e39e960"
      },
      "execution_count": 9,
      "outputs": [
        {
          "output_type": "execute_result",
          "data": {
            "text/plain": [
              "dict_keys(['loss', 'accuracy'])"
            ]
          },
          "metadata": {},
          "execution_count": 9
        }
      ]
    },
    {
      "cell_type": "code",
      "metadata": {
        "id": "wA6psJlU7uyz",
        "colab": {
          "base_uri": "https://localhost:8080/"
        },
        "outputId": "f9676b15-133e-47fd-ec0e-96a01a1b570b"
      },
      "source": [
        "from keras.models import load_model\n",
        "del model   # delete existing models in memory\n",
        "model = load_model('iris_model.h5')  # newly call the model\n",
        "print(\"\\n Accuracy: %.4f\" % (model.evaluate(X_test, Y_test)[1]))"
      ],
      "execution_count": 10,
      "outputs": [
        {
          "output_type": "stream",
          "name": "stdout",
          "text": [
            "1/1 [==============================] - 0s 161ms/step - loss: 0.5388 - accuracy: 0.8333\n",
            "\n",
            " Accuracy: 0.8333\n"
          ]
        }
      ]
    },
    {
      "cell_type": "code",
      "source": [
        "model.evaluate(X_test, Y_test)     # loss, accuracy"
      ],
      "metadata": {
        "colab": {
          "base_uri": "https://localhost:8080/"
        },
        "id": "7gBt0ERNC5FZ",
        "outputId": "9f174317-7068-4fd3-ac27-5bb4b0247943"
      },
      "execution_count": 11,
      "outputs": [
        {
          "output_type": "stream",
          "name": "stdout",
          "text": [
            "1/1 [==============================] - 0s 31ms/step - loss: 0.5388 - accuracy: 0.8333\n"
          ]
        },
        {
          "output_type": "execute_result",
          "data": {
            "text/plain": [
              "[0.5388433337211609, 0.8333333134651184]"
            ]
          },
          "metadata": {},
          "execution_count": 11
        }
      ]
    },
    {
      "cell_type": "code",
      "metadata": {
        "id": "TfJAAPbbYsLB",
        "colab": {
          "base_uri": "https://localhost:8080/"
        },
        "outputId": "a1567a77-abf5-4304-f4f1-247f76e70e35"
      },
      "source": [
        "X.shape, Y.shape"
      ],
      "execution_count": null,
      "outputs": [
        {
          "output_type": "execute_result",
          "data": {
            "text/plain": [
              "((150, 4), (150,))"
            ]
          },
          "metadata": {},
          "execution_count": 10
        }
      ]
    },
    {
      "cell_type": "code",
      "metadata": {
        "colab": {
          "base_uri": "https://localhost:8080/"
        },
        "id": "bV4flTDoOgLR",
        "outputId": "e2ed1384-5b90-41d7-a82a-3e37fee9c760"
      },
      "source": [
        "history.history.keys()"
      ],
      "execution_count": null,
      "outputs": [
        {
          "output_type": "execute_result",
          "data": {
            "text/plain": [
              "dict_keys(['loss', 'accuracy'])"
            ]
          },
          "metadata": {},
          "execution_count": 11
        }
      ]
    },
    {
      "cell_type": "code",
      "metadata": {
        "colab": {
          "base_uri": "https://localhost:8080/",
          "height": 448
        },
        "id": "5cunlwaLOk_x",
        "outputId": "81aac819-3ada-4920-afd9-e1be9e0c4e38"
      },
      "source": [
        "plt.subplot(1,2,1)\n",
        "plt.plot(history.history['loss'])\n",
        "plt.subplot(1,2,2)\n",
        "plt.plot(history.history['accuracy'])"
      ],
      "execution_count": null,
      "outputs": [
        {
          "output_type": "execute_result",
          "data": {
            "text/plain": [
              "[<matplotlib.lines.Line2D at 0x7c9341d14820>]"
            ]
          },
          "metadata": {},
          "execution_count": 12
        },
        {
          "output_type": "display_data",
          "data": {
            "text/plain": [
              "<Figure size 640x480 with 2 Axes>"
            ],
            "image/png": "[encoded data removed]"
          },
          "metadata": {}
        }
      ]
    },
    {
      "cell_type": "code",
      "metadata": {
        "colab": {
          "base_uri": "https://localhost:8080/"
        },
        "id": "rYd8p2FHP9Ul",
        "outputId": "480d5154-9ff7-4085-e059-23695f715002"
      },
      "source": [
        "model.evaluate(X_test, Y_test)"
      ],
      "execution_count": null,
      "outputs": [
        {
          "output_type": "stream",
          "name": "stdout",
          "text": [
            "1/1 [==============================] - 0s 46ms/step - loss: 0.3575 - accuracy: 0.9333\n"
          ]
        },
        {
          "output_type": "execute_result",
          "data": {
            "text/plain": [
              "[0.35750478506088257, 0.9333333373069763]"
            ]
          },
          "metadata": {},
          "execution_count": 13
        }
      ]
    },
    {
      "cell_type": "code",
      "source": [
        "X_test[0]"
      ],
      "metadata": {
        "colab": {
          "base_uri": "https://localhost:8080/"
        },
        "id": "kVa2NEf2DqSM",
        "outputId": "7653de73-b7e4-47b1-9e64-6ebe1d2cc1d7"
      },
      "execution_count": null,
      "outputs": [
        {
          "output_type": "execute_result",
          "data": {
            "text/plain": [
              "array([5.4, 3.9, 1.3, 0.4])"
            ]
          },
          "metadata": {},
          "execution_count": 14
        }
      ]
    },
    {
      "cell_type": "code",
      "source": [
        "model.predict(X_test)[0]"
      ],
      "metadata": {
        "colab": {
          "base_uri": "https://localhost:8080/"
        },
        "id": "ht3CRbvjDfxd",
        "outputId": "35ebaf4e-1df9-4554-ac50-4829dec7b4e5"
      },
      "execution_count": null,
      "outputs": [
        {
          "output_type": "stream",
          "name": "stdout",
          "text": [
            "1/1 [==============================] - 0s 32ms/step\n"
          ]
        },
        {
          "output_type": "execute_result",
          "data": {
            "text/plain": [
              "array([9.8314673e-01, 1.6257061e-02, 5.9624226e-04], dtype=float32)"
            ]
          },
          "metadata": {},
          "execution_count": 19
        }
      ]
    },
    {
      "cell_type": "code",
      "metadata": {
        "colab": {
          "base_uri": "https://localhost:8080/"
        },
        "id": "ho7A74LZQMF8",
        "outputId": "25716143-48fc-49d3-c4fb-a872a56fe463"
      },
      "source": [
        "Y_pred = model.predict(X_test)\n",
        "tf.math.confusion_matrix(Y_test.argmax(1), Y_pred.argmax(1))"
      ],
      "execution_count": null,
      "outputs": [
        {
          "output_type": "stream",
          "name": "stdout",
          "text": [
            "1/1 [==============================] - 0s 21ms/step\n"
          ]
        },
        {
          "output_type": "execute_result",
          "data": {
            "text/plain": [
              "<tf.Tensor: shape=(3, 3), dtype=int32, numpy=\n",
              "array([[ 7,  0,  0],\n",
              "       [ 0,  9,  2],\n",
              "       [ 0,  0, 12]], dtype=int32)>"
            ]
          },
          "metadata": {},
          "execution_count": 20
        }
      ]
    },
    {
      "cell_type": "markdown",
      "metadata": {
        "id": "KitK6yZf7uzE"
      },
      "source": [
        "# K-fold cross validation\n",
        "- Keras does not have a direct equivalent to 'cross_val_score()' from sklearn."
      ]
    },
    {
      "cell_type": "markdown",
      "source": [
        "### Manual implement\n",
        "- full control"
      ],
      "metadata": {
        "id": "YAjUJoQhRkeg"
      }
    },
    {
      "cell_type": "code",
      "metadata": {
        "colab": {
          "base_uri": "https://localhost:8080/"
        },
        "id": "5wZd1FQWVMFr",
        "outputId": "03bae835-1d5c-4446-f354-6372ce13f1de"
      },
      "source": [
        "X.shape, Y.shape"
      ],
      "execution_count": null,
      "outputs": [
        {
          "output_type": "execute_result",
          "data": {
            "text/plain": [
              "((150, 4), (150,))"
            ]
          },
          "metadata": {},
          "execution_count": 29
        }
      ]
    },
    {
      "cell_type": "code",
      "metadata": {
        "id": "yuLk6qSk7uzF"
      },
      "source": [
        "from sklearn.model_selection import StratifiedKFold\n",
        "\n",
        "model = Sequential()\n",
        "model.add(Dense(16,  input_shape=(4,), activation='relu'))\n",
        "model.add(Dense(3, activation='softmax'))\n",
        "model.compile(loss='categorical_crossentropy',\n",
        "              optimizer='adam',\n",
        "              metrics=['accuracy'])\n",
        "\n",
        "n_fold = 5\n",
        "skf = StratifiedKFold(n_splits=n_fold, shuffle=True, random_state=17)\n",
        "\n",
        "cvscores = []\n",
        "for train_index, test_index in skf.split(X, Y):\n",
        "\n",
        "    X_train, X_test = X[train_index], X[test_index]\n",
        "    y_train, y_test = Y[train_index], Y[test_index]\n",
        "    y_train_enc = utils.to_categorical(y_train)\n",
        "    y_test_enc = utils.to_categorical(y_test)\n",
        "\n",
        "    model.fit(X_train, y_train_enc, epochs=30, batch_size=5, verbose=0)\n",
        "    score = model.evaluate(X_test, y_test_enc, verbose=0)\n",
        "    cvscores.append(score)"
      ],
      "execution_count": null,
      "outputs": []
    },
    {
      "cell_type": "code",
      "metadata": {
        "id": "V6WIi1FtYL-Z",
        "colab": {
          "base_uri": "https://localhost:8080/"
        },
        "outputId": "92eb2f06-7822-450f-d200-5df0f6fdec1a"
      },
      "source": [
        "model.metrics_names, cvscores, np.mean(cvscores, axis=0)"
      ],
      "execution_count": null,
      "outputs": [
        {
          "output_type": "execute_result",
          "data": {
            "text/plain": [
              "(['loss', 'accuracy'],\n",
              " [[0.39767298102378845, 0.9333333373069763],\n",
              "  [0.33935242891311646, 0.9666666388511658],\n",
              "  [0.3483627438545227, 0.9666666388511658],\n",
              "  [0.3515993654727936, 1.0],\n",
              "  [0.40204423666000366, 0.9333333373069763]],\n",
              " array([0.36780635, 0.95999999]))"
            ]
          },
          "metadata": {},
          "execution_count": 23
        }
      ]
    },
    {
      "cell_type": "markdown",
      "source": [
        "### Using KerasClassifier wrapper\n",
        "\n",
        "- We can use scikit-learn in conjunction with Keras to perform K-fold cross-validation.\n",
        "- easy and seamless integration with familiar interface\n",
        "- KerasClassifier():\n",
        "  - it allows you to use a Keras model as an estimator in scikit-learn.\n",
        "  - This means you can apply scikit-learn's powerful tools for tasks like hyperparameter tuning, cross-validation, and more, while leveraging the capabilities of Keras for deep learning."
      ],
      "metadata": {
        "id": "gAKBEhO2RfSx"
      }
    },
    {
      "cell_type": "code",
      "source": [
        "!pip install scikeras"
      ],
      "metadata": {
        "colab": {
          "base_uri": "https://localhost:8080/"
        },
        "id": "w6B-CpaLOwgi",
        "outputId": "56d10253-bc03-4729-b836-e670af02b24f"
      },
      "execution_count": null,
      "outputs": [
        {
          "output_type": "stream",
          "name": "stdout",
          "text": [
            "Collecting scikeras\n",
            "  Downloading scikeras-0.11.0-py3-none-any.whl (27 kB)\n",
            "Requirement already satisfied: packaging>=0.21 in /usr/local/lib/python3.10/dist-packages (from scikeras) (23.1)\n",
            "Requirement already satisfied: scikit-learn>=1.0.0 in /usr/local/lib/python3.10/dist-packages (from scikeras) (1.2.2)\n",
            "Requirement already satisfied: numpy>=1.17.3 in /usr/local/lib/python3.10/dist-packages (from scikit-learn>=1.0.0->scikeras) (1.23.5)\n",
            "Requirement already satisfied: scipy>=1.3.2 in /usr/local/lib/python3.10/dist-packages (from scikit-learn>=1.0.0->scikeras) (1.11.2)\n",
            "Requirement already satisfied: joblib>=1.1.1 in /usr/local/lib/python3.10/dist-packages (from scikit-learn>=1.0.0->scikeras) (1.3.2)\n",
            "Requirement already satisfied: threadpoolctl>=2.0.0 in /usr/local/lib/python3.10/dist-packages (from scikit-learn>=1.0.0->scikeras) (3.2.0)\n",
            "Installing collected packages: scikeras\n",
            "Successfully installed scikeras-0.11.0\n"
          ]
        }
      ]
    },
    {
      "cell_type": "code",
      "source": [
        "X.shape, Y_encoded.shape"
      ],
      "metadata": {
        "colab": {
          "base_uri": "https://localhost:8080/"
        },
        "id": "YhXxv_3RP0-h",
        "outputId": "5fd3fbfa-b1df-4538-91a9-b42a416db199"
      },
      "execution_count": null,
      "outputs": [
        {
          "output_type": "execute_result",
          "data": {
            "text/plain": [
              "((150, 4), (150, 3))"
            ]
          },
          "metadata": {},
          "execution_count": 36
        }
      ]
    },
    {
      "cell_type": "code",
      "source": [
        "from sklearn.model_selection import cross_val_score\n",
        "from sklearn.model_selection import KFold\n",
        "from scikeras.wrappers import KerasClassifier\n",
        "from tensorflow.keras.models import Sequential\n",
        "from tensorflow.keras.layers import Dense\n",
        "\n",
        "# Define a simple Keras model function\n",
        "def create_model():\n",
        "    model = Sequential()\n",
        "    model.add(Dense(16,  input_shape=(4,), activation='relu'))\n",
        "    model.add(Dense(3, activation='softmax'))\n",
        "    model.compile(loss='categorical_crossentropy',\n",
        "                  optimizer='adam',\n",
        "                  metrics=['accuracy'])\n",
        "    return model\n",
        "\n",
        "# Wrap the Keras model\n",
        "model = KerasClassifier(model=create_model, epochs=30, batch_size=10, verbose=0)\n",
        "\n",
        "# Define K-fold cross-validator\n",
        "kfold = KFold(n_splits=5, shuffle=True, random_state=42)\n",
        "\n",
        "# Perform K-fold cross-validation\n",
        "results = cross_val_score(model, X, Y_encoded, cv=kfold)\n",
        "\n",
        "# Print the results\n",
        "print(results)\n",
        "print(\"Accuracy: %.2f%% (%.2f%%)\" % (results.mean()*100, results.std()*100))"
      ],
      "metadata": {
        "colab": {
          "base_uri": "https://localhost:8080/"
        },
        "id": "lNmgaUhsNXcm",
        "outputId": "7f7f6e8e-43c4-453f-9880-a8ae14d5b49e"
      },
      "execution_count": null,
      "outputs": [
        {
          "output_type": "stream",
          "name": "stdout",
          "text": [
            "[0.96666667 0.86666667 0.86666667 0.66666667 0.93333333]\n",
            "Accuracy: 86.00% (10.41%)\n"
          ]
        }
      ]
    },
    {
      "cell_type": "markdown",
      "source": [
        "- which one to choose?\n",
        "  - it's recommended to validate your choice through experimentation and performance evaluation on your specific dataset and task."
      ],
      "metadata": {
        "id": "QFJhzcZpVV-J"
      }
    },
    {
      "cell_type": "markdown",
      "metadata": {
        "id": "UzbpqKRk7uzT"
      },
      "source": [
        "# 14. Callback - check point and early stopping\n",
        "- Callback 함수: 어떤 event 가 발생했을 때 호출되는 함수"
      ]
    },
    {
      "cell_type": "code",
      "metadata": {
        "id": "gafjD4O27uzU"
      },
      "source": [
        "from tensorflow.keras.models import Sequential\n",
        "from tensorflow.keras.layers import Dense\n",
        "from tensorflow.keras.callbacks import ModelCheckpoint, EarlyStopping\n",
        "\n",
        "import pandas as pd\n",
        "import numpy as np\n",
        "import os\n",
        "import tensorflow as tf"
      ],
      "execution_count": null,
      "outputs": []
    },
    {
      "cell_type": "markdown",
      "metadata": {
        "id": "ZHNY7zxnk0YG"
      },
      "source": [
        "- download wine.csv from https://codedragon.tistory.com/9480\n",
        "  - class 1: red wine, 0: white wine"
      ]
    },
    {
      "cell_type": "code",
      "metadata": {
        "id": "bj5eEiks7uzY",
        "colab": {
          "base_uri": "https://localhost:8080/"
        },
        "outputId": "215d207e-9c54-4485-9a25-b4f919e4f60b"
      },
      "source": [
        "df_all = pd.read_csv('wine.csv', header=None)\n",
        "df = df_all.sample(frac=0.2)  # get only 20% of dataset\n",
        "df.shape"
      ],
      "execution_count": null,
      "outputs": [
        {
          "output_type": "execute_result",
          "data": {
            "text/plain": [
              "(1299, 13)"
            ]
          },
          "metadata": {},
          "execution_count": 2
        }
      ]
    },
    {
      "cell_type": "code",
      "metadata": {
        "id": "TY5sKbdJnQBQ",
        "colab": {
          "base_uri": "https://localhost:8080/",
          "height": 81
        },
        "outputId": "5daa4d4b-721e-4bfd-e321-c87d4e4a1488"
      },
      "source": [
        "df.head(1)"
      ],
      "execution_count": null,
      "outputs": [
        {
          "output_type": "execute_result",
          "data": {
            "text/plain": [
              "       0     1     2    3     4     5      6        7     8    9    10  11  12\n",
              "6076  6.4  0.32  0.26  7.9  0.05  53.0  180.0  0.99514  3.14  0.5  9.6   5   0"
            ],
            "text/html": [
              "\n",
              "  <div id=\"df-be0004d4-7182-4af9-967d-bdc56b12e9eb\">\n",
              "    <div class=\"colab-df-container\">\n",
              "      <div>\n",
              "<style scoped>\n",
              "    .dataframe tbody tr th:only-of-type {\n",
              "        vertical-align: middle;\n",
              "    }\n",
              "\n",
              "    .dataframe tbody tr th {\n",
              "        vertical-align: top;\n",
              "    }\n",
              "\n",
              "    .dataframe thead th {\n",
              "        text-align: right;\n",
              "    }\n",
              "</style>\n",
              "<table border=\"1\" class=\"dataframe\">\n",
              "  <thead>\n",
              "    <tr style=\"text-align: right;\">\n",
              "      <th></th>\n",
              "      <th>0</th>\n",
              "      <th>1</th>\n",
              "      <th>2</th>\n",
              "      <th>3</th>\n",
              "      <th>4</th>\n",
              "      <th>5</th>\n",
              "      <th>6</th>\n",
              "      <th>7</th>\n",
              "      <th>8</th>\n",
              "      <th>9</th>\n",
              "      <th>10</th>\n",
              "      <th>11</th>\n",
              "      <th>12</th>\n",
              "    </tr>\n",
              "  </thead>\n",
              "  <tbody>\n",
              "    <tr>\n",
              "      <th>6076</th>\n",
              "      <td>6.4</td>\n",
              "      <td>0.32</td>\n",
              "      <td>0.26</td>\n",
              "      <td>7.9</td>\n",
              "      <td>0.05</td>\n",
              "      <td>53.0</td>\n",
              "      <td>180.0</td>\n",
              "      <td>0.99514</td>\n",
              "      <td>3.14</td>\n",
              "      <td>0.5</td>\n",
              "      <td>9.6</td>\n",
              "      <td>5</td>\n",
              "      <td>0</td>\n",
              "    </tr>\n",
              "  </tbody>\n",
              "</table>\n",
              "</div>\n",
              "      <button class=\"colab-df-convert\" onclick=\"convertToInteractive('df-be0004d4-7182-4af9-967d-bdc56b12e9eb')\"\n",
              "              title=\"Convert this dataframe to an interactive table.\"\n",
              "              style=\"display:none;\">\n",
              "        \n",
              "  <svg xmlns=\"http://www.w3.org/2000/svg\" height=\"24px\"viewBox=\"0 0 24 24\"\n",
              "       width=\"24px\">\n",
              "    <path d=\"M0 0h24v24H0V0z\" fill=\"none\"/>\n",
              "    <path d=\"M18.56 5.44l.94 2.06.94-2.06 2.06-.94-2.06-.94-.94-2.06-.94 2.06-2.06.94zm-11 1L8.5 8.5l.94-2.06 2.06-.94-2.06-.94L8.5 2.5l-.94 2.06-2.06.94zm10 10l.94 2.06.94-2.06 2.06-.94-2.06-.94-.94-2.06-.94 2.06-2.06.94z\"/><path d=\"M17.41 7.96l-1.37-1.37c-.4-.4-.92-.59-1.43-.59-.52 0-1.04.2-1.43.59L10.3 9.45l-7.72 7.72c-.78.78-.78 2.05 0 2.83L4 21.41c.39.39.9.59 1.41.59.51 0 1.02-.2 1.41-.59l7.78-7.78 2.81-2.81c.8-.78.8-2.07 0-2.86zM5.41 20L4 18.59l7.72-7.72 1.47 1.35L5.41 20z\"/>\n",
              "  </svg>\n",
              "      </button>\n",
              "      \n",
              "  <style>\n",
              "    .colab-df-container {\n",
              "      display:flex;\n",
              "      flex-wrap:wrap;\n",
              "      gap: 12px;\n",
              "    }\n",
              "\n",
              "    .colab-df-convert {\n",
              "      background-color: #E8F0FE;\n",
              "      border: none;\n",
              "      border-radius: 50%;\n",
              "      cursor: pointer;\n",
              "      display: none;\n",
              "      fill: #1967D2;\n",
              "      height: 32px;\n",
              "      padding: 0 0 0 0;\n",
              "      width: 32px;\n",
              "    }\n",
              "\n",
              "    .colab-df-convert:hover {\n",
              "      background-color: #E2EBFA;\n",
              "      box-shadow: 0px 1px 2px rgba(60, 64, 67, 0.3), 0px 1px 3px 1px rgba(60, 64, 67, 0.15);\n",
              "      fill: #174EA6;\n",
              "    }\n",
              "\n",
              "    [theme=dark] .colab-df-convert {\n",
              "      background-color: #3B4455;\n",
              "      fill: #D2E3FC;\n",
              "    }\n",
              "\n",
              "    [theme=dark] .colab-df-convert:hover {\n",
              "      background-color: #434B5C;\n",
              "      box-shadow: 0px 1px 3px 1px rgba(0, 0, 0, 0.15);\n",
              "      filter: drop-shadow(0px 1px 2px rgba(0, 0, 0, 0.3));\n",
              "      fill: #FFFFFF;\n",
              "    }\n",
              "  </style>\n",
              "\n",
              "      <script>\n",
              "        const buttonEl =\n",
              "          document.querySelector('#df-be0004d4-7182-4af9-967d-bdc56b12e9eb button.colab-df-convert');\n",
              "        buttonEl.style.display =\n",
              "          google.colab.kernel.accessAllowed ? 'block' : 'none';\n",
              "\n",
              "        async function convertToInteractive(key) {\n",
              "          const element = document.querySelector('#df-be0004d4-7182-4af9-967d-bdc56b12e9eb');\n",
              "          const dataTable =\n",
              "            await google.colab.kernel.invokeFunction('convertToInteractive',\n",
              "                                                     [key], {});\n",
              "          if (!dataTable) return;\n",
              "\n",
              "          const docLinkHtml = 'Like what you see? Visit the ' +\n",
              "            '<a target=\"_blank\" href=https://colab.research.google.com/notebooks/data_table.ipynb>data table notebook</a>'\n",
              "            + ' to learn more about interactive tables.';\n",
              "          element.innerHTML = '';\n",
              "          dataTable['output_type'] = 'display_data';\n",
              "          await google.colab.output.renderOutput(dataTable, element);\n",
              "          const docLink = document.createElement('div');\n",
              "          docLink.innerHTML = docLinkHtml;\n",
              "          element.appendChild(docLink);\n",
              "        }\n",
              "      </script>\n",
              "    </div>\n",
              "  </div>\n",
              "  "
            ]
          },
          "metadata": {},
          "execution_count": 3
        }
      ]
    },
    {
      "cell_type": "code",
      "metadata": {
        "id": "dV8EsphhnWsH",
        "colab": {
          "base_uri": "https://localhost:8080/"
        },
        "outputId": "bf8e1e3f-866b-483f-c0aa-8c5e7d83ecd5"
      },
      "source": [
        "df[12].value_counts()"
      ],
      "execution_count": null,
      "outputs": [
        {
          "output_type": "execute_result",
          "data": {
            "text/plain": [
              "0    966\n",
              "1    333\n",
              "Name: 12, dtype: int64"
            ]
          },
          "metadata": {},
          "execution_count": 4
        }
      ]
    },
    {
      "cell_type": "code",
      "metadata": {
        "id": "Yd7tFmGT7uzd",
        "colab": {
          "base_uri": "https://localhost:8080/"
        },
        "outputId": "13a0eba3-07fb-485a-b331-7b44d51af564"
      },
      "source": [
        "dataset = df.values\n",
        "X, y = dataset[:,0:12], dataset[:,12]\n",
        "\n",
        "model = Sequential()\n",
        "model.add(Dense(30,  input_dim=12, activation='relu')) # input_shape=(12,)\n",
        "model.add(Dense(12, activation='relu'))\n",
        "model.add(Dense(8, activation='relu'))\n",
        "model.add(Dense(1, activation='sigmoid'))\n",
        "model.summary()\n",
        "\n",
        "model.compile(loss='binary_crossentropy',\n",
        "          optimizer='adam',\n",
        "          metrics=['accuracy'])\n",
        "\n",
        "# 모델 저장 폴더 만들기\n",
        "MODEL_DIR = './model/'\n",
        "if not os.path.exists(MODEL_DIR):\n",
        "    os.mkdir(MODEL_DIR)\n",
        "\n",
        "modelpath=\"./model/{epoch:02d}-{val_loss:.4f}.hdf5\"\n",
        "\n",
        "# 모델 업데이트 및 저장 (epoch 마다)\n",
        "checkpointer = ModelCheckpoint(filepath=modelpath,\n",
        "                               monitor='val_loss',\n",
        "                               verbose=1,\n",
        "                               save_best_only=True)  # record only when imrpoved\n",
        "\n",
        "# 테스트 오차가 줄지 않으면 학습 자동 중단 설정 (모니터할 값 저장)\n",
        "early_stopping_callback = EarlyStopping(monitor='val_loss',\n",
        "                                        patience=100) # 좋아지지 않아도 몇 번까지 기다릴것인지"
      ],
      "execution_count": null,
      "outputs": [
        {
          "output_type": "stream",
          "name": "stdout",
          "text": [
            "Model: \"sequential_1\"\n",
            "_________________________________________________________________\n",
            " Layer (type)                Output Shape              Param #   \n",
            "=================================================================\n",
            " dense_4 (Dense)             (None, 30)                390       \n",
            "                                                                 \n",
            " dense_5 (Dense)             (None, 12)                372       \n",
            "                                                                 \n",
            " dense_6 (Dense)             (None, 8)                 104       \n",
            "                                                                 \n",
            " dense_7 (Dense)             (None, 1)                 9         \n",
            "                                                                 \n",
            "=================================================================\n",
            "Total params: 875\n",
            "Trainable params: 875\n",
            "Non-trainable params: 0\n",
            "_________________________________________________________________\n"
          ]
        }
      ]
    },
    {
      "cell_type": "code",
      "metadata": {
        "scrolled": true,
        "id": "--_bUDPb7uzp",
        "colab": {
          "base_uri": "https://localhost:8080/",
          "height": 1000
        },
        "outputId": "e71091f5-5571-4534-e499-9511e675f3fd"
      },
      "source": [
        "y_loss, y_acc, y_vloss, y_vacc = [], [], [], []\n",
        "\n",
        "history = model.fit(X, y, validation_split=0.2,\n",
        "                    epochs=2000, batch_size=100, verbose=0,\n",
        "                    callbacks=[early_stopping_callback,checkpointer])\n",
        "y_loss = history.history['loss']\n",
        "y_acc = history.history['accuracy']\n",
        "y_vloss = history.history['val_loss']\n",
        "y_vacc = history.history['val_accuracy']\n",
        "x_len = np.arange(len(y_acc))\n",
        "plt.ylim(0.,1.)\n",
        "plt.title(\"Traing\")\n",
        "plt.plot(x_len, y_loss, \"o\", c=\"r\", markersize=3)\n",
        "plt.plot(x_len, y_acc, \"o\", c=\"b\", markersize=3)\n",
        "plt.show()\n",
        "plt.title(\"Validation\")\n",
        "plt.ylim(0.,1.)\n",
        "plt.plot(x_len, y_vloss, \"o\", c=\"r\", markersize=3)\n",
        "plt.plot(x_len, y_vacc, \"o\", c=\"b\", markersize=3)\n",
        "plt.show()"
      ],
      "execution_count": null,
      "outputs": [
        {
          "output_type": "stream",
          "name": "stdout",
          "text": [
            "\n",
            "Epoch 1: val_loss improved from inf to 13.14867, saving model to ./model/01-13.1487.hdf5\n",
            "\n",
            "Epoch 2: val_loss improved from 13.14867 to 3.20113, saving model to ./model/02-3.2011.hdf5\n",
            "\n",
            "Epoch 3: val_loss improved from 3.20113 to 1.84401, saving model to ./model/03-1.8440.hdf5\n",
            "\n",
            "Epoch 4: val_loss improved from 1.84401 to 1.09263, saving model to ./model/04-1.0926.hdf5\n",
            "\n",
            "Epoch 5: val_loss improved from 1.09263 to 0.71993, saving model to ./model/05-0.7199.hdf5\n",
            "\n",
            "Epoch 6: val_loss improved from 0.71993 to 0.66172, saving model to ./model/06-0.6617.hdf5\n",
            "\n",
            "Epoch 7: val_loss improved from 0.66172 to 0.63528, saving model to ./model/07-0.6353.hdf5\n",
            "\n",
            "Epoch 8: val_loss improved from 0.63528 to 0.62349, saving model to ./model/08-0.6235.hdf5\n",
            "\n",
            "Epoch 9: val_loss improved from 0.62349 to 0.60933, saving model to ./model/09-0.6093.hdf5\n",
            "\n",
            "Epoch 10: val_loss improved from 0.60933 to 0.59768, saving model to ./model/10-0.5977.hdf5\n",
            "\n",
            "Epoch 11: val_loss improved from 0.59768 to 0.59340, saving model to ./model/11-0.5934.hdf5\n",
            "\n",
            "Epoch 12: val_loss improved from 0.59340 to 0.58460, saving model to ./model/12-0.5846.hdf5\n",
            "\n",
            "Epoch 13: val_loss improved from 0.58460 to 0.57587, saving model to ./model/13-0.5759.hdf5\n",
            "\n",
            "Epoch 14: val_loss improved from 0.57587 to 0.57176, saving model to ./model/14-0.5718.hdf5\n",
            "\n",
            "Epoch 15: val_loss improved from 0.57176 to 0.56617, saving model to ./model/15-0.5662.hdf5\n",
            "\n",
            "Epoch 16: val_loss improved from 0.56617 to 0.56111, saving model to ./model/16-0.5611.hdf5\n",
            "\n",
            "Epoch 17: val_loss improved from 0.56111 to 0.55710, saving model to ./model/17-0.5571.hdf5\n",
            "\n",
            "Epoch 18: val_loss improved from 0.55710 to 0.55340, saving model to ./model/18-0.5534.hdf5\n",
            "\n",
            "Epoch 19: val_loss improved from 0.55340 to 0.55064, saving model to ./model/19-0.5506.hdf5\n",
            "\n",
            "Epoch 20: val_loss improved from 0.55064 to 0.54749, saving model to ./model/20-0.5475.hdf5\n",
            "\n",
            "Epoch 21: val_loss improved from 0.54749 to 0.54394, saving model to ./model/21-0.5439.hdf5\n",
            "\n",
            "Epoch 22: val_loss improved from 0.54394 to 0.54009, saving model to ./model/22-0.5401.hdf5\n",
            "\n",
            "Epoch 23: val_loss improved from 0.54009 to 0.53665, saving model to ./model/23-0.5366.hdf5\n",
            "\n",
            "Epoch 24: val_loss improved from 0.53665 to 0.53336, saving model to ./model/24-0.5334.hdf5\n",
            "\n",
            "Epoch 25: val_loss improved from 0.53336 to 0.53062, saving model to ./model/25-0.5306.hdf5\n",
            "\n",
            "Epoch 26: val_loss improved from 0.53062 to 0.52753, saving model to ./model/26-0.5275.hdf5\n",
            "\n",
            "Epoch 27: val_loss improved from 0.52753 to 0.52472, saving model to ./model/27-0.5247.hdf5\n",
            "\n",
            "Epoch 28: val_loss improved from 0.52472 to 0.52163, saving model to ./model/28-0.5216.hdf5\n",
            "\n",
            "Epoch 29: val_loss improved from 0.52163 to 0.51881, saving model to ./model/29-0.5188.hdf5\n",
            "\n",
            "Epoch 30: val_loss improved from 0.51881 to 0.51596, saving model to ./model/30-0.5160.hdf5\n",
            "\n",
            "Epoch 31: val_loss improved from 0.51596 to 0.51315, saving model to ./model/31-0.5131.hdf5\n",
            "\n",
            "Epoch 32: val_loss improved from 0.51315 to 0.51045, saving model to ./model/32-0.5104.hdf5\n",
            "\n",
            "Epoch 33: val_loss improved from 0.51045 to 0.50771, saving model to ./model/33-0.5077.hdf5\n",
            "\n",
            "Epoch 34: val_loss improved from 0.50771 to 0.50492, saving model to ./model/34-0.5049.hdf5\n",
            "\n",
            "Epoch 35: val_loss improved from 0.50492 to 0.50243, saving model to ./model/35-0.5024.hdf5\n",
            "\n",
            "Epoch 36: val_loss improved from 0.50243 to 0.49966, saving model to ./model/36-0.4997.hdf5\n",
            "\n",
            "Epoch 37: val_loss improved from 0.49966 to 0.49717, saving model to ./model/37-0.4972.hdf5\n",
            "\n",
            "Epoch 38: val_loss improved from 0.49717 to 0.49454, saving model to ./model/38-0.4945.hdf5\n",
            "\n",
            "Epoch 39: val_loss improved from 0.49454 to 0.49190, saving model to ./model/39-0.4919.hdf5\n",
            "\n",
            "Epoch 40: val_loss improved from 0.49190 to 0.48917, saving model to ./model/40-0.4892.hdf5\n",
            "\n",
            "Epoch 41: val_loss improved from 0.48917 to 0.48657, saving model to ./model/41-0.4866.hdf5\n",
            "\n",
            "Epoch 42: val_loss improved from 0.48657 to 0.48401, saving model to ./model/42-0.4840.hdf5\n",
            "\n",
            "Epoch 43: val_loss improved from 0.48401 to 0.48162, saving model to ./model/43-0.4816.hdf5\n",
            "\n",
            "Epoch 44: val_loss improved from 0.48162 to 0.47903, saving model to ./model/44-0.4790.hdf5\n",
            "\n",
            "Epoch 45: val_loss improved from 0.47903 to 0.47649, saving model to ./model/45-0.4765.hdf5\n",
            "\n",
            "Epoch 46: val_loss improved from 0.47649 to 0.47419, saving model to ./model/46-0.4742.hdf5\n",
            "\n",
            "Epoch 47: val_loss improved from 0.47419 to 0.47155, saving model to ./model/47-0.4715.hdf5\n",
            "\n",
            "Epoch 48: val_loss improved from 0.47155 to 0.46914, saving model to ./model/48-0.4691.hdf5\n",
            "\n",
            "Epoch 49: val_loss improved from 0.46914 to 0.46695, saving model to ./model/49-0.4669.hdf5\n",
            "\n",
            "Epoch 50: val_loss improved from 0.46695 to 0.46423, saving model to ./model/50-0.4642.hdf5\n",
            "\n",
            "Epoch 51: val_loss improved from 0.46423 to 0.46185, saving model to ./model/51-0.4619.hdf5\n",
            "\n",
            "Epoch 52: val_loss improved from 0.46185 to 0.45957, saving model to ./model/52-0.4596.hdf5\n",
            "\n",
            "Epoch 53: val_loss improved from 0.45957 to 0.45715, saving model to ./model/53-0.4572.hdf5\n",
            "\n",
            "Epoch 54: val_loss improved from 0.45715 to 0.45471, saving model to ./model/54-0.4547.hdf5\n",
            "\n",
            "Epoch 55: val_loss improved from 0.45471 to 0.45238, saving model to ./model/55-0.4524.hdf5\n",
            "\n",
            "Epoch 56: val_loss improved from 0.45238 to 0.45000, saving model to ./model/56-0.4500.hdf5\n",
            "\n",
            "Epoch 57: val_loss improved from 0.45000 to 0.44773, saving model to ./model/57-0.4477.hdf5\n",
            "\n",
            "Epoch 58: val_loss improved from 0.44773 to 0.44559, saving model to ./model/58-0.4456.hdf5\n",
            "\n",
            "Epoch 59: val_loss improved from 0.44559 to 0.44314, saving model to ./model/59-0.4431.hdf5\n",
            "\n",
            "Epoch 60: val_loss improved from 0.44314 to 0.44096, saving model to ./model/60-0.4410.hdf5\n",
            "\n",
            "Epoch 61: val_loss improved from 0.44096 to 0.43871, saving model to ./model/61-0.4387.hdf5\n",
            "\n",
            "Epoch 62: val_loss improved from 0.43871 to 0.43665, saving model to ./model/62-0.4366.hdf5\n",
            "\n",
            "Epoch 63: val_loss improved from 0.43665 to 0.43468, saving model to ./model/63-0.4347.hdf5\n",
            "\n",
            "Epoch 64: val_loss improved from 0.43468 to 0.43222, saving model to ./model/64-0.4322.hdf5\n",
            "\n",
            "Epoch 65: val_loss improved from 0.43222 to 0.43031, saving model to ./model/65-0.4303.hdf5\n",
            "\n",
            "Epoch 66: val_loss improved from 0.43031 to 0.42797, saving model to ./model/66-0.4280.hdf5\n",
            "\n",
            "Epoch 67: val_loss improved from 0.42797 to 0.42608, saving model to ./model/67-0.4261.hdf5\n",
            "\n",
            "Epoch 68: val_loss improved from 0.42608 to 0.42383, saving model to ./model/68-0.4238.hdf5\n",
            "\n",
            "Epoch 69: val_loss improved from 0.42383 to 0.42178, saving model to ./model/69-0.4218.hdf5\n",
            "\n",
            "Epoch 70: val_loss improved from 0.42178 to 0.42020, saving model to ./model/70-0.4202.hdf5\n",
            "\n",
            "Epoch 71: val_loss improved from 0.42020 to 0.41821, saving model to ./model/71-0.4182.hdf5\n",
            "\n",
            "Epoch 72: val_loss improved from 0.41821 to 0.41585, saving model to ./model/72-0.4159.hdf5\n",
            "\n",
            "Epoch 73: val_loss improved from 0.41585 to 0.41395, saving model to ./model/73-0.4140.hdf5\n",
            "\n",
            "Epoch 74: val_loss improved from 0.41395 to 0.41189, saving model to ./model/74-0.4119.hdf5\n",
            "\n",
            "Epoch 75: val_loss improved from 0.41189 to 0.40985, saving model to ./model/75-0.4099.hdf5\n",
            "\n",
            "Epoch 76: val_loss improved from 0.40985 to 0.40813, saving model to ./model/76-0.4081.hdf5\n",
            "\n",
            "Epoch 77: val_loss improved from 0.40813 to 0.40591, saving model to ./model/77-0.4059.hdf5\n",
            "\n",
            "Epoch 78: val_loss improved from 0.40591 to 0.40400, saving model to ./model/78-0.4040.hdf5\n",
            "\n",
            "Epoch 79: val_loss improved from 0.40400 to 0.40222, saving model to ./model/79-0.4022.hdf5\n",
            "\n",
            "Epoch 80: val_loss improved from 0.40222 to 0.40029, saving model to ./model/80-0.4003.hdf5\n",
            "\n",
            "Epoch 81: val_loss improved from 0.40029 to 0.39844, saving model to ./model/81-0.3984.hdf5\n",
            "\n",
            "Epoch 82: val_loss improved from 0.39844 to 0.39643, saving model to ./model/82-0.3964.hdf5\n",
            "\n",
            "Epoch 83: val_loss improved from 0.39643 to 0.39468, saving model to ./model/83-0.3947.hdf5\n",
            "\n",
            "Epoch 84: val_loss improved from 0.39468 to 0.39267, saving model to ./model/84-0.3927.hdf5\n",
            "\n",
            "Epoch 85: val_loss improved from 0.39267 to 0.39105, saving model to ./model/85-0.3910.hdf5\n",
            "\n",
            "Epoch 86: val_loss improved from 0.39105 to 0.38911, saving model to ./model/86-0.3891.hdf5\n",
            "\n",
            "Epoch 87: val_loss improved from 0.38911 to 0.38714, saving model to ./model/87-0.3871.hdf5\n",
            "\n",
            "Epoch 88: val_loss improved from 0.38714 to 0.38538, saving model to ./model/88-0.3854.hdf5\n",
            "\n",
            "Epoch 89: val_loss improved from 0.38538 to 0.38355, saving model to ./model/89-0.3835.hdf5\n",
            "\n",
            "Epoch 90: val_loss improved from 0.38355 to 0.38180, saving model to ./model/90-0.3818.hdf5\n",
            "\n",
            "Epoch 91: val_loss improved from 0.38180 to 0.38019, saving model to ./model/91-0.3802.hdf5\n",
            "\n",
            "Epoch 92: val_loss improved from 0.38019 to 0.37838, saving model to ./model/92-0.3784.hdf5\n",
            "\n",
            "Epoch 93: val_loss improved from 0.37838 to 0.37729, saving model to ./model/93-0.3773.hdf5\n",
            "\n",
            "Epoch 94: val_loss improved from 0.37729 to 0.37491, saving model to ./model/94-0.3749.hdf5\n",
            "\n",
            "Epoch 95: val_loss improved from 0.37491 to 0.37330, saving model to ./model/95-0.3733.hdf5\n",
            "\n",
            "Epoch 96: val_loss improved from 0.37330 to 0.37152, saving model to ./model/96-0.3715.hdf5\n",
            "\n",
            "Epoch 97: val_loss improved from 0.37152 to 0.36986, saving model to ./model/97-0.3699.hdf5\n",
            "\n",
            "Epoch 98: val_loss improved from 0.36986 to 0.36827, saving model to ./model/98-0.3683.hdf5\n",
            "\n",
            "Epoch 99: val_loss improved from 0.36827 to 0.36637, saving model to ./model/99-0.3664.hdf5\n",
            "\n",
            "Epoch 100: val_loss improved from 0.36637 to 0.36475, saving model to ./model/100-0.3648.hdf5\n",
            "\n",
            "Epoch 101: val_loss improved from 0.36475 to 0.36300, saving model to ./model/101-0.3630.hdf5\n",
            "\n",
            "Epoch 102: val_loss improved from 0.36300 to 0.36140, saving model to ./model/102-0.3614.hdf5\n",
            "\n",
            "Epoch 103: val_loss improved from 0.36140 to 0.35976, saving model to ./model/103-0.3598.hdf5\n",
            "\n",
            "Epoch 104: val_loss improved from 0.35976 to 0.35814, saving model to ./model/104-0.3581.hdf5\n",
            "\n",
            "Epoch 105: val_loss improved from 0.35814 to 0.35623, saving model to ./model/105-0.3562.hdf5\n",
            "\n",
            "Epoch 106: val_loss improved from 0.35623 to 0.35504, saving model to ./model/106-0.3550.hdf5\n",
            "\n",
            "Epoch 107: val_loss improved from 0.35504 to 0.35308, saving model to ./model/107-0.3531.hdf5\n",
            "\n",
            "Epoch 108: val_loss improved from 0.35308 to 0.35134, saving model to ./model/108-0.3513.hdf5\n",
            "\n",
            "Epoch 109: val_loss improved from 0.35134 to 0.35008, saving model to ./model/109-0.3501.hdf5\n",
            "\n",
            "Epoch 110: val_loss improved from 0.35008 to 0.34823, saving model to ./model/110-0.3482.hdf5\n",
            "\n",
            "Epoch 111: val_loss improved from 0.34823 to 0.34685, saving model to ./model/111-0.3468.hdf5\n",
            "\n",
            "Epoch 112: val_loss improved from 0.34685 to 0.34506, saving model to ./model/112-0.3451.hdf5\n",
            "\n",
            "Epoch 113: val_loss improved from 0.34506 to 0.34434, saving model to ./model/113-0.3443.hdf5\n",
            "\n",
            "Epoch 114: val_loss improved from 0.34434 to 0.34200, saving model to ./model/114-0.3420.hdf5\n",
            "\n",
            "Epoch 115: val_loss improved from 0.34200 to 0.34075, saving model to ./model/115-0.3408.hdf5\n",
            "\n",
            "Epoch 116: val_loss improved from 0.34075 to 0.33896, saving model to ./model/116-0.3390.hdf5\n",
            "\n",
            "Epoch 117: val_loss improved from 0.33896 to 0.33765, saving model to ./model/117-0.3377.hdf5\n",
            "\n",
            "Epoch 118: val_loss improved from 0.33765 to 0.33650, saving model to ./model/118-0.3365.hdf5\n",
            "\n",
            "Epoch 119: val_loss improved from 0.33650 to 0.33436, saving model to ./model/119-0.3344.hdf5\n",
            "\n",
            "Epoch 120: val_loss improved from 0.33436 to 0.33303, saving model to ./model/120-0.3330.hdf5\n",
            "\n",
            "Epoch 121: val_loss improved from 0.33303 to 0.33158, saving model to ./model/121-0.3316.hdf5\n",
            "\n",
            "Epoch 122: val_loss improved from 0.33158 to 0.33020, saving model to ./model/122-0.3302.hdf5\n",
            "\n",
            "Epoch 123: val_loss improved from 0.33020 to 0.32855, saving model to ./model/123-0.3285.hdf5\n",
            "\n",
            "Epoch 124: val_loss improved from 0.32855 to 0.32803, saving model to ./model/124-0.3280.hdf5\n",
            "\n",
            "Epoch 125: val_loss improved from 0.32803 to 0.32504, saving model to ./model/125-0.3250.hdf5\n",
            "\n",
            "Epoch 126: val_loss improved from 0.32504 to 0.32491, saving model to ./model/126-0.3249.hdf5\n",
            "\n",
            "Epoch 127: val_loss improved from 0.32491 to 0.32273, saving model to ./model/127-0.3227.hdf5\n",
            "\n",
            "Epoch 128: val_loss improved from 0.32273 to 0.32129, saving model to ./model/128-0.3213.hdf5\n",
            "\n",
            "Epoch 129: val_loss did not improve from 0.32129\n",
            "\n",
            "Epoch 130: val_loss improved from 0.32129 to 0.31784, saving model to ./model/130-0.3178.hdf5\n",
            "\n",
            "Epoch 131: val_loss did not improve from 0.31784\n",
            "\n",
            "Epoch 132: val_loss improved from 0.31784 to 0.31574, saving model to ./model/132-0.3157.hdf5\n",
            "\n",
            "Epoch 133: val_loss improved from 0.31574 to 0.31481, saving model to ./model/133-0.3148.hdf5\n",
            "\n",
            "Epoch 134: val_loss improved from 0.31481 to 0.31330, saving model to ./model/134-0.3133.hdf5\n",
            "\n",
            "Epoch 135: val_loss improved from 0.31330 to 0.31217, saving model to ./model/135-0.3122.hdf5\n",
            "\n",
            "Epoch 136: val_loss improved from 0.31217 to 0.31084, saving model to ./model/136-0.3108.hdf5\n",
            "\n",
            "Epoch 137: val_loss improved from 0.31084 to 0.30992, saving model to ./model/137-0.3099.hdf5\n",
            "\n",
            "Epoch 138: val_loss improved from 0.30992 to 0.30890, saving model to ./model/138-0.3089.hdf5\n",
            "\n",
            "Epoch 139: val_loss improved from 0.30890 to 0.30671, saving model to ./model/139-0.3067.hdf5\n",
            "\n",
            "Epoch 140: val_loss improved from 0.30671 to 0.30421, saving model to ./model/140-0.3042.hdf5\n",
            "\n",
            "Epoch 141: val_loss did not improve from 0.30421\n",
            "\n",
            "Epoch 142: val_loss improved from 0.30421 to 0.30263, saving model to ./model/142-0.3026.hdf5\n",
            "\n",
            "Epoch 143: val_loss improved from 0.30263 to 0.30102, saving model to ./model/143-0.3010.hdf5\n",
            "\n",
            "Epoch 144: val_loss improved from 0.30102 to 0.30043, saving model to ./model/144-0.3004.hdf5\n",
            "\n",
            "Epoch 145: val_loss improved from 0.30043 to 0.29939, saving model to ./model/145-0.2994.hdf5\n",
            "\n",
            "Epoch 146: val_loss improved from 0.29939 to 0.29806, saving model to ./model/146-0.2981.hdf5\n",
            "\n",
            "Epoch 147: val_loss did not improve from 0.29806\n",
            "\n",
            "Epoch 148: val_loss improved from 0.29806 to 0.29368, saving model to ./model/148-0.2937.hdf5\n",
            "\n",
            "Epoch 149: val_loss did not improve from 0.29368\n",
            "\n",
            "Epoch 150: val_loss improved from 0.29368 to 0.29145, saving model to ./model/150-0.2914.hdf5\n",
            "\n",
            "Epoch 151: val_loss improved from 0.29145 to 0.29090, saving model to ./model/151-0.2909.hdf5\n",
            "\n",
            "Epoch 152: val_loss improved from 0.29090 to 0.28939, saving model to ./model/152-0.2894.hdf5\n",
            "\n",
            "Epoch 153: val_loss improved from 0.28939 to 0.28841, saving model to ./model/153-0.2884.hdf5\n",
            "\n",
            "Epoch 154: val_loss improved from 0.28841 to 0.28681, saving model to ./model/154-0.2868.hdf5\n",
            "\n",
            "Epoch 155: val_loss improved from 0.28681 to 0.28479, saving model to ./model/155-0.2848.hdf5\n",
            "\n",
            "Epoch 156: val_loss did not improve from 0.28479\n",
            "\n",
            "Epoch 157: val_loss improved from 0.28479 to 0.28330, saving model to ./model/157-0.2833.hdf5\n",
            "\n",
            "Epoch 158: val_loss improved from 0.28330 to 0.28118, saving model to ./model/158-0.2812.hdf5\n",
            "\n",
            "Epoch 159: val_loss improved from 0.28118 to 0.27924, saving model to ./model/159-0.2792.hdf5\n",
            "\n",
            "Epoch 160: val_loss improved from 0.27924 to 0.27697, saving model to ./model/160-0.2770.hdf5\n",
            "\n",
            "Epoch 161: val_loss did not improve from 0.27697\n",
            "\n",
            "Epoch 162: val_loss improved from 0.27697 to 0.27346, saving model to ./model/162-0.2735.hdf5\n",
            "\n",
            "Epoch 163: val_loss improved from 0.27346 to 0.27198, saving model to ./model/163-0.2720.hdf5\n",
            "\n",
            "Epoch 164: val_loss improved from 0.27198 to 0.26979, saving model to ./model/164-0.2698.hdf5\n",
            "\n",
            "Epoch 165: val_loss did not improve from 0.26979\n",
            "\n",
            "Epoch 166: val_loss improved from 0.26979 to 0.26897, saving model to ./model/166-0.2690.hdf5\n",
            "\n",
            "Epoch 167: val_loss improved from 0.26897 to 0.26604, saving model to ./model/167-0.2660.hdf5\n",
            "\n",
            "Epoch 168: val_loss did not improve from 0.26604\n",
            "\n",
            "Epoch 169: val_loss improved from 0.26604 to 0.26221, saving model to ./model/169-0.2622.hdf5\n",
            "\n",
            "Epoch 170: val_loss improved from 0.26221 to 0.26052, saving model to ./model/170-0.2605.hdf5\n",
            "\n",
            "Epoch 171: val_loss improved from 0.26052 to 0.25874, saving model to ./model/171-0.2587.hdf5\n",
            "\n",
            "Epoch 172: val_loss improved from 0.25874 to 0.25859, saving model to ./model/172-0.2586.hdf5\n",
            "\n",
            "Epoch 173: val_loss improved from 0.25859 to 0.25464, saving model to ./model/173-0.2546.hdf5\n",
            "\n",
            "Epoch 174: val_loss did not improve from 0.25464\n",
            "\n",
            "Epoch 175: val_loss improved from 0.25464 to 0.25157, saving model to ./model/175-0.2516.hdf5\n",
            "\n",
            "Epoch 176: val_loss did not improve from 0.25157\n",
            "\n",
            "Epoch 177: val_loss improved from 0.25157 to 0.25061, saving model to ./model/177-0.2506.hdf5\n",
            "\n",
            "Epoch 178: val_loss improved from 0.25061 to 0.24684, saving model to ./model/178-0.2468.hdf5\n",
            "\n",
            "Epoch 179: val_loss did not improve from 0.24684\n",
            "\n",
            "Epoch 180: val_loss improved from 0.24684 to 0.24381, saving model to ./model/180-0.2438.hdf5\n",
            "\n",
            "Epoch 181: val_loss did not improve from 0.24381\n",
            "\n",
            "Epoch 182: val_loss improved from 0.24381 to 0.24046, saving model to ./model/182-0.2405.hdf5\n",
            "\n",
            "Epoch 183: val_loss improved from 0.24046 to 0.23978, saving model to ./model/183-0.2398.hdf5\n",
            "\n",
            "Epoch 184: val_loss did not improve from 0.23978\n",
            "\n",
            "Epoch 185: val_loss improved from 0.23978 to 0.23718, saving model to ./model/185-0.2372.hdf5\n",
            "\n",
            "Epoch 186: val_loss improved from 0.23718 to 0.23633, saving model to ./model/186-0.2363.hdf5\n",
            "\n",
            "Epoch 187: val_loss improved from 0.23633 to 0.23614, saving model to ./model/187-0.2361.hdf5\n",
            "\n",
            "Epoch 188: val_loss improved from 0.23614 to 0.23148, saving model to ./model/188-0.2315.hdf5\n",
            "\n",
            "Epoch 189: val_loss improved from 0.23148 to 0.23073, saving model to ./model/189-0.2307.hdf5\n",
            "\n",
            "Epoch 190: val_loss improved from 0.23073 to 0.22784, saving model to ./model/190-0.2278.hdf5\n",
            "\n",
            "Epoch 191: val_loss did not improve from 0.22784\n",
            "\n",
            "Epoch 192: val_loss improved from 0.22784 to 0.22442, saving model to ./model/192-0.2244.hdf5\n",
            "\n",
            "Epoch 193: val_loss did not improve from 0.22442\n",
            "\n",
            "Epoch 194: val_loss did not improve from 0.22442\n",
            "\n",
            "Epoch 195: val_loss improved from 0.22442 to 0.22052, saving model to ./model/195-0.2205.hdf5\n",
            "\n",
            "Epoch 196: val_loss did not improve from 0.22052\n",
            "\n",
            "Epoch 197: val_loss improved from 0.22052 to 0.21934, saving model to ./model/197-0.2193.hdf5\n",
            "\n",
            "Epoch 198: val_loss improved from 0.21934 to 0.21666, saving model to ./model/198-0.2167.hdf5\n",
            "\n",
            "Epoch 199: val_loss did not improve from 0.21666\n",
            "\n",
            "Epoch 200: val_loss improved from 0.21666 to 0.21370, saving model to ./model/200-0.2137.hdf5\n",
            "\n",
            "Epoch 201: val_loss did not improve from 0.21370\n",
            "\n",
            "Epoch 202: val_loss improved from 0.21370 to 0.21134, saving model to ./model/202-0.2113.hdf5\n",
            "\n",
            "Epoch 203: val_loss did not improve from 0.21134\n",
            "\n",
            "Epoch 204: val_loss improved from 0.21134 to 0.21079, saving model to ./model/204-0.2108.hdf5\n",
            "\n",
            "Epoch 205: val_loss improved from 0.21079 to 0.20689, saving model to ./model/205-0.2069.hdf5\n",
            "\n",
            "Epoch 206: val_loss did not improve from 0.20689\n",
            "\n",
            "Epoch 207: val_loss did not improve from 0.20689\n",
            "\n",
            "Epoch 208: val_loss improved from 0.20689 to 0.20353, saving model to ./model/208-0.2035.hdf5\n",
            "\n",
            "Epoch 209: val_loss improved from 0.20353 to 0.20170, saving model to ./model/209-0.2017.hdf5\n",
            "\n",
            "Epoch 210: val_loss did not improve from 0.20170\n",
            "\n",
            "Epoch 211: val_loss improved from 0.20170 to 0.20115, saving model to ./model/211-0.2011.hdf5\n",
            "\n",
            "Epoch 212: val_loss did not improve from 0.20115\n",
            "\n",
            "Epoch 213: val_loss did not improve from 0.20115\n",
            "\n",
            "Epoch 214: val_loss did not improve from 0.20115\n",
            "\n",
            "Epoch 215: val_loss improved from 0.20115 to 0.19661, saving model to ./model/215-0.1966.hdf5\n",
            "\n",
            "Epoch 216: val_loss did not improve from 0.19661\n",
            "\n",
            "Epoch 217: val_loss did not improve from 0.19661\n",
            "\n",
            "Epoch 218: val_loss improved from 0.19661 to 0.19321, saving model to ./model/218-0.1932.hdf5\n",
            "\n",
            "Epoch 219: val_loss improved from 0.19321 to 0.19269, saving model to ./model/219-0.1927.hdf5\n",
            "\n",
            "Epoch 220: val_loss improved from 0.19269 to 0.19243, saving model to ./model/220-0.1924.hdf5\n",
            "\n",
            "Epoch 221: val_loss did not improve from 0.19243\n",
            "\n",
            "Epoch 222: val_loss improved from 0.19243 to 0.18857, saving model to ./model/222-0.1886.hdf5\n",
            "\n",
            "Epoch 223: val_loss did not improve from 0.18857\n",
            "\n",
            "Epoch 224: val_loss did not improve from 0.18857\n",
            "\n",
            "Epoch 225: val_loss improved from 0.18857 to 0.18654, saving model to ./model/225-0.1865.hdf5\n",
            "\n",
            "Epoch 226: val_loss improved from 0.18654 to 0.18582, saving model to ./model/226-0.1858.hdf5\n",
            "\n",
            "Epoch 227: val_loss did not improve from 0.18582\n",
            "\n",
            "Epoch 228: val_loss improved from 0.18582 to 0.18473, saving model to ./model/228-0.1847.hdf5\n",
            "\n",
            "Epoch 229: val_loss improved from 0.18473 to 0.18289, saving model to ./model/229-0.1829.hdf5\n",
            "\n",
            "Epoch 230: val_loss improved from 0.18289 to 0.18166, saving model to ./model/230-0.1817.hdf5\n",
            "\n",
            "Epoch 231: val_loss did not improve from 0.18166\n",
            "\n",
            "Epoch 232: val_loss did not improve from 0.18166\n",
            "\n",
            "Epoch 233: val_loss improved from 0.18166 to 0.17980, saving model to ./model/233-0.1798.hdf5\n",
            "\n",
            "Epoch 234: val_loss did not improve from 0.17980\n",
            "\n",
            "Epoch 235: val_loss improved from 0.17980 to 0.17783, saving model to ./model/235-0.1778.hdf5\n",
            "\n",
            "Epoch 236: val_loss improved from 0.17783 to 0.17684, saving model to ./model/236-0.1768.hdf5\n",
            "\n",
            "Epoch 237: val_loss improved from 0.17684 to 0.17482, saving model to ./model/237-0.1748.hdf5\n",
            "\n",
            "Epoch 238: val_loss improved from 0.17482 to 0.17384, saving model to ./model/238-0.1738.hdf5\n",
            "\n",
            "Epoch 239: val_loss did not improve from 0.17384\n",
            "\n",
            "Epoch 240: val_loss improved from 0.17384 to 0.17254, saving model to ./model/240-0.1725.hdf5\n",
            "\n",
            "Epoch 241: val_loss improved from 0.17254 to 0.17175, saving model to ./model/241-0.1718.hdf5\n",
            "\n",
            "Epoch 242: val_loss did not improve from 0.17175\n",
            "\n",
            "Epoch 243: val_loss did not improve from 0.17175\n",
            "\n",
            "Epoch 244: val_loss did not improve from 0.17175\n",
            "\n",
            "Epoch 245: val_loss improved from 0.17175 to 0.16877, saving model to ./model/245-0.1688.hdf5\n",
            "\n",
            "Epoch 246: val_loss did not improve from 0.16877\n",
            "\n",
            "Epoch 247: val_loss did not improve from 0.16877\n",
            "\n",
            "Epoch 248: val_loss did not improve from 0.16877\n",
            "\n",
            "Epoch 249: val_loss improved from 0.16877 to 0.16808, saving model to ./model/249-0.1681.hdf5\n",
            "\n",
            "Epoch 250: val_loss improved from 0.16808 to 0.16554, saving model to ./model/250-0.1655.hdf5\n",
            "\n",
            "Epoch 251: val_loss improved from 0.16554 to 0.16481, saving model to ./model/251-0.1648.hdf5\n",
            "\n",
            "Epoch 252: val_loss did not improve from 0.16481\n",
            "\n",
            "Epoch 253: val_loss improved from 0.16481 to 0.16377, saving model to ./model/253-0.1638.hdf5\n",
            "\n",
            "Epoch 254: val_loss improved from 0.16377 to 0.16312, saving model to ./model/254-0.1631.hdf5\n",
            "\n",
            "Epoch 255: val_loss did not improve from 0.16312\n",
            "\n",
            "Epoch 256: val_loss improved from 0.16312 to 0.16264, saving model to ./model/256-0.1626.hdf5\n",
            "\n",
            "Epoch 257: val_loss did not improve from 0.16264\n",
            "\n",
            "Epoch 258: val_loss did not improve from 0.16264\n",
            "\n",
            "Epoch 259: val_loss improved from 0.16264 to 0.15849, saving model to ./model/259-0.1585.hdf5\n",
            "\n",
            "Epoch 260: val_loss did not improve from 0.15849\n",
            "\n",
            "Epoch 261: val_loss did not improve from 0.15849\n",
            "\n",
            "Epoch 262: val_loss improved from 0.15849 to 0.15758, saving model to ./model/262-0.1576.hdf5\n",
            "\n",
            "Epoch 263: val_loss did not improve from 0.15758\n",
            "\n",
            "Epoch 264: val_loss did not improve from 0.15758\n",
            "\n",
            "Epoch 265: val_loss improved from 0.15758 to 0.15584, saving model to ./model/265-0.1558.hdf5\n",
            "\n",
            "Epoch 266: val_loss did not improve from 0.15584\n",
            "\n",
            "Epoch 267: val_loss improved from 0.15584 to 0.15397, saving model to ./model/267-0.1540.hdf5\n",
            "\n",
            "Epoch 268: val_loss did not improve from 0.15397\n",
            "\n",
            "Epoch 269: val_loss did not improve from 0.15397\n",
            "\n",
            "Epoch 270: val_loss improved from 0.15397 to 0.15283, saving model to ./model/270-0.1528.hdf5\n",
            "\n",
            "Epoch 271: val_loss improved from 0.15283 to 0.15272, saving model to ./model/271-0.1527.hdf5\n",
            "\n",
            "Epoch 272: val_loss did not improve from 0.15272\n",
            "\n",
            "Epoch 273: val_loss improved from 0.15272 to 0.15003, saving model to ./model/273-0.1500.hdf5\n",
            "\n",
            "Epoch 274: val_loss did not improve from 0.15003\n",
            "\n",
            "Epoch 275: val_loss did not improve from 0.15003\n",
            "\n",
            "Epoch 276: val_loss did not improve from 0.15003\n",
            "\n",
            "Epoch 277: val_loss did not improve from 0.15003\n",
            "\n",
            "Epoch 278: val_loss improved from 0.15003 to 0.14854, saving model to ./model/278-0.1485.hdf5\n",
            "\n",
            "Epoch 279: val_loss did not improve from 0.14854\n",
            "\n",
            "Epoch 280: val_loss improved from 0.14854 to 0.14637, saving model to ./model/280-0.1464.hdf5\n",
            "\n",
            "Epoch 281: val_loss did not improve from 0.14637\n",
            "\n",
            "Epoch 282: val_loss did not improve from 0.14637\n",
            "\n",
            "Epoch 283: val_loss did not improve from 0.14637\n",
            "\n",
            "Epoch 284: val_loss did not improve from 0.14637\n",
            "\n",
            "Epoch 285: val_loss improved from 0.14637 to 0.14477, saving model to ./model/285-0.1448.hdf5\n",
            "\n",
            "Epoch 286: val_loss did not improve from 0.14477\n",
            "\n",
            "Epoch 287: val_loss improved from 0.14477 to 0.14458, saving model to ./model/287-0.1446.hdf5\n",
            "\n",
            "Epoch 288: val_loss did not improve from 0.14458\n",
            "\n",
            "Epoch 289: val_loss improved from 0.14458 to 0.14243, saving model to ./model/289-0.1424.hdf5\n",
            "\n",
            "Epoch 290: val_loss did not improve from 0.14243\n",
            "\n",
            "Epoch 291: val_loss did not improve from 0.14243\n",
            "\n",
            "Epoch 292: val_loss improved from 0.14243 to 0.14048, saving model to ./model/292-0.1405.hdf5\n",
            "\n",
            "Epoch 293: val_loss improved from 0.14048 to 0.13998, saving model to ./model/293-0.1400.hdf5\n",
            "\n",
            "Epoch 294: val_loss did not improve from 0.13998\n",
            "\n",
            "Epoch 295: val_loss improved from 0.13998 to 0.13970, saving model to ./model/295-0.1397.hdf5\n",
            "\n",
            "Epoch 296: val_loss improved from 0.13970 to 0.13883, saving model to ./model/296-0.1388.hdf5\n",
            "\n",
            "Epoch 297: val_loss did not improve from 0.13883\n",
            "\n",
            "Epoch 298: val_loss improved from 0.13883 to 0.13820, saving model to ./model/298-0.1382.hdf5\n",
            "\n",
            "Epoch 299: val_loss did not improve from 0.13820\n",
            "\n",
            "Epoch 300: val_loss improved from 0.13820 to 0.13613, saving model to ./model/300-0.1361.hdf5\n",
            "\n",
            "Epoch 301: val_loss improved from 0.13613 to 0.13605, saving model to ./model/301-0.1361.hdf5\n",
            "\n",
            "Epoch 302: val_loss improved from 0.13605 to 0.13557, saving model to ./model/302-0.1356.hdf5\n",
            "\n",
            "Epoch 303: val_loss did not improve from 0.13557\n",
            "\n",
            "Epoch 304: val_loss did not improve from 0.13557\n",
            "\n",
            "Epoch 305: val_loss did not improve from 0.13557\n",
            "\n",
            "Epoch 306: val_loss did not improve from 0.13557\n",
            "\n",
            "Epoch 307: val_loss did not improve from 0.13557\n",
            "\n",
            "Epoch 308: val_loss did not improve from 0.13557\n",
            "\n",
            "Epoch 309: val_loss did not improve from 0.13557\n",
            "\n",
            "Epoch 310: val_loss improved from 0.13557 to 0.13284, saving model to ./model/310-0.1328.hdf5\n",
            "\n",
            "Epoch 311: val_loss improved from 0.13284 to 0.13264, saving model to ./model/311-0.1326.hdf5\n",
            "\n",
            "Epoch 312: val_loss improved from 0.13264 to 0.13249, saving model to ./model/312-0.1325.hdf5\n",
            "\n",
            "Epoch 313: val_loss improved from 0.13249 to 0.13152, saving model to ./model/313-0.1315.hdf5\n",
            "\n",
            "Epoch 314: val_loss improved from 0.13152 to 0.13126, saving model to ./model/314-0.1313.hdf5\n",
            "\n",
            "Epoch 315: val_loss improved from 0.13126 to 0.13032, saving model to ./model/315-0.1303.hdf5\n",
            "\n",
            "Epoch 316: val_loss did not improve from 0.13032\n",
            "\n",
            "Epoch 317: val_loss improved from 0.13032 to 0.13006, saving model to ./model/317-0.1301.hdf5\n",
            "\n",
            "Epoch 318: val_loss did not improve from 0.13006\n",
            "\n",
            "Epoch 319: val_loss improved from 0.13006 to 0.12904, saving model to ./model/319-0.1290.hdf5\n",
            "\n",
            "Epoch 320: val_loss did not improve from 0.12904\n",
            "\n",
            "Epoch 321: val_loss did not improve from 0.12904\n",
            "\n",
            "Epoch 322: val_loss did not improve from 0.12904\n",
            "\n",
            "Epoch 323: val_loss did not improve from 0.12904\n",
            "\n",
            "Epoch 324: val_loss improved from 0.12904 to 0.12805, saving model to ./model/324-0.1281.hdf5\n",
            "\n",
            "Epoch 325: val_loss did not improve from 0.12805\n",
            "\n",
            "Epoch 326: val_loss did not improve from 0.12805\n",
            "\n",
            "Epoch 327: val_loss improved from 0.12805 to 0.12697, saving model to ./model/327-0.1270.hdf5\n",
            "\n",
            "Epoch 328: val_loss did not improve from 0.12697\n",
            "\n",
            "Epoch 329: val_loss did not improve from 0.12697\n",
            "\n",
            "Epoch 330: val_loss did not improve from 0.12697\n",
            "\n",
            "Epoch 331: val_loss did not improve from 0.12697\n",
            "\n",
            "Epoch 332: val_loss improved from 0.12697 to 0.12374, saving model to ./model/332-0.1237.hdf5\n",
            "\n",
            "Epoch 333: val_loss did not improve from 0.12374\n",
            "\n",
            "Epoch 334: val_loss did not improve from 0.12374\n",
            "\n",
            "Epoch 335: val_loss did not improve from 0.12374\n",
            "\n",
            "Epoch 336: val_loss did not improve from 0.12374\n",
            "\n",
            "Epoch 337: val_loss did not improve from 0.12374\n",
            "\n",
            "Epoch 338: val_loss did not improve from 0.12374\n",
            "\n",
            "Epoch 339: val_loss did not improve from 0.12374\n",
            "\n",
            "Epoch 340: val_loss did not improve from 0.12374\n",
            "\n",
            "Epoch 341: val_loss improved from 0.12374 to 0.12155, saving model to ./model/341-0.1216.hdf5\n",
            "\n",
            "Epoch 342: val_loss did not improve from 0.12155\n",
            "\n",
            "Epoch 343: val_loss did not improve from 0.12155\n",
            "\n",
            "Epoch 344: val_loss did not improve from 0.12155\n",
            "\n",
            "Epoch 345: val_loss improved from 0.12155 to 0.12053, saving model to ./model/345-0.1205.hdf5\n",
            "\n",
            "Epoch 346: val_loss did not improve from 0.12053\n",
            "\n",
            "Epoch 347: val_loss did not improve from 0.12053\n",
            "\n",
            "Epoch 348: val_loss did not improve from 0.12053\n",
            "\n",
            "Epoch 349: val_loss did not improve from 0.12053\n",
            "\n",
            "Epoch 350: val_loss did not improve from 0.12053\n",
            "\n",
            "Epoch 351: val_loss did not improve from 0.12053\n",
            "\n",
            "Epoch 352: val_loss did not improve from 0.12053\n",
            "\n",
            "Epoch 353: val_loss did not improve from 0.12053\n",
            "\n",
            "Epoch 354: val_loss did not improve from 0.12053\n",
            "\n",
            "Epoch 355: val_loss improved from 0.12053 to 0.11873, saving model to ./model/355-0.1187.hdf5\n",
            "\n",
            "Epoch 356: val_loss did not improve from 0.11873\n",
            "\n",
            "Epoch 357: val_loss did not improve from 0.11873\n",
            "\n",
            "Epoch 358: val_loss improved from 0.11873 to 0.11795, saving model to ./model/358-0.1179.hdf5\n",
            "\n",
            "Epoch 359: val_loss did not improve from 0.11795\n",
            "\n",
            "Epoch 360: val_loss did not improve from 0.11795\n",
            "\n",
            "Epoch 361: val_loss did not improve from 0.11795\n",
            "\n",
            "Epoch 362: val_loss improved from 0.11795 to 0.11790, saving model to ./model/362-0.1179.hdf5\n",
            "\n",
            "Epoch 363: val_loss did not improve from 0.11790\n",
            "\n",
            "Epoch 364: val_loss did not improve from 0.11790\n",
            "\n",
            "Epoch 365: val_loss did not improve from 0.11790\n",
            "\n",
            "Epoch 366: val_loss did not improve from 0.11790\n",
            "\n",
            "Epoch 367: val_loss did not improve from 0.11790\n",
            "\n",
            "Epoch 368: val_loss improved from 0.11790 to 0.11578, saving model to ./model/368-0.1158.hdf5\n",
            "\n",
            "Epoch 369: val_loss did not improve from 0.11578\n",
            "\n",
            "Epoch 370: val_loss did not improve from 0.11578\n",
            "\n",
            "Epoch 371: val_loss improved from 0.11578 to 0.11474, saving model to ./model/371-0.1147.hdf5\n",
            "\n",
            "Epoch 372: val_loss did not improve from 0.11474\n",
            "\n",
            "Epoch 373: val_loss did not improve from 0.11474\n",
            "\n",
            "Epoch 374: val_loss did not improve from 0.11474\n",
            "\n",
            "Epoch 375: val_loss improved from 0.11474 to 0.11457, saving model to ./model/375-0.1146.hdf5\n",
            "\n",
            "Epoch 376: val_loss improved from 0.11457 to 0.11253, saving model to ./model/376-0.1125.hdf5\n",
            "\n",
            "Epoch 377: val_loss did not improve from 0.11253\n",
            "\n",
            "Epoch 378: val_loss did not improve from 0.11253\n",
            "\n",
            "Epoch 379: val_loss did not improve from 0.11253\n",
            "\n",
            "Epoch 380: val_loss did not improve from 0.11253\n",
            "\n",
            "Epoch 381: val_loss did not improve from 0.11253\n",
            "\n",
            "Epoch 382: val_loss did not improve from 0.11253\n",
            "\n",
            "Epoch 383: val_loss improved from 0.11253 to 0.11206, saving model to ./model/383-0.1121.hdf5\n",
            "\n",
            "Epoch 384: val_loss did not improve from 0.11206\n",
            "\n",
            "Epoch 385: val_loss did not improve from 0.11206\n",
            "\n",
            "Epoch 386: val_loss improved from 0.11206 to 0.11123, saving model to ./model/386-0.1112.hdf5\n",
            "\n",
            "Epoch 387: val_loss did not improve from 0.11123\n",
            "\n",
            "Epoch 388: val_loss did not improve from 0.11123\n",
            "\n",
            "Epoch 389: val_loss did not improve from 0.11123\n",
            "\n",
            "Epoch 390: val_loss improved from 0.11123 to 0.11040, saving model to ./model/390-0.1104.hdf5\n",
            "\n",
            "Epoch 391: val_loss did not improve from 0.11040\n",
            "\n",
            "Epoch 392: val_loss did not improve from 0.11040\n",
            "\n",
            "Epoch 393: val_loss did not improve from 0.11040\n",
            "\n",
            "Epoch 394: val_loss did not improve from 0.11040\n",
            "\n",
            "Epoch 395: val_loss improved from 0.11040 to 0.11009, saving model to ./model/395-0.1101.hdf5\n",
            "\n",
            "Epoch 396: val_loss did not improve from 0.11009\n",
            "\n",
            "Epoch 397: val_loss did not improve from 0.11009\n",
            "\n",
            "Epoch 398: val_loss did not improve from 0.11009\n",
            "\n",
            "Epoch 399: val_loss did not improve from 0.11009\n",
            "\n",
            "Epoch 400: val_loss did not improve from 0.11009\n",
            "\n",
            "Epoch 401: val_loss improved from 0.11009 to 0.10948, saving model to ./model/401-0.1095.hdf5\n",
            "\n",
            "Epoch 402: val_loss did not improve from 0.10948\n",
            "\n",
            "Epoch 403: val_loss did not improve from 0.10948\n",
            "\n",
            "Epoch 404: val_loss did not improve from 0.10948\n",
            "\n",
            "Epoch 405: val_loss did not improve from 0.10948\n",
            "\n",
            "Epoch 406: val_loss improved from 0.10948 to 0.10867, saving model to ./model/406-0.1087.hdf5\n",
            "\n",
            "Epoch 407: val_loss improved from 0.10867 to 0.10810, saving model to ./model/407-0.1081.hdf5\n",
            "\n",
            "Epoch 408: val_loss did not improve from 0.10810\n",
            "\n",
            "Epoch 409: val_loss did not improve from 0.10810\n",
            "\n",
            "Epoch 410: val_loss did not improve from 0.10810\n",
            "\n",
            "Epoch 411: val_loss improved from 0.10810 to 0.10760, saving model to ./model/411-0.1076.hdf5\n",
            "\n",
            "Epoch 412: val_loss did not improve from 0.10760\n",
            "\n",
            "Epoch 413: val_loss did not improve from 0.10760\n",
            "\n",
            "Epoch 414: val_loss did not improve from 0.10760\n",
            "\n",
            "Epoch 415: val_loss did not improve from 0.10760\n",
            "\n",
            "Epoch 416: val_loss did not improve from 0.10760\n",
            "\n",
            "Epoch 417: val_loss did not improve from 0.10760\n",
            "\n",
            "Epoch 418: val_loss did not improve from 0.10760\n",
            "\n",
            "Epoch 419: val_loss did not improve from 0.10760\n",
            "\n",
            "Epoch 420: val_loss did not improve from 0.10760\n",
            "\n",
            "Epoch 421: val_loss improved from 0.10760 to 0.10653, saving model to ./model/421-0.1065.hdf5\n",
            "\n",
            "Epoch 422: val_loss improved from 0.10653 to 0.10607, saving model to ./model/422-0.1061.hdf5\n",
            "\n",
            "Epoch 423: val_loss did not improve from 0.10607\n",
            "\n",
            "Epoch 424: val_loss did not improve from 0.10607\n",
            "\n",
            "Epoch 425: val_loss did not improve from 0.10607\n",
            "\n",
            "Epoch 426: val_loss did not improve from 0.10607\n",
            "\n",
            "Epoch 427: val_loss did not improve from 0.10607\n",
            "\n",
            "Epoch 428: val_loss did not improve from 0.10607\n",
            "\n",
            "Epoch 429: val_loss did not improve from 0.10607\n",
            "\n",
            "Epoch 430: val_loss did not improve from 0.10607\n",
            "\n",
            "Epoch 431: val_loss did not improve from 0.10607\n",
            "\n",
            "Epoch 432: val_loss did not improve from 0.10607\n",
            "\n",
            "Epoch 433: val_loss did not improve from 0.10607\n",
            "\n",
            "Epoch 434: val_loss did not improve from 0.10607\n",
            "\n",
            "Epoch 435: val_loss did not improve from 0.10607\n",
            "\n",
            "Epoch 436: val_loss did not improve from 0.10607\n",
            "\n",
            "Epoch 437: val_loss improved from 0.10607 to 0.10570, saving model to ./model/437-0.1057.hdf5\n",
            "\n",
            "Epoch 438: val_loss improved from 0.10570 to 0.10559, saving model to ./model/438-0.1056.hdf5\n",
            "\n",
            "Epoch 439: val_loss did not improve from 0.10559\n",
            "\n",
            "Epoch 440: val_loss improved from 0.10559 to 0.10283, saving model to ./model/440-0.1028.hdf5\n",
            "\n",
            "Epoch 441: val_loss did not improve from 0.10283\n",
            "\n",
            "Epoch 442: val_loss did not improve from 0.10283\n",
            "\n",
            "Epoch 443: val_loss did not improve from 0.10283\n",
            "\n",
            "Epoch 444: val_loss did not improve from 0.10283\n",
            "\n",
            "Epoch 445: val_loss improved from 0.10283 to 0.10257, saving model to ./model/445-0.1026.hdf5\n",
            "\n",
            "Epoch 446: val_loss did not improve from 0.10257\n",
            "\n",
            "Epoch 447: val_loss did not improve from 0.10257\n",
            "\n",
            "Epoch 448: val_loss did not improve from 0.10257\n",
            "\n",
            "Epoch 449: val_loss did not improve from 0.10257\n",
            "\n",
            "Epoch 450: val_loss did not improve from 0.10257\n",
            "\n",
            "Epoch 451: val_loss did not improve from 0.10257\n",
            "\n",
            "Epoch 452: val_loss did not improve from 0.10257\n",
            "\n",
            "Epoch 453: val_loss did not improve from 0.10257\n",
            "\n",
            "Epoch 454: val_loss did not improve from 0.10257\n",
            "\n",
            "Epoch 455: val_loss improved from 0.10257 to 0.10247, saving model to ./model/455-0.1025.hdf5\n",
            "\n",
            "Epoch 456: val_loss improved from 0.10247 to 0.10157, saving model to ./model/456-0.1016.hdf5\n",
            "\n",
            "Epoch 457: val_loss improved from 0.10157 to 0.10078, saving model to ./model/457-0.1008.hdf5\n",
            "\n",
            "Epoch 458: val_loss did not improve from 0.10078\n",
            "\n",
            "Epoch 459: val_loss did not improve from 0.10078\n",
            "\n",
            "Epoch 460: val_loss did not improve from 0.10078\n",
            "\n",
            "Epoch 461: val_loss did not improve from 0.10078\n",
            "\n",
            "Epoch 462: val_loss improved from 0.10078 to 0.10046, saving model to ./model/462-0.1005.hdf5\n",
            "\n",
            "Epoch 463: val_loss did not improve from 0.10046\n",
            "\n",
            "Epoch 464: val_loss did not improve from 0.10046\n",
            "\n",
            "Epoch 465: val_loss did not improve from 0.10046\n",
            "\n",
            "Epoch 466: val_loss improved from 0.10046 to 0.10024, saving model to ./model/466-0.1002.hdf5\n",
            "\n",
            "Epoch 467: val_loss did not improve from 0.10024\n",
            "\n",
            "Epoch 468: val_loss did not improve from 0.10024\n",
            "\n",
            "Epoch 469: val_loss did not improve from 0.10024\n",
            "\n",
            "Epoch 470: val_loss improved from 0.10024 to 0.09872, saving model to ./model/470-0.0987.hdf5\n",
            "\n",
            "Epoch 471: val_loss did not improve from 0.09872\n",
            "\n",
            "Epoch 472: val_loss did not improve from 0.09872\n",
            "\n",
            "Epoch 473: val_loss did not improve from 0.09872\n",
            "\n",
            "Epoch 474: val_loss improved from 0.09872 to 0.09783, saving model to ./model/474-0.0978.hdf5\n",
            "\n",
            "Epoch 475: val_loss improved from 0.09783 to 0.09772, saving model to ./model/475-0.0977.hdf5\n",
            "\n",
            "Epoch 476: val_loss improved from 0.09772 to 0.09695, saving model to ./model/476-0.0970.hdf5\n",
            "\n",
            "Epoch 477: val_loss did not improve from 0.09695\n",
            "\n",
            "Epoch 478: val_loss did not improve from 0.09695\n",
            "\n",
            "Epoch 479: val_loss did not improve from 0.09695\n",
            "\n",
            "Epoch 480: val_loss did not improve from 0.09695\n",
            "\n",
            "Epoch 481: val_loss did not improve from 0.09695\n",
            "\n",
            "Epoch 482: val_loss did not improve from 0.09695\n",
            "\n",
            "Epoch 483: val_loss did not improve from 0.09695\n",
            "\n",
            "Epoch 484: val_loss did not improve from 0.09695\n",
            "\n",
            "Epoch 485: val_loss did not improve from 0.09695\n",
            "\n",
            "Epoch 486: val_loss did not improve from 0.09695\n",
            "\n",
            "Epoch 487: val_loss did not improve from 0.09695\n",
            "\n",
            "Epoch 488: val_loss did not improve from 0.09695\n",
            "\n",
            "Epoch 489: val_loss improved from 0.09695 to 0.09654, saving model to ./model/489-0.0965.hdf5\n",
            "\n",
            "Epoch 490: val_loss did not improve from 0.09654\n",
            "\n",
            "Epoch 491: val_loss did not improve from 0.09654\n",
            "\n",
            "Epoch 492: val_loss did not improve from 0.09654\n",
            "\n",
            "Epoch 493: val_loss improved from 0.09654 to 0.09593, saving model to ./model/493-0.0959.hdf5\n",
            "\n",
            "Epoch 494: val_loss did not improve from 0.09593\n",
            "\n",
            "Epoch 495: val_loss did not improve from 0.09593\n",
            "\n",
            "Epoch 496: val_loss did not improve from 0.09593\n",
            "\n",
            "Epoch 497: val_loss did not improve from 0.09593\n",
            "\n",
            "Epoch 498: val_loss improved from 0.09593 to 0.09554, saving model to ./model/498-0.0955.hdf5\n",
            "\n",
            "Epoch 499: val_loss did not improve from 0.09554\n",
            "\n",
            "Epoch 500: val_loss did not improve from 0.09554\n",
            "\n",
            "Epoch 501: val_loss did not improve from 0.09554\n",
            "\n",
            "Epoch 502: val_loss did not improve from 0.09554\n",
            "\n",
            "Epoch 503: val_loss did not improve from 0.09554\n",
            "\n",
            "Epoch 504: val_loss improved from 0.09554 to 0.09433, saving model to ./model/504-0.0943.hdf5\n",
            "\n",
            "Epoch 505: val_loss did not improve from 0.09433\n",
            "\n",
            "Epoch 506: val_loss did not improve from 0.09433\n",
            "\n",
            "Epoch 507: val_loss improved from 0.09433 to 0.09312, saving model to ./model/507-0.0931.hdf5\n",
            "\n",
            "Epoch 508: val_loss improved from 0.09312 to 0.09270, saving model to ./model/508-0.0927.hdf5\n",
            "\n",
            "Epoch 509: val_loss did not improve from 0.09270\n",
            "\n",
            "Epoch 510: val_loss did not improve from 0.09270\n",
            "\n",
            "Epoch 511: val_loss did not improve from 0.09270\n",
            "\n",
            "Epoch 512: val_loss did not improve from 0.09270\n",
            "\n",
            "Epoch 513: val_loss improved from 0.09270 to 0.09266, saving model to ./model/513-0.0927.hdf5\n",
            "\n",
            "Epoch 514: val_loss did not improve from 0.09266\n",
            "\n",
            "Epoch 515: val_loss did not improve from 0.09266\n",
            "\n",
            "Epoch 516: val_loss did not improve from 0.09266\n",
            "\n",
            "Epoch 517: val_loss improved from 0.09266 to 0.09148, saving model to ./model/517-0.0915.hdf5\n",
            "\n",
            "Epoch 518: val_loss did not improve from 0.09148\n",
            "\n",
            "Epoch 519: val_loss did not improve from 0.09148\n",
            "\n",
            "Epoch 520: val_loss did not improve from 0.09148\n",
            "\n",
            "Epoch 521: val_loss did not improve from 0.09148\n",
            "\n",
            "Epoch 522: val_loss did not improve from 0.09148\n",
            "\n",
            "Epoch 523: val_loss did not improve from 0.09148\n",
            "\n",
            "Epoch 524: val_loss did not improve from 0.09148\n",
            "\n",
            "Epoch 525: val_loss did not improve from 0.09148\n",
            "\n",
            "Epoch 526: val_loss did not improve from 0.09148\n",
            "\n",
            "Epoch 527: val_loss did not improve from 0.09148\n",
            "\n",
            "Epoch 528: val_loss did not improve from 0.09148\n",
            "\n",
            "Epoch 529: val_loss did not improve from 0.09148\n",
            "\n",
            "Epoch 530: val_loss did not improve from 0.09148\n",
            "\n",
            "Epoch 531: val_loss did not improve from 0.09148\n",
            "\n",
            "Epoch 532: val_loss did not improve from 0.09148\n",
            "\n",
            "Epoch 533: val_loss did not improve from 0.09148\n",
            "\n",
            "Epoch 534: val_loss did not improve from 0.09148\n",
            "\n",
            "Epoch 535: val_loss did not improve from 0.09148\n",
            "\n",
            "Epoch 536: val_loss did not improve from 0.09148\n",
            "\n",
            "Epoch 537: val_loss did not improve from 0.09148\n",
            "\n",
            "Epoch 538: val_loss did not improve from 0.09148\n",
            "\n",
            "Epoch 539: val_loss did not improve from 0.09148\n",
            "\n",
            "Epoch 540: val_loss did not improve from 0.09148\n",
            "\n",
            "Epoch 541: val_loss did not improve from 0.09148\n",
            "\n",
            "Epoch 542: val_loss did not improve from 0.09148\n",
            "\n",
            "Epoch 543: val_loss did not improve from 0.09148\n",
            "\n",
            "Epoch 544: val_loss did not improve from 0.09148\n",
            "\n",
            "Epoch 545: val_loss did not improve from 0.09148\n",
            "\n",
            "Epoch 546: val_loss did not improve from 0.09148\n",
            "\n",
            "Epoch 547: val_loss did not improve from 0.09148\n",
            "\n",
            "Epoch 548: val_loss improved from 0.09148 to 0.08886, saving model to ./model/548-0.0889.hdf5\n",
            "\n",
            "Epoch 549: val_loss did not improve from 0.08886\n",
            "\n",
            "Epoch 550: val_loss did not improve from 0.08886\n",
            "\n",
            "Epoch 551: val_loss did not improve from 0.08886\n",
            "\n",
            "Epoch 552: val_loss did not improve from 0.08886\n",
            "\n",
            "Epoch 553: val_loss did not improve from 0.08886\n",
            "\n",
            "Epoch 554: val_loss did not improve from 0.08886\n",
            "\n",
            "Epoch 555: val_loss did not improve from 0.08886\n",
            "\n",
            "Epoch 556: val_loss did not improve from 0.08886\n",
            "\n",
            "Epoch 557: val_loss did not improve from 0.08886\n",
            "\n",
            "Epoch 558: val_loss did not improve from 0.08886\n",
            "\n",
            "Epoch 559: val_loss did not improve from 0.08886\n",
            "\n",
            "Epoch 560: val_loss did not improve from 0.08886\n",
            "\n",
            "Epoch 561: val_loss improved from 0.08886 to 0.08768, saving model to ./model/561-0.0877.hdf5\n",
            "\n",
            "Epoch 562: val_loss improved from 0.08768 to 0.08671, saving model to ./model/562-0.0867.hdf5\n",
            "\n",
            "Epoch 563: val_loss did not improve from 0.08671\n",
            "\n",
            "Epoch 564: val_loss did not improve from 0.08671\n",
            "\n",
            "Epoch 565: val_loss did not improve from 0.08671\n",
            "\n",
            "Epoch 566: val_loss did not improve from 0.08671\n",
            "\n",
            "Epoch 567: val_loss did not improve from 0.08671\n",
            "\n",
            "Epoch 568: val_loss did not improve from 0.08671\n",
            "\n",
            "Epoch 569: val_loss did not improve from 0.08671\n",
            "\n",
            "Epoch 570: val_loss did not improve from 0.08671\n",
            "\n",
            "Epoch 571: val_loss did not improve from 0.08671\n",
            "\n",
            "Epoch 572: val_loss did not improve from 0.08671\n",
            "\n",
            "Epoch 573: val_loss did not improve from 0.08671\n",
            "\n",
            "Epoch 574: val_loss did not improve from 0.08671\n",
            "\n",
            "Epoch 575: val_loss did not improve from 0.08671\n",
            "\n",
            "Epoch 576: val_loss did not improve from 0.08671\n",
            "\n",
            "Epoch 577: val_loss did not improve from 0.08671\n",
            "\n",
            "Epoch 578: val_loss did not improve from 0.08671\n",
            "\n",
            "Epoch 579: val_loss did not improve from 0.08671\n",
            "\n",
            "Epoch 580: val_loss did not improve from 0.08671\n",
            "\n",
            "Epoch 581: val_loss improved from 0.08671 to 0.08643, saving model to ./model/581-0.0864.hdf5\n",
            "\n",
            "Epoch 582: val_loss did not improve from 0.08643\n",
            "\n",
            "Epoch 583: val_loss did not improve from 0.08643\n",
            "\n",
            "Epoch 584: val_loss did not improve from 0.08643\n",
            "\n",
            "Epoch 585: val_loss did not improve from 0.08643\n",
            "\n",
            "Epoch 586: val_loss did not improve from 0.08643\n",
            "\n",
            "Epoch 587: val_loss did not improve from 0.08643\n",
            "\n",
            "Epoch 588: val_loss did not improve from 0.08643\n",
            "\n",
            "Epoch 589: val_loss did not improve from 0.08643\n",
            "\n",
            "Epoch 590: val_loss did not improve from 0.08643\n",
            "\n",
            "Epoch 591: val_loss did not improve from 0.08643\n",
            "\n",
            "Epoch 592: val_loss did not improve from 0.08643\n",
            "\n",
            "Epoch 593: val_loss did not improve from 0.08643\n",
            "\n",
            "Epoch 594: val_loss did not improve from 0.08643\n",
            "\n",
            "Epoch 595: val_loss did not improve from 0.08643\n",
            "\n",
            "Epoch 596: val_loss improved from 0.08643 to 0.08554, saving model to ./model/596-0.0855.hdf5\n",
            "\n",
            "Epoch 597: val_loss did not improve from 0.08554\n",
            "\n",
            "Epoch 598: val_loss did not improve from 0.08554\n",
            "\n",
            "Epoch 599: val_loss did not improve from 0.08554\n",
            "\n",
            "Epoch 600: val_loss did not improve from 0.08554\n",
            "\n",
            "Epoch 601: val_loss did not improve from 0.08554\n",
            "\n",
            "Epoch 602: val_loss did not improve from 0.08554\n",
            "\n",
            "Epoch 603: val_loss did not improve from 0.08554\n",
            "\n",
            "Epoch 604: val_loss did not improve from 0.08554\n",
            "\n",
            "Epoch 605: val_loss did not improve from 0.08554\n",
            "\n",
            "Epoch 606: val_loss did not improve from 0.08554\n",
            "\n",
            "Epoch 607: val_loss did not improve from 0.08554\n",
            "\n",
            "Epoch 608: val_loss did not improve from 0.08554\n",
            "\n",
            "Epoch 609: val_loss did not improve from 0.08554\n",
            "\n",
            "Epoch 610: val_loss did not improve from 0.08554\n",
            "\n",
            "Epoch 611: val_loss did not improve from 0.08554\n",
            "\n",
            "Epoch 612: val_loss did not improve from 0.08554\n",
            "\n",
            "Epoch 613: val_loss did not improve from 0.08554\n",
            "\n",
            "Epoch 614: val_loss did not improve from 0.08554\n",
            "\n",
            "Epoch 615: val_loss did not improve from 0.08554\n",
            "\n",
            "Epoch 616: val_loss did not improve from 0.08554\n",
            "\n",
            "Epoch 617: val_loss did not improve from 0.08554\n",
            "\n",
            "Epoch 618: val_loss improved from 0.08554 to 0.08479, saving model to ./model/618-0.0848.hdf5\n",
            "\n",
            "Epoch 619: val_loss did not improve from 0.08479\n",
            "\n",
            "Epoch 620: val_loss did not improve from 0.08479\n",
            "\n",
            "Epoch 621: val_loss did not improve from 0.08479\n",
            "\n",
            "Epoch 622: val_loss did not improve from 0.08479\n",
            "\n",
            "Epoch 623: val_loss did not improve from 0.08479\n",
            "\n",
            "Epoch 624: val_loss did not improve from 0.08479\n",
            "\n",
            "Epoch 625: val_loss did not improve from 0.08479\n",
            "\n",
            "Epoch 626: val_loss did not improve from 0.08479\n",
            "\n",
            "Epoch 627: val_loss improved from 0.08479 to 0.08416, saving model to ./model/627-0.0842.hdf5\n",
            "\n",
            "Epoch 628: val_loss did not improve from 0.08416\n",
            "\n",
            "Epoch 629: val_loss did not improve from 0.08416\n",
            "\n",
            "Epoch 630: val_loss improved from 0.08416 to 0.08416, saving model to ./model/630-0.0842.hdf5\n",
            "\n",
            "Epoch 631: val_loss improved from 0.08416 to 0.08366, saving model to ./model/631-0.0837.hdf5\n",
            "\n",
            "Epoch 632: val_loss did not improve from 0.08366\n",
            "\n",
            "Epoch 633: val_loss did not improve from 0.08366\n",
            "\n",
            "Epoch 634: val_loss did not improve from 0.08366\n",
            "\n",
            "Epoch 635: val_loss did not improve from 0.08366\n",
            "\n",
            "Epoch 636: val_loss did not improve from 0.08366\n",
            "\n",
            "Epoch 637: val_loss did not improve from 0.08366\n",
            "\n",
            "Epoch 638: val_loss did not improve from 0.08366\n",
            "\n",
            "Epoch 639: val_loss did not improve from 0.08366\n",
            "\n",
            "Epoch 640: val_loss did not improve from 0.08366\n",
            "\n",
            "Epoch 641: val_loss did not improve from 0.08366\n",
            "\n",
            "Epoch 642: val_loss did not improve from 0.08366\n",
            "\n",
            "Epoch 643: val_loss did not improve from 0.08366\n",
            "\n",
            "Epoch 644: val_loss did not improve from 0.08366\n",
            "\n",
            "Epoch 645: val_loss did not improve from 0.08366\n",
            "\n",
            "Epoch 646: val_loss did not improve from 0.08366\n",
            "\n",
            "Epoch 647: val_loss did not improve from 0.08366\n",
            "\n",
            "Epoch 648: val_loss did not improve from 0.08366\n",
            "\n",
            "Epoch 649: val_loss did not improve from 0.08366\n",
            "\n",
            "Epoch 650: val_loss did not improve from 0.08366\n",
            "\n",
            "Epoch 651: val_loss improved from 0.08366 to 0.08239, saving model to ./model/651-0.0824.hdf5\n",
            "\n",
            "Epoch 652: val_loss did not improve from 0.08239\n",
            "\n",
            "Epoch 653: val_loss did not improve from 0.08239\n",
            "\n",
            "Epoch 654: val_loss did not improve from 0.08239\n",
            "\n",
            "Epoch 655: val_loss did not improve from 0.08239\n",
            "\n",
            "Epoch 656: val_loss did not improve from 0.08239\n",
            "\n",
            "Epoch 657: val_loss did not improve from 0.08239\n",
            "\n",
            "Epoch 658: val_loss did not improve from 0.08239\n",
            "\n",
            "Epoch 659: val_loss improved from 0.08239 to 0.07898, saving model to ./model/659-0.0790.hdf5\n",
            "\n",
            "Epoch 660: val_loss did not improve from 0.07898\n",
            "\n",
            "Epoch 661: val_loss did not improve from 0.07898\n",
            "\n",
            "Epoch 662: val_loss did not improve from 0.07898\n",
            "\n",
            "Epoch 663: val_loss did not improve from 0.07898\n",
            "\n",
            "Epoch 664: val_loss did not improve from 0.07898\n",
            "\n",
            "Epoch 665: val_loss did not improve from 0.07898\n",
            "\n",
            "Epoch 666: val_loss did not improve from 0.07898\n",
            "\n",
            "Epoch 667: val_loss did not improve from 0.07898\n",
            "\n",
            "Epoch 668: val_loss did not improve from 0.07898\n",
            "\n",
            "Epoch 669: val_loss did not improve from 0.07898\n",
            "\n",
            "Epoch 670: val_loss did not improve from 0.07898\n",
            "\n",
            "Epoch 671: val_loss did not improve from 0.07898\n",
            "\n",
            "Epoch 672: val_loss did not improve from 0.07898\n",
            "\n",
            "Epoch 673: val_loss did not improve from 0.07898\n",
            "\n",
            "Epoch 674: val_loss did not improve from 0.07898\n",
            "\n",
            "Epoch 675: val_loss did not improve from 0.07898\n",
            "\n",
            "Epoch 676: val_loss did not improve from 0.07898\n",
            "\n",
            "Epoch 677: val_loss did not improve from 0.07898\n",
            "\n",
            "Epoch 678: val_loss did not improve from 0.07898\n",
            "\n",
            "Epoch 679: val_loss did not improve from 0.07898\n",
            "\n",
            "Epoch 680: val_loss did not improve from 0.07898\n",
            "\n",
            "Epoch 681: val_loss did not improve from 0.07898\n",
            "\n",
            "Epoch 682: val_loss did not improve from 0.07898\n",
            "\n",
            "Epoch 683: val_loss did not improve from 0.07898\n",
            "\n",
            "Epoch 684: val_loss did not improve from 0.07898\n",
            "\n",
            "Epoch 685: val_loss did not improve from 0.07898\n",
            "\n",
            "Epoch 686: val_loss did not improve from 0.07898\n",
            "\n",
            "Epoch 687: val_loss did not improve from 0.07898\n",
            "\n",
            "Epoch 688: val_loss did not improve from 0.07898\n",
            "\n",
            "Epoch 689: val_loss did not improve from 0.07898\n",
            "\n",
            "Epoch 690: val_loss did not improve from 0.07898\n",
            "\n",
            "Epoch 691: val_loss did not improve from 0.07898\n",
            "\n",
            "Epoch 692: val_loss did not improve from 0.07898\n",
            "\n",
            "Epoch 693: val_loss did not improve from 0.07898\n",
            "\n",
            "Epoch 694: val_loss did not improve from 0.07898\n",
            "\n",
            "Epoch 695: val_loss did not improve from 0.07898\n",
            "\n",
            "Epoch 696: val_loss improved from 0.07898 to 0.07877, saving model to ./model/696-0.0788.hdf5\n",
            "\n",
            "Epoch 697: val_loss did not improve from 0.07877\n",
            "\n",
            "Epoch 698: val_loss did not improve from 0.07877\n",
            "\n",
            "Epoch 699: val_loss did not improve from 0.07877\n",
            "\n",
            "Epoch 700: val_loss did not improve from 0.07877\n",
            "\n",
            "Epoch 701: val_loss did not improve from 0.07877\n",
            "\n",
            "Epoch 702: val_loss did not improve from 0.07877\n",
            "\n",
            "Epoch 703: val_loss did not improve from 0.07877\n",
            "\n",
            "Epoch 704: val_loss did not improve from 0.07877\n",
            "\n",
            "Epoch 705: val_loss did not improve from 0.07877\n",
            "\n",
            "Epoch 706: val_loss did not improve from 0.07877\n",
            "\n",
            "Epoch 707: val_loss did not improve from 0.07877\n",
            "\n",
            "Epoch 708: val_loss did not improve from 0.07877\n",
            "\n",
            "Epoch 709: val_loss did not improve from 0.07877\n",
            "\n",
            "Epoch 710: val_loss did not improve from 0.07877\n",
            "\n",
            "Epoch 711: val_loss did not improve from 0.07877\n",
            "\n",
            "Epoch 712: val_loss did not improve from 0.07877\n",
            "\n",
            "Epoch 713: val_loss did not improve from 0.07877\n",
            "\n",
            "Epoch 714: val_loss did not improve from 0.07877\n",
            "\n",
            "Epoch 715: val_loss did not improve from 0.07877\n",
            "\n",
            "Epoch 716: val_loss did not improve from 0.07877\n",
            "\n",
            "Epoch 717: val_loss did not improve from 0.07877\n",
            "\n",
            "Epoch 718: val_loss did not improve from 0.07877\n",
            "\n",
            "Epoch 719: val_loss did not improve from 0.07877\n",
            "\n",
            "Epoch 720: val_loss did not improve from 0.07877\n",
            "\n",
            "Epoch 721: val_loss did not improve from 0.07877\n",
            "\n",
            "Epoch 722: val_loss did not improve from 0.07877\n",
            "\n",
            "Epoch 723: val_loss did not improve from 0.07877\n",
            "\n",
            "Epoch 724: val_loss did not improve from 0.07877\n",
            "\n",
            "Epoch 725: val_loss did not improve from 0.07877\n",
            "\n",
            "Epoch 726: val_loss did not improve from 0.07877\n",
            "\n",
            "Epoch 727: val_loss did not improve from 0.07877\n",
            "\n",
            "Epoch 728: val_loss did not improve from 0.07877\n",
            "\n",
            "Epoch 729: val_loss did not improve from 0.07877\n",
            "\n",
            "Epoch 730: val_loss did not improve from 0.07877\n",
            "\n",
            "Epoch 731: val_loss did not improve from 0.07877\n",
            "\n",
            "Epoch 732: val_loss did not improve from 0.07877\n",
            "\n",
            "Epoch 733: val_loss did not improve from 0.07877\n",
            "\n",
            "Epoch 734: val_loss did not improve from 0.07877\n",
            "\n",
            "Epoch 735: val_loss did not improve from 0.07877\n",
            "\n",
            "Epoch 736: val_loss did not improve from 0.07877\n",
            "\n",
            "Epoch 737: val_loss did not improve from 0.07877\n",
            "\n",
            "Epoch 738: val_loss did not improve from 0.07877\n",
            "\n",
            "Epoch 739: val_loss did not improve from 0.07877\n",
            "\n",
            "Epoch 740: val_loss did not improve from 0.07877\n",
            "\n",
            "Epoch 741: val_loss did not improve from 0.07877\n",
            "\n",
            "Epoch 742: val_loss did not improve from 0.07877\n",
            "\n",
            "Epoch 743: val_loss improved from 0.07877 to 0.07778, saving model to ./model/743-0.0778.hdf5\n",
            "\n",
            "Epoch 744: val_loss did not improve from 0.07778\n",
            "\n",
            "Epoch 745: val_loss did not improve from 0.07778\n",
            "\n",
            "Epoch 746: val_loss did not improve from 0.07778\n",
            "\n",
            "Epoch 747: val_loss did not improve from 0.07778\n",
            "\n",
            "Epoch 748: val_loss improved from 0.07778 to 0.07617, saving model to ./model/748-0.0762.hdf5\n",
            "\n",
            "Epoch 749: val_loss did not improve from 0.07617\n",
            "\n",
            "Epoch 750: val_loss did not improve from 0.07617\n",
            "\n",
            "Epoch 751: val_loss did not improve from 0.07617\n",
            "\n",
            "Epoch 752: val_loss did not improve from 0.07617\n",
            "\n",
            "Epoch 753: val_loss did not improve from 0.07617\n",
            "\n",
            "Epoch 754: val_loss did not improve from 0.07617\n",
            "\n",
            "Epoch 755: val_loss did not improve from 0.07617\n",
            "\n",
            "Epoch 756: val_loss did not improve from 0.07617\n",
            "\n",
            "Epoch 757: val_loss did not improve from 0.07617\n",
            "\n",
            "Epoch 758: val_loss did not improve from 0.07617\n",
            "\n",
            "Epoch 759: val_loss did not improve from 0.07617\n",
            "\n",
            "Epoch 760: val_loss did not improve from 0.07617\n",
            "\n",
            "Epoch 761: val_loss did not improve from 0.07617\n",
            "\n",
            "Epoch 762: val_loss did not improve from 0.07617\n",
            "\n",
            "Epoch 763: val_loss improved from 0.07617 to 0.07429, saving model to ./model/763-0.0743.hdf5\n",
            "\n",
            "Epoch 764: val_loss did not improve from 0.07429\n",
            "\n",
            "Epoch 765: val_loss did not improve from 0.07429\n",
            "\n",
            "Epoch 766: val_loss did not improve from 0.07429\n",
            "\n",
            "Epoch 767: val_loss did not improve from 0.07429\n",
            "\n",
            "Epoch 768: val_loss did not improve from 0.07429\n",
            "\n",
            "Epoch 769: val_loss did not improve from 0.07429\n",
            "\n",
            "Epoch 770: val_loss did not improve from 0.07429\n",
            "\n",
            "Epoch 771: val_loss did not improve from 0.07429\n",
            "\n",
            "Epoch 772: val_loss did not improve from 0.07429\n",
            "\n",
            "Epoch 773: val_loss did not improve from 0.07429\n",
            "\n",
            "Epoch 774: val_loss did not improve from 0.07429\n",
            "\n",
            "Epoch 775: val_loss did not improve from 0.07429\n",
            "\n",
            "Epoch 776: val_loss did not improve from 0.07429\n",
            "\n",
            "Epoch 777: val_loss did not improve from 0.07429\n",
            "\n",
            "Epoch 778: val_loss did not improve from 0.07429\n",
            "\n",
            "Epoch 779: val_loss did not improve from 0.07429\n",
            "\n",
            "Epoch 780: val_loss did not improve from 0.07429\n",
            "\n",
            "Epoch 781: val_loss did not improve from 0.07429\n",
            "\n",
            "Epoch 782: val_loss did not improve from 0.07429\n",
            "\n",
            "Epoch 783: val_loss did not improve from 0.07429\n",
            "\n",
            "Epoch 784: val_loss did not improve from 0.07429\n",
            "\n",
            "Epoch 785: val_loss did not improve from 0.07429\n",
            "\n",
            "Epoch 786: val_loss did not improve from 0.07429\n",
            "\n",
            "Epoch 787: val_loss did not improve from 0.07429\n",
            "\n",
            "Epoch 788: val_loss did not improve from 0.07429\n",
            "\n",
            "Epoch 789: val_loss did not improve from 0.07429\n",
            "\n",
            "Epoch 790: val_loss did not improve from 0.07429\n",
            "\n",
            "Epoch 791: val_loss did not improve from 0.07429\n",
            "\n",
            "Epoch 792: val_loss did not improve from 0.07429\n",
            "\n",
            "Epoch 793: val_loss did not improve from 0.07429\n",
            "\n",
            "Epoch 794: val_loss improved from 0.07429 to 0.07134, saving model to ./model/794-0.0713.hdf5\n",
            "\n",
            "Epoch 795: val_loss did not improve from 0.07134\n",
            "\n",
            "Epoch 796: val_loss did not improve from 0.07134\n",
            "\n",
            "Epoch 797: val_loss did not improve from 0.07134\n",
            "\n",
            "Epoch 798: val_loss did not improve from 0.07134\n",
            "\n",
            "Epoch 799: val_loss did not improve from 0.07134\n",
            "\n",
            "Epoch 800: val_loss did not improve from 0.07134\n",
            "\n",
            "Epoch 801: val_loss did not improve from 0.07134\n",
            "\n",
            "Epoch 802: val_loss did not improve from 0.07134\n",
            "\n",
            "Epoch 803: val_loss did not improve from 0.07134\n",
            "\n",
            "Epoch 804: val_loss did not improve from 0.07134\n",
            "\n",
            "Epoch 805: val_loss did not improve from 0.07134\n",
            "\n",
            "Epoch 806: val_loss did not improve from 0.07134\n",
            "\n",
            "Epoch 807: val_loss did not improve from 0.07134\n",
            "\n",
            "Epoch 808: val_loss did not improve from 0.07134\n",
            "\n",
            "Epoch 809: val_loss did not improve from 0.07134\n",
            "\n",
            "Epoch 810: val_loss did not improve from 0.07134\n",
            "\n",
            "Epoch 811: val_loss did not improve from 0.07134\n",
            "\n",
            "Epoch 812: val_loss did not improve from 0.07134\n",
            "\n",
            "Epoch 813: val_loss did not improve from 0.07134\n",
            "\n",
            "Epoch 814: val_loss did not improve from 0.07134\n",
            "\n",
            "Epoch 815: val_loss did not improve from 0.07134\n",
            "\n",
            "Epoch 816: val_loss did not improve from 0.07134\n",
            "\n",
            "Epoch 817: val_loss did not improve from 0.07134\n",
            "\n",
            "Epoch 818: val_loss did not improve from 0.07134\n",
            "\n",
            "Epoch 819: val_loss improved from 0.07134 to 0.07104, saving model to ./model/819-0.0710.hdf5\n",
            "\n",
            "Epoch 820: val_loss did not improve from 0.07104\n",
            "\n",
            "Epoch 821: val_loss did not improve from 0.07104\n",
            "\n",
            "Epoch 822: val_loss did not improve from 0.07104\n",
            "\n",
            "Epoch 823: val_loss did not improve from 0.07104\n",
            "\n",
            "Epoch 824: val_loss did not improve from 0.07104\n",
            "\n",
            "Epoch 825: val_loss did not improve from 0.07104\n",
            "\n",
            "Epoch 826: val_loss did not improve from 0.07104\n",
            "\n",
            "Epoch 827: val_loss did not improve from 0.07104\n",
            "\n",
            "Epoch 828: val_loss did not improve from 0.07104\n",
            "\n",
            "Epoch 829: val_loss did not improve from 0.07104\n",
            "\n",
            "Epoch 830: val_loss did not improve from 0.07104\n",
            "\n",
            "Epoch 831: val_loss improved from 0.07104 to 0.07069, saving model to ./model/831-0.0707.hdf5\n",
            "\n",
            "Epoch 832: val_loss improved from 0.07069 to 0.07020, saving model to ./model/832-0.0702.hdf5\n",
            "\n",
            "Epoch 833: val_loss did not improve from 0.07020\n",
            "\n",
            "Epoch 834: val_loss did not improve from 0.07020\n",
            "\n",
            "Epoch 835: val_loss did not improve from 0.07020\n",
            "\n",
            "Epoch 836: val_loss improved from 0.07020 to 0.06896, saving model to ./model/836-0.0690.hdf5\n",
            "\n",
            "Epoch 837: val_loss did not improve from 0.06896\n",
            "\n",
            "Epoch 838: val_loss did not improve from 0.06896\n",
            "\n",
            "Epoch 839: val_loss did not improve from 0.06896\n",
            "\n",
            "Epoch 840: val_loss did not improve from 0.06896\n",
            "\n",
            "Epoch 841: val_loss did not improve from 0.06896\n",
            "\n",
            "Epoch 842: val_loss did not improve from 0.06896\n",
            "\n",
            "Epoch 843: val_loss did not improve from 0.06896\n",
            "\n",
            "Epoch 844: val_loss did not improve from 0.06896\n",
            "\n",
            "Epoch 845: val_loss did not improve from 0.06896\n",
            "\n",
            "Epoch 846: val_loss did not improve from 0.06896\n",
            "\n",
            "Epoch 847: val_loss did not improve from 0.06896\n",
            "\n",
            "Epoch 848: val_loss did not improve from 0.06896\n",
            "\n",
            "Epoch 849: val_loss did not improve from 0.06896\n",
            "\n",
            "Epoch 850: val_loss did not improve from 0.06896\n",
            "\n",
            "Epoch 851: val_loss did not improve from 0.06896\n",
            "\n",
            "Epoch 852: val_loss did not improve from 0.06896\n",
            "\n",
            "Epoch 853: val_loss did not improve from 0.06896\n",
            "\n",
            "Epoch 854: val_loss improved from 0.06896 to 0.06606, saving model to ./model/854-0.0661.hdf5\n",
            "\n",
            "Epoch 855: val_loss did not improve from 0.06606\n",
            "\n",
            "Epoch 856: val_loss did not improve from 0.06606\n",
            "\n",
            "Epoch 857: val_loss did not improve from 0.06606\n",
            "\n",
            "Epoch 858: val_loss did not improve from 0.06606\n",
            "\n",
            "Epoch 859: val_loss did not improve from 0.06606\n",
            "\n",
            "Epoch 860: val_loss did not improve from 0.06606\n",
            "\n",
            "Epoch 861: val_loss did not improve from 0.06606\n",
            "\n",
            "Epoch 862: val_loss did not improve from 0.06606\n",
            "\n",
            "Epoch 863: val_loss did not improve from 0.06606\n",
            "\n",
            "Epoch 864: val_loss did not improve from 0.06606\n",
            "\n",
            "Epoch 865: val_loss did not improve from 0.06606\n",
            "\n",
            "Epoch 866: val_loss did not improve from 0.06606\n",
            "\n",
            "Epoch 867: val_loss did not improve from 0.06606\n",
            "\n",
            "Epoch 868: val_loss did not improve from 0.06606\n",
            "\n",
            "Epoch 869: val_loss did not improve from 0.06606\n",
            "\n",
            "Epoch 870: val_loss did not improve from 0.06606\n",
            "\n",
            "Epoch 871: val_loss did not improve from 0.06606\n",
            "\n",
            "Epoch 872: val_loss did not improve from 0.06606\n",
            "\n",
            "Epoch 873: val_loss did not improve from 0.06606\n",
            "\n",
            "Epoch 874: val_loss did not improve from 0.06606\n",
            "\n",
            "Epoch 875: val_loss did not improve from 0.06606\n",
            "\n",
            "Epoch 876: val_loss did not improve from 0.06606\n",
            "\n",
            "Epoch 877: val_loss did not improve from 0.06606\n",
            "\n",
            "Epoch 878: val_loss did not improve from 0.06606\n",
            "\n",
            "Epoch 879: val_loss did not improve from 0.06606\n",
            "\n",
            "Epoch 880: val_loss did not improve from 0.06606\n",
            "\n",
            "Epoch 881: val_loss did not improve from 0.06606\n",
            "\n",
            "Epoch 882: val_loss did not improve from 0.06606\n",
            "\n",
            "Epoch 883: val_loss did not improve from 0.06606\n",
            "\n",
            "Epoch 884: val_loss did not improve from 0.06606\n",
            "\n",
            "Epoch 885: val_loss did not improve from 0.06606\n",
            "\n",
            "Epoch 886: val_loss did not improve from 0.06606\n",
            "\n",
            "Epoch 887: val_loss did not improve from 0.06606\n",
            "\n",
            "Epoch 888: val_loss did not improve from 0.06606\n",
            "\n",
            "Epoch 889: val_loss did not improve from 0.06606\n",
            "\n",
            "Epoch 890: val_loss did not improve from 0.06606\n",
            "\n",
            "Epoch 891: val_loss did not improve from 0.06606\n",
            "\n",
            "Epoch 892: val_loss did not improve from 0.06606\n",
            "\n",
            "Epoch 893: val_loss did not improve from 0.06606\n",
            "\n",
            "Epoch 894: val_loss did not improve from 0.06606\n",
            "\n",
            "Epoch 895: val_loss did not improve from 0.06606\n",
            "\n",
            "Epoch 896: val_loss did not improve from 0.06606\n",
            "\n",
            "Epoch 897: val_loss did not improve from 0.06606\n",
            "\n",
            "Epoch 898: val_loss did not improve from 0.06606\n",
            "\n",
            "Epoch 899: val_loss did not improve from 0.06606\n",
            "\n",
            "Epoch 900: val_loss did not improve from 0.06606\n",
            "\n",
            "Epoch 901: val_loss did not improve from 0.06606\n",
            "\n",
            "Epoch 902: val_loss did not improve from 0.06606\n",
            "\n",
            "Epoch 903: val_loss did not improve from 0.06606\n",
            "\n",
            "Epoch 904: val_loss did not improve from 0.06606\n",
            "\n",
            "Epoch 905: val_loss did not improve from 0.06606\n",
            "\n",
            "Epoch 906: val_loss did not improve from 0.06606\n",
            "\n",
            "Epoch 907: val_loss did not improve from 0.06606\n",
            "\n",
            "Epoch 908: val_loss did not improve from 0.06606\n",
            "\n",
            "Epoch 909: val_loss did not improve from 0.06606\n",
            "\n",
            "Epoch 910: val_loss did not improve from 0.06606\n",
            "\n",
            "Epoch 911: val_loss did not improve from 0.06606\n",
            "\n",
            "Epoch 912: val_loss did not improve from 0.06606\n",
            "\n",
            "Epoch 913: val_loss did not improve from 0.06606\n",
            "\n",
            "Epoch 914: val_loss did not improve from 0.06606\n",
            "\n",
            "Epoch 915: val_loss did not improve from 0.06606\n",
            "\n",
            "Epoch 916: val_loss did not improve from 0.06606\n",
            "\n",
            "Epoch 917: val_loss did not improve from 0.06606\n",
            "\n",
            "Epoch 918: val_loss did not improve from 0.06606\n",
            "\n",
            "Epoch 919: val_loss did not improve from 0.06606\n",
            "\n",
            "Epoch 920: val_loss did not improve from 0.06606\n",
            "\n",
            "Epoch 921: val_loss did not improve from 0.06606\n",
            "\n",
            "Epoch 922: val_loss did not improve from 0.06606\n",
            "\n",
            "Epoch 923: val_loss did not improve from 0.06606\n",
            "\n",
            "Epoch 924: val_loss did not improve from 0.06606\n",
            "\n",
            "Epoch 925: val_loss did not improve from 0.06606\n",
            "\n",
            "Epoch 926: val_loss did not improve from 0.06606\n",
            "\n",
            "Epoch 927: val_loss did not improve from 0.06606\n",
            "\n",
            "Epoch 928: val_loss did not improve from 0.06606\n",
            "\n",
            "Epoch 929: val_loss did not improve from 0.06606\n",
            "\n",
            "Epoch 930: val_loss did not improve from 0.06606\n",
            "\n",
            "Epoch 931: val_loss did not improve from 0.06606\n",
            "\n",
            "Epoch 932: val_loss did not improve from 0.06606\n",
            "\n",
            "Epoch 933: val_loss did not improve from 0.06606\n",
            "\n",
            "Epoch 934: val_loss did not improve from 0.06606\n",
            "\n",
            "Epoch 935: val_loss did not improve from 0.06606\n",
            "\n",
            "Epoch 936: val_loss did not improve from 0.06606\n",
            "\n",
            "Epoch 937: val_loss did not improve from 0.06606\n",
            "\n",
            "Epoch 938: val_loss improved from 0.06606 to 0.06605, saving model to ./model/938-0.0661.hdf5\n",
            "\n",
            "Epoch 939: val_loss did not improve from 0.06605\n",
            "\n",
            "Epoch 940: val_loss did not improve from 0.06605\n",
            "\n",
            "Epoch 941: val_loss did not improve from 0.06605\n",
            "\n",
            "Epoch 942: val_loss did not improve from 0.06605\n",
            "\n",
            "Epoch 943: val_loss did not improve from 0.06605\n",
            "\n",
            "Epoch 944: val_loss did not improve from 0.06605\n",
            "\n",
            "Epoch 945: val_loss did not improve from 0.06605\n",
            "\n",
            "Epoch 946: val_loss did not improve from 0.06605\n",
            "\n",
            "Epoch 947: val_loss did not improve from 0.06605\n",
            "\n",
            "Epoch 948: val_loss did not improve from 0.06605\n",
            "\n",
            "Epoch 949: val_loss did not improve from 0.06605\n",
            "\n",
            "Epoch 950: val_loss did not improve from 0.06605\n",
            "\n",
            "Epoch 951: val_loss did not improve from 0.06605\n",
            "\n",
            "Epoch 952: val_loss did not improve from 0.06605\n",
            "\n",
            "Epoch 953: val_loss did not improve from 0.06605\n",
            "\n",
            "Epoch 954: val_loss did not improve from 0.06605\n",
            "\n",
            "Epoch 955: val_loss did not improve from 0.06605\n",
            "\n",
            "Epoch 956: val_loss did not improve from 0.06605\n",
            "\n",
            "Epoch 957: val_loss did not improve from 0.06605\n",
            "\n",
            "Epoch 958: val_loss did not improve from 0.06605\n",
            "\n",
            "Epoch 959: val_loss did not improve from 0.06605\n",
            "\n",
            "Epoch 960: val_loss did not improve from 0.06605\n",
            "\n",
            "Epoch 961: val_loss did not improve from 0.06605\n",
            "\n",
            "Epoch 962: val_loss did not improve from 0.06605\n",
            "\n",
            "Epoch 963: val_loss did not improve from 0.06605\n",
            "\n",
            "Epoch 964: val_loss did not improve from 0.06605\n",
            "\n",
            "Epoch 965: val_loss did not improve from 0.06605\n",
            "\n",
            "Epoch 966: val_loss did not improve from 0.06605\n",
            "\n",
            "Epoch 967: val_loss did not improve from 0.06605\n",
            "\n",
            "Epoch 968: val_loss did not improve from 0.06605\n",
            "\n",
            "Epoch 969: val_loss did not improve from 0.06605\n",
            "\n",
            "Epoch 970: val_loss did not improve from 0.06605\n",
            "\n",
            "Epoch 971: val_loss did not improve from 0.06605\n",
            "\n",
            "Epoch 972: val_loss did not improve from 0.06605\n",
            "\n",
            "Epoch 973: val_loss did not improve from 0.06605\n",
            "\n",
            "Epoch 974: val_loss did not improve from 0.06605\n",
            "\n",
            "Epoch 975: val_loss did not improve from 0.06605\n",
            "\n",
            "Epoch 976: val_loss did not improve from 0.06605\n",
            "\n",
            "Epoch 977: val_loss did not improve from 0.06605\n",
            "\n",
            "Epoch 978: val_loss did not improve from 0.06605\n",
            "\n",
            "Epoch 979: val_loss did not improve from 0.06605\n",
            "\n",
            "Epoch 980: val_loss did not improve from 0.06605\n",
            "\n",
            "Epoch 981: val_loss did not improve from 0.06605\n",
            "\n",
            "Epoch 982: val_loss did not improve from 0.06605\n",
            "\n",
            "Epoch 983: val_loss did not improve from 0.06605\n",
            "\n",
            "Epoch 984: val_loss did not improve from 0.06605\n",
            "\n",
            "Epoch 985: val_loss did not improve from 0.06605\n",
            "\n",
            "Epoch 986: val_loss did not improve from 0.06605\n",
            "\n",
            "Epoch 987: val_loss did not improve from 0.06605\n",
            "\n",
            "Epoch 988: val_loss did not improve from 0.06605\n",
            "\n",
            "Epoch 989: val_loss did not improve from 0.06605\n",
            "\n",
            "Epoch 990: val_loss did not improve from 0.06605\n",
            "\n",
            "Epoch 991: val_loss did not improve from 0.06605\n",
            "\n",
            "Epoch 992: val_loss did not improve from 0.06605\n",
            "\n",
            "Epoch 993: val_loss did not improve from 0.06605\n",
            "\n",
            "Epoch 994: val_loss did not improve from 0.06605\n",
            "\n",
            "Epoch 995: val_loss did not improve from 0.06605\n",
            "\n",
            "Epoch 996: val_loss did not improve from 0.06605\n",
            "\n",
            "Epoch 997: val_loss did not improve from 0.06605\n",
            "\n",
            "Epoch 998: val_loss did not improve from 0.06605\n",
            "\n",
            "Epoch 999: val_loss did not improve from 0.06605\n",
            "\n",
            "Epoch 1000: val_loss did not improve from 0.06605\n",
            "\n",
            "Epoch 1001: val_loss did not improve from 0.06605\n",
            "\n",
            "Epoch 1002: val_loss did not improve from 0.06605\n",
            "\n",
            "Epoch 1003: val_loss did not improve from 0.06605\n",
            "\n",
            "Epoch 1004: val_loss did not improve from 0.06605\n",
            "\n",
            "Epoch 1005: val_loss did not improve from 0.06605\n",
            "\n",
            "Epoch 1006: val_loss did not improve from 0.06605\n",
            "\n",
            "Epoch 1007: val_loss did not improve from 0.06605\n",
            "\n",
            "Epoch 1008: val_loss did not improve from 0.06605\n",
            "\n",
            "Epoch 1009: val_loss did not improve from 0.06605\n",
            "\n",
            "Epoch 1010: val_loss did not improve from 0.06605\n",
            "\n",
            "Epoch 1011: val_loss did not improve from 0.06605\n",
            "\n",
            "Epoch 1012: val_loss did not improve from 0.06605\n",
            "\n",
            "Epoch 1013: val_loss did not improve from 0.06605\n",
            "\n",
            "Epoch 1014: val_loss did not improve from 0.06605\n",
            "\n",
            "Epoch 1015: val_loss did not improve from 0.06605\n",
            "\n",
            "Epoch 1016: val_loss did not improve from 0.06605\n",
            "\n",
            "Epoch 1017: val_loss did not improve from 0.06605\n",
            "\n",
            "Epoch 1018: val_loss did not improve from 0.06605\n",
            "\n",
            "Epoch 1019: val_loss did not improve from 0.06605\n",
            "\n",
            "Epoch 1020: val_loss did not improve from 0.06605\n",
            "\n",
            "Epoch 1021: val_loss did not improve from 0.06605\n",
            "\n",
            "Epoch 1022: val_loss did not improve from 0.06605\n",
            "\n",
            "Epoch 1023: val_loss did not improve from 0.06605\n",
            "\n",
            "Epoch 1024: val_loss did not improve from 0.06605\n",
            "\n",
            "Epoch 1025: val_loss did not improve from 0.06605\n",
            "\n",
            "Epoch 1026: val_loss did not improve from 0.06605\n",
            "\n",
            "Epoch 1027: val_loss did not improve from 0.06605\n",
            "\n",
            "Epoch 1028: val_loss did not improve from 0.06605\n",
            "\n",
            "Epoch 1029: val_loss did not improve from 0.06605\n",
            "\n",
            "Epoch 1030: val_loss did not improve from 0.06605\n",
            "\n",
            "Epoch 1031: val_loss did not improve from 0.06605\n",
            "\n",
            "Epoch 1032: val_loss did not improve from 0.06605\n",
            "\n",
            "Epoch 1033: val_loss did not improve from 0.06605\n",
            "\n",
            "Epoch 1034: val_loss did not improve from 0.06605\n",
            "\n",
            "Epoch 1035: val_loss did not improve from 0.06605\n",
            "\n",
            "Epoch 1036: val_loss did not improve from 0.06605\n",
            "\n",
            "Epoch 1037: val_loss did not improve from 0.06605\n",
            "\n",
            "Epoch 1038: val_loss did not improve from 0.06605\n"
          ]
        },
        {
          "output_type": "display_data",
          "data": {
            "text/plain": [
              "<Figure size 432x288 with 1 Axes>"
            ],
            "image/png": "[encoded data removed]"
          },
          "metadata": {
            "needs_background": "light"
          }
        },
        {
          "output_type": "display_data",
          "data": {
            "text/plain": [
              "<Figure size 432x288 with 1 Axes>"
            ],
            "image/png": "[encoded data removed]"
          },
          "metadata": {
            "needs_background": "light"
          }
        }
      ]
    },
    {
      "cell_type": "code",
      "metadata": {
        "id": "vZkNuqKw_CzP",
        "colab": {
          "base_uri": "https://localhost:8080/"
        },
        "outputId": "15849083-073b-4a48-b2ca-b26ad74b81c8"
      },
      "source": [
        "history.history.keys()"
      ],
      "execution_count": null,
      "outputs": [
        {
          "output_type": "execute_result",
          "data": {
            "text/plain": [
              "dict_keys(['loss', 'accuracy', 'val_loss', 'val_accuracy'])"
            ]
          },
          "metadata": {},
          "execution_count": 11
        }
      ]
    },
    {
      "cell_type": "code",
      "metadata": {
        "scrolled": false,
        "id": "39jtzRIR7uzy",
        "colab": {
          "base_uri": "https://localhost:8080/"
        },
        "outputId": "9bf900e5-eed2-47cb-e75e-109250602978"
      },
      "source": [
        "print(\"Acuracy: %.4f\" %(model.evaluate(X, y)[1]))"
      ],
      "execution_count": null,
      "outputs": [
        {
          "output_type": "stream",
          "name": "stdout",
          "text": [
            "41/41 [==============================] - 0s 2ms/step - loss: 0.0347 - accuracy: 0.9923\n",
            "Acuracy: 0.9923\n"
          ]
        }
      ]
    },
    {
      "cell_type": "markdown",
      "metadata": {
        "id": "meV-aZzQ7uz3"
      },
      "source": [
        "- 2000 epoch 전에 중간에 중단됨을 알 수 있다."
      ]
    },
    {
      "cell_type": "markdown",
      "metadata": {
        "id": "jQg_oBsA7uz4"
      },
      "source": [
        "# Regression - boston house price\n",
        "- boston area house price estimates"
      ]
    },
    {
      "cell_type": "code",
      "metadata": {
        "id": "ozRinvZ2pPph"
      },
      "source": [
        "from tensorflow.keras.models import Sequential\n",
        "from tensorflow.keras.layers import Dense\n",
        "from sklearn.model_selection import train_test_split\n",
        "\n",
        "import numpy\n",
        "import pandas as pd\n",
        "import tensorflow as tf"
      ],
      "execution_count": null,
      "outputs": []
    },
    {
      "cell_type": "code",
      "metadata": {
        "id": "o_67wjOgoC4C",
        "colab": {
          "base_uri": "https://localhost:8080/"
        },
        "outputId": "77a2228b-0b73-4e88-bd35-e6d2e70c999d"
      },
      "source": [
        "from sklearn.datasets import load_boston\n",
        "house = load_boston()\n",
        "X, y = house.data, house.target"
      ],
      "execution_count": null,
      "outputs": [
        {
          "output_type": "stream",
          "name": "stderr",
          "text": [
            "/usr/local/lib/python3.7/dist-packages/sklearn/utils/deprecation.py:87: FutureWarning: Function load_boston is deprecated; `load_boston` is deprecated in 1.0 and will be removed in 1.2.\n",
            "\n",
            "    The Boston housing prices dataset has an ethical problem. You can refer to\n",
            "    the documentation of this function for further details.\n",
            "\n",
            "    The scikit-learn maintainers therefore strongly discourage the use of this\n",
            "    dataset unless the purpose of the code is to study and educate about\n",
            "    ethical issues in data science and machine learning.\n",
            "\n",
            "    In this special case, you can fetch the dataset from the original\n",
            "    source::\n",
            "\n",
            "        import pandas as pd\n",
            "        import numpy as np\n",
            "\n",
            "\n",
            "        data_url = \"http://lib.stat.cmu.edu/datasets/boston\"\n",
            "        raw_df = pd.read_csv(data_url, sep=\"\\s+\", skiprows=22, header=None)\n",
            "        data = np.hstack([raw_df.values[::2, :], raw_df.values[1::2, :2]])\n",
            "        target = raw_df.values[1::2, 2]\n",
            "\n",
            "    Alternative datasets include the California housing dataset (i.e.\n",
            "    :func:`~sklearn.datasets.fetch_california_housing`) and the Ames housing\n",
            "    dataset. You can load the datasets as follows::\n",
            "\n",
            "        from sklearn.datasets import fetch_california_housing\n",
            "        housing = fetch_california_housing()\n",
            "\n",
            "    for the California housing dataset and::\n",
            "\n",
            "        from sklearn.datasets import fetch_openml\n",
            "        housing = fetch_openml(name=\"house_prices\", as_frame=True)\n",
            "\n",
            "    for the Ames housing dataset.\n",
            "    \n",
            "  warnings.warn(msg, category=FutureWarning)\n"
          ]
        }
      ]
    },
    {
      "cell_type": "code",
      "source": [
        "# house"
      ],
      "metadata": {
        "id": "xIybe1vLQNkW"
      },
      "execution_count": null,
      "outputs": []
    },
    {
      "cell_type": "code",
      "metadata": {
        "colab": {
          "base_uri": "https://localhost:8080/"
        },
        "id": "ciggdTTGoyul",
        "outputId": "caa17f0e-d2cf-4371-f6d5-39b73bdec5da"
      },
      "source": [
        "X.shape, y.shape"
      ],
      "execution_count": null,
      "outputs": [
        {
          "output_type": "execute_result",
          "data": {
            "text/plain": [
              "((506, 13), (506,))"
            ]
          },
          "metadata": {},
          "execution_count": 15
        }
      ]
    },
    {
      "cell_type": "code",
      "metadata": {
        "colab": {
          "base_uri": "https://localhost:8080/"
        },
        "id": "mB7hdCYyxpRO",
        "outputId": "92360ee9-c793-41bc-b5b5-1313e5c4040e"
      },
      "source": [
        "[i for i in dir(house) if not i.startswith(\"_\")]"
      ],
      "execution_count": null,
      "outputs": [
        {
          "output_type": "execute_result",
          "data": {
            "text/plain": [
              "['DESCR', 'data', 'data_module', 'feature_names', 'filename', 'target']"
            ]
          },
          "metadata": {},
          "execution_count": 58
        }
      ]
    },
    {
      "cell_type": "code",
      "metadata": {
        "colab": {
          "base_uri": "https://localhost:8080/"
        },
        "id": "bo_5ze2Kx962",
        "outputId": "78c81771-2ba1-48c8-ca1a-f47caedec347"
      },
      "source": [
        "house.feature_names"
      ],
      "execution_count": null,
      "outputs": [
        {
          "output_type": "execute_result",
          "data": {
            "text/plain": [
              "array(['CRIM', 'ZN', 'INDUS', 'CHAS', 'NOX', 'RM', 'AGE', 'DIS', 'RAD',\n",
              "       'TAX', 'PTRATIO', 'B', 'LSTAT'], dtype='<U7')"
            ]
          },
          "metadata": {},
          "execution_count": 16
        }
      ]
    },
    {
      "cell_type": "code",
      "metadata": {
        "colab": {
          "base_uri": "https://localhost:8080/"
        },
        "id": "MlUhW0Npo-4q",
        "outputId": "41f25863-4b1c-4b18-8c2b-3070490dddac"
      },
      "source": [
        "X[:5], y[:5]"
      ],
      "execution_count": null,
      "outputs": [
        {
          "output_type": "execute_result",
          "data": {
            "text/plain": [
              "(array([[6.3200e-03, 1.8000e+01, 2.3100e+00, 0.0000e+00, 5.3800e-01,\n",
              "         6.5750e+00, 6.5200e+01, 4.0900e+00, 1.0000e+00, 2.9600e+02,\n",
              "         1.5300e+01, 3.9690e+02, 4.9800e+00],\n",
              "        [2.7310e-02, 0.0000e+00, 7.0700e+00, 0.0000e+00, 4.6900e-01,\n",
              "         6.4210e+00, 7.8900e+01, 4.9671e+00, 2.0000e+00, 2.4200e+02,\n",
              "         1.7800e+01, 3.9690e+02, 9.1400e+00],\n",
              "        [2.7290e-02, 0.0000e+00, 7.0700e+00, 0.0000e+00, 4.6900e-01,\n",
              "         7.1850e+00, 6.1100e+01, 4.9671e+00, 2.0000e+00, 2.4200e+02,\n",
              "         1.7800e+01, 3.9283e+02, 4.0300e+00],\n",
              "        [3.2370e-02, 0.0000e+00, 2.1800e+00, 0.0000e+00, 4.5800e-01,\n",
              "         6.9980e+00, 4.5800e+01, 6.0622e+00, 3.0000e+00, 2.2200e+02,\n",
              "         1.8700e+01, 3.9463e+02, 2.9400e+00],\n",
              "        [6.9050e-02, 0.0000e+00, 2.1800e+00, 0.0000e+00, 4.5800e-01,\n",
              "         7.1470e+00, 5.4200e+01, 6.0622e+00, 3.0000e+00, 2.2200e+02,\n",
              "         1.8700e+01, 3.9690e+02, 5.3300e+00]]),\n",
              " array([24. , 21.6, 34.7, 33.4, 36.2]))"
            ]
          },
          "metadata": {},
          "execution_count": 60
        }
      ]
    },
    {
      "cell_type": "code",
      "metadata": {
        "id": "EyHOMui4zVjQ"
      },
      "source": [
        "from sklearn.preprocessing import StandardScaler\n",
        "sc = StandardScaler()\n",
        "sc.fit(X)\n",
        "X = sc.transform(X)"
      ],
      "execution_count": null,
      "outputs": []
    },
    {
      "cell_type": "code",
      "metadata": {
        "id": "WzE3FKCa7u0F",
        "colab": {
          "base_uri": "https://localhost:8080/"
        },
        "outputId": "0036e52f-908e-439b-a6b6-2a8831d1769e"
      },
      "source": [
        "X_train, X_test, y_train, y_test = train_test_split(X, y, test_size=0.3)\n",
        "\n",
        "model = Sequential()\n",
        "model.add(Dense(30, input_dim=13, activation='relu'))\n",
        "model.add(Dense(6, activation='relu'))\n",
        "model.add(Dense(1, activation='linear'))    # no need of activation function\n",
        "model.summary()\n",
        "model.compile(loss='mse',\n",
        "              optimizer='adam')\n",
        "\n",
        "history = model.fit(X_train, y_train, epochs=200, batch_size=10, verbose=0)"
      ],
      "execution_count": null,
      "outputs": [
        {
          "output_type": "stream",
          "name": "stdout",
          "text": [
            "Model: \"sequential_2\"\n",
            "_________________________________________________________________\n",
            " Layer (type)                Output Shape              Param #   \n",
            "=================================================================\n",
            " dense_8 (Dense)             (None, 30)                420       \n",
            "                                                                 \n",
            " dense_9 (Dense)             (None, 6)                 186       \n",
            "                                                                 \n",
            " dense_10 (Dense)            (None, 1)                 7         \n",
            "                                                                 \n",
            "=================================================================\n",
            "Total params: 613\n",
            "Trainable params: 613\n",
            "Non-trainable params: 0\n",
            "_________________________________________________________________\n"
          ]
        }
      ]
    },
    {
      "cell_type": "code",
      "metadata": {
        "colab": {
          "base_uri": "https://localhost:8080/"
        },
        "id": "X_WO9pdnX_sE",
        "outputId": "75213602-3148-445e-d840-94a2f41cc69f"
      },
      "source": [
        "history.history.keys()"
      ],
      "execution_count": null,
      "outputs": [
        {
          "output_type": "execute_result",
          "data": {
            "text/plain": [
              "dict_keys(['loss'])"
            ]
          },
          "metadata": {},
          "execution_count": 20
        }
      ]
    },
    {
      "cell_type": "code",
      "metadata": {
        "colab": {
          "base_uri": "https://localhost:8080/"
        },
        "id": "8gU3o-1wXV8e",
        "outputId": "eaf53e46-94a6-489a-8284-c973dd307e98"
      },
      "source": [
        "model.predict(X_test)[:5], model.predict(X_test)[:5].flatten()"
      ],
      "execution_count": null,
      "outputs": [
        {
          "output_type": "stream",
          "name": "stdout",
          "text": [
            "5/5 [==============================] - 0s 2ms/step\n",
            "5/5 [==============================] - 0s 2ms/step\n"
          ]
        },
        {
          "output_type": "execute_result",
          "data": {
            "text/plain": [
              "(array([[25.32094 ],\n",
              "        [18.523514],\n",
              "        [ 4.635003],\n",
              "        [18.500578],\n",
              "        [30.243574]], dtype=float32),\n",
              " array([25.32094 , 18.523514,  4.635003, 18.500578, 30.243574],\n",
              "       dtype=float32))"
            ]
          },
          "metadata": {},
          "execution_count": 21
        }
      ]
    },
    {
      "cell_type": "code",
      "metadata": {
        "id": "XDOd_6B47u0L",
        "colab": {
          "base_uri": "https://localhost:8080/"
        },
        "outputId": "4767642f-7aa3-4819-b660-e4d2d0a28aea"
      },
      "source": [
        "# just for checking\n",
        "model.predict(X_test)[:5][:,0] == model.predict(X_test)[:5].flatten()"
      ],
      "execution_count": null,
      "outputs": [
        {
          "output_type": "stream",
          "name": "stdout",
          "text": [
            "5/5 [==============================] - 0s 2ms/step\n",
            "5/5 [==============================] - 0s 2ms/step\n"
          ]
        },
        {
          "output_type": "execute_result",
          "data": {
            "text/plain": [
              "array([ True,  True,  True,  True,  True])"
            ]
          },
          "metadata": {},
          "execution_count": 65
        }
      ]
    },
    {
      "cell_type": "code",
      "metadata": {
        "id": "3cUW5F8m7u0S",
        "colab": {
          "base_uri": "https://localhost:8080/"
        },
        "outputId": "ddeedbef-c409-447e-b88b-8b93dd714599"
      },
      "source": [
        "# 예측 값과 실제 값의 비교\n",
        "y_pred = model.predict(X_test).flatten()\n",
        "for i in range(10):\n",
        "    label = y_test[i]\n",
        "    prediction = y_pred[i]\n",
        "    print(\"real price: {:.3f}, predicted price: {:.3f}\".format(label, prediction))"
      ],
      "execution_count": null,
      "outputs": [
        {
          "output_type": "stream",
          "name": "stdout",
          "text": [
            "5/5 [==============================] - 0s 2ms/step\n",
            "real price: 27.900, predicted price: 25.321\n",
            "real price: 17.100, predicted price: 18.524\n",
            "real price: 8.800, predicted price: 4.635\n",
            "real price: 21.000, predicted price: 18.501\n",
            "real price: 29.600, predicted price: 30.244\n",
            "real price: 24.800, predicted price: 23.706\n",
            "real price: 22.900, predicted price: 24.338\n",
            "real price: 18.700, predicted price: 19.134\n",
            "real price: 30.800, predicted price: 30.100\n",
            "real price: 18.200, predicted price: 17.025\n"
          ]
        }
      ]
    },
    {
      "cell_type": "code",
      "metadata": {
        "colab": {
          "base_uri": "https://localhost:8080/"
        },
        "id": "5YQIO_jZFJGP",
        "outputId": "76391391-16c2-4996-ddc3-2a52b85231bb"
      },
      "source": [
        "model.evaluate(X_test, y_test)"
      ],
      "execution_count": null,
      "outputs": [
        {
          "output_type": "stream",
          "name": "stdout",
          "text": [
            "5/5 [==============================] - 0s 3ms/step - loss: 9.6770\n"
          ]
        },
        {
          "output_type": "execute_result",
          "data": {
            "text/plain": [
              "9.676989555358887"
            ]
          },
          "metadata": {},
          "execution_count": 67
        }
      ]
    },
    {
      "cell_type": "code",
      "metadata": {
        "colab": {
          "base_uri": "https://localhost:8080/"
        },
        "id": "FsvkzphdGeIB",
        "outputId": "1ab2db9d-8c67-466c-de60-599446ca1eb5"
      },
      "source": [
        "from sklearn.metrics import r2_score\n",
        "print(r2_score(y_test, model.predict(X_test)))\n",
        "print(tf.metrics.mean_squared_error(y_test, model.predict(X_test))[0])"
      ],
      "execution_count": null,
      "outputs": [
        {
          "output_type": "stream",
          "name": "stdout",
          "text": [
            "5/5 [==============================] - 0s 2ms/step\n",
            "0.8735885586239343\n",
            "5/5 [==============================] - 0s 2ms/step\n",
            "tf.Tensor(93.540054, shape=(), dtype=float32)\n"
          ]
        }
      ]
    },
    {
      "cell_type": "code",
      "metadata": {
        "colab": {
          "base_uri": "https://localhost:8080/"
        },
        "id": "aKeTDfceatM3",
        "outputId": "dd57fcb6-b29b-4326-fb4b-feb212596387"
      },
      "source": [
        "y_test.shape, model.predict(X_test).shape"
      ],
      "execution_count": null,
      "outputs": [
        {
          "output_type": "stream",
          "name": "stdout",
          "text": [
            "5/5 [==============================] - 0s 2ms/step\n"
          ]
        },
        {
          "output_type": "execute_result",
          "data": {
            "text/plain": [
              "((152,), (152, 1))"
            ]
          },
          "metadata": {},
          "execution_count": 69
        }
      ]
    },
    {
      "cell_type": "markdown",
      "metadata": {
        "id": "4xpM5TEGZSy_"
      },
      "source": [
        "# Exercise (연습)\n",
        "- tf.function:\n",
        "  - 내부에서 tf 1.x 처럼 graph 와 execution 이 분리되어 실행됨.\n",
        "  - 그래프에 작은 연산이 많을 때 eager execution 모드 보다 빠르다고 알려져 있지만 (합성곱처럼) 계산량이 많은 연산 몇 개로 이루어진 그래프는 속도 향상이 없어 보임.\n",
        "  - 디버깅이 어려워 모든 함수 동작이 확인된 후 붙이는 게 좋음."
      ]
    },
    {
      "cell_type": "code",
      "metadata": {
        "id": "povINYYN7u0Y",
        "colab": {
          "base_uri": "https://localhost:8080/"
        },
        "outputId": "600679ea-0429-49e8-8892-9f1b2b877474"
      },
      "source": [
        "# tf.function: Compiles a function into a callable TensorFlow graph.\n",
        "#               (must be faster), but not always...?\n",
        "import timeit\n",
        "@tf.function\n",
        "def dense_layer1(x, w, b):\n",
        "    return tf.add(tf.matmul(x, w), b)\n",
        "\n",
        "%time dense_layer1(tf.ones([3, 2]), tf.ones([2, 2]), tf.ones([2]))"
      ],
      "execution_count": null,
      "outputs": [
        {
          "output_type": "stream",
          "name": "stdout",
          "text": [
            "CPU times: user 42.8 ms, sys: 1.91 ms, total: 44.7 ms\n",
            "Wall time: 45.3 ms\n"
          ]
        },
        {
          "output_type": "execute_result",
          "data": {
            "text/plain": [
              "<tf.Tensor: shape=(3, 2), dtype=float32, numpy=\n",
              "array([[3., 3.],\n",
              "       [3., 3.],\n",
              "       [3., 3.]], dtype=float32)>"
            ]
          },
          "metadata": {},
          "execution_count": 70
        }
      ]
    },
    {
      "cell_type": "code",
      "metadata": {
        "colab": {
          "base_uri": "https://localhost:8080/"
        },
        "id": "_wTG0uPKbwAI",
        "outputId": "8ab08179-1a1d-44dd-f045-32b4fb2f6433"
      },
      "source": [
        "def dense_layer2(x, w, b):\n",
        "    return tf.add(tf.matmul(x, w), b)\n",
        "\n",
        "%time dense_layer2(tf.ones([3, 2]), tf.ones([2, 2]), tf.ones([2]))"
      ],
      "execution_count": null,
      "outputs": [
        {
          "output_type": "stream",
          "name": "stdout",
          "text": [
            "CPU times: user 1.65 ms, sys: 0 ns, total: 1.65 ms\n",
            "Wall time: 1.51 ms\n"
          ]
        },
        {
          "output_type": "execute_result",
          "data": {
            "text/plain": [
              "<tf.Tensor: shape=(3, 2), dtype=float32, numpy=\n",
              "array([[3., 3.],\n",
              "       [3., 3.],\n",
              "       [3., 3.]], dtype=float32)>"
            ]
          },
          "metadata": {},
          "execution_count": 71
        }
      ]
    },
    {
      "cell_type": "code",
      "metadata": {
        "id": "u8XV1hi7bX5-",
        "colab": {
          "base_uri": "https://localhost:8080/"
        },
        "outputId": "adaaea19-359e-4a0f-b210-f9b116ce5e49"
      },
      "source": [
        "import timeit\n",
        "conv_layer = tf.keras.layers.Conv2D(100, 3)\n",
        "\n",
        "@tf.function\n",
        "def conv_fn(image):\n",
        "  return conv_layer(image)\n",
        "\n",
        "image = tf.zeros([1, 200, 200, 100])\n",
        "# 워밍 업\n",
        "conv_layer(image); conv_fn(image)\n",
        "print(\"Eager execution convolution:\", timeit.timeit(lambda: conv_layer(image), number=10))\n",
        "print(\"tf.function convolution:\", timeit.timeit(lambda: conv_fn(image), number=10))\n",
        "print(\"no difference between these two to execute convolution !\")"
      ],
      "execution_count": null,
      "outputs": [
        {
          "output_type": "stream",
          "name": "stdout",
          "text": [
            "Eager execution convolution: 0.013682682999842655\n",
            "tf.function convolution: 0.01231922199986002\n",
            "no difference between these two to execute convolution !\n"
          ]
        }
      ]
    }
  ]
}